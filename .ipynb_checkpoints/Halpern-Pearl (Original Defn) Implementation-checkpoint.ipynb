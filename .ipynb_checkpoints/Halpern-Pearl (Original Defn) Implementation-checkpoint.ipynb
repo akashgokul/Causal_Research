{
 "cells": [
  {
   "cell_type": "code",
   "execution_count": 4,
   "metadata": {},
   "outputs": [],
   "source": [
    "#Used to find subsets of lists\n",
    "import itertools"
   ]
  },
  {
   "cell_type": "code",
   "execution_count": 121,
   "metadata": {},
   "outputs": [],
   "source": [
    "##Helper functions\n",
    "\n",
    "#Updates endogenous variables (V) given a certain state X,W\n",
    "#i.e. sets to True/False given X or W\n",
    "def V_given_set(V,X_or_W,indices):\n",
    "    updated_V = V.copy()\n",
    "    var_seen = 0\n",
    "    for i in range(len(V)):\n",
    "        if i in indices:\n",
    "            updated_V[i] = X_or_W[var_seen]\n",
    "            var_seen += 1\n",
    "    return updated_V\n",
    "    \n",
    "#Creates a list of all subsets (cardinality >= 1) of a given lst\n",
    "#Used https://bit.ly/2YVGYxt\n",
    "def subsets_finder(indices):\n",
    "    #indices corresp. to elem of some lst opposed to using indices corresp to V.\n",
    "    updated_idx = [i for i in range(len(indices))]\n",
    "    if(len(indices)<=1):\n",
    "        return [updated_idx]\n",
    "    else:\n",
    "        return [list(subset) for i in range(0, len(updated_idx))\n",
    "                  for subset in itertools.combinations(updated_idx, i)]\n",
    "\n",
    "#returns list of all possible splits(take indices finds all )\n",
    "#Used: https://bit.ly/2KfTeFk\n",
    "def partitions(indices):\n",
    "    subsets = [v for a in range(len(indices)) for v in itertools.combinations(indices, a)]\n",
    "    comb = []\n",
    "    for i in range(len(subsets)//2 + 1):\n",
    "        comb.append((list(itertools.chain(subsets[i])), [e for e in indices if e not in subsets[i]]))\n",
    "    return comb\n",
    "    \n",
    "#Given certain indices, updates lst[i] = not lst[i] for i in indices\n",
    "def update_var(lst,indices):\n",
    "    return_lst = lst.copy()\n",
    "    for i in range(len(lst)):\n",
    "        if(i in indices):\n",
    "            return_lst[i] = not lst[i]\n",
    "    return return_lst\n",
    "\n",
    "#Extracts given elements from X using t\n",
    "def extract_X(X,t):\n",
    "    return_lst = []\n",
    "    for i in t:\n",
    "        return_lst.append(X[i])\n",
    "    return return_lst\n",
    "\n",
    "#Created a class of original H.P defn of Causality\n",
    "class Causal_Model:\n",
    "    #U,V,F are assumed to be lists for simplicity sake\n",
    "    #Assumed that final var = outcome (e.g. last elem of V = Forest Fire)\n",
    "    #U,V are boolean values corresp. to some list of var\n",
    "    #F is a list of pointers to functions (e.g. def foo())\n",
    "    def __init__(self, U, V, R, F):\n",
    "        self.exogenous_var = U\n",
    "        self.endogenous_var = V\n",
    "        self.var_range = R\n",
    "        self.function = F\n",
    "        self.signature = (U,V,R)\n",
    "        self.model = (self.signature,F)\n",
    "    \n",
    "    \n",
    "    \n",
    "    # For the following, I assume that this can be used to check causality if an outcome did not occur(?)\n",
    "    \n",
    "    #AC1 of defn, checks if outcome = function for given X\n",
    "    #outcome_val refers to desired outcome\n",
    "    def ac1_check(self,X,X_indices,outcome_function,outcome_val):\n",
    "        V = V_given_set(self.endogenous_var,X,X_indices)\n",
    "        outcome_given_X = outcome_function(self.exogenous_var,V)\n",
    "        return outcome_given_X == outcome_val\n",
    "\n",
    "    #AC2(a) checks the but-for clause, i.e changing X would lead to opposite outcome\n",
    "    #2005 paper says W->w' but modified defn. paper says W->w, func is using the latter \n",
    "    #This function finds the correct W, and calls ac2_b\n",
    "    def ac2_a_check(self,Z,Z_indices,X,X_indices,W,W_indices,outcome_function,outcome_val):\n",
    "        V = V_given_set(self.endogenous_var,Z,Z_indices)\n",
    "        V = V_given_set(V,W,W_indices)\n",
    "        x_prime = [not i for i in X]\n",
    "        V_given_x_prime = V_given_set(V,x_prime,X_indices)\n",
    "        outcome = outcome_function(self.exogenous_var,V_given_x_prime)\n",
    "        #Checks if initial W is optimal and returns\n",
    "        if outcome_val != outcome:\n",
    "            return True\n",
    "        else:\n",
    "            return False\n",
    "    \n",
    "    \n",
    "    #Checks AC2(b) of the defn\n",
    "    #Checks that outcome holds for all other W, fixing Z\n",
    "    def ac2_b_check(self,Z,Z_indices,X,X_indices,W,W_indices,outcome_function, outcome_val):\n",
    "        V_fixed_Z = V_given_set(self.endogenous_var,Z,Z_indices)\n",
    "        subsets_of_W = subsets_finder(W_indices)\n",
    "        updated_W = W\n",
    "        for indices in subsets_of_W:\n",
    "            updated_W = update_var(W,indices)\n",
    "            curr_V = V_given_set(V_fixed_Z,updated_W,W_indices)\n",
    "            outcome = outcome_function(self.exogenous_var,curr_V)\n",
    "            if outcome_val != outcome:\n",
    "                return False\n",
    "        return True\n",
    "    \n",
    "    \n",
    "    def ac2_check_given_Z_W(self,Z,Z_indices,X,X_indices,W,W_indices,outcome_function,outcome_val):\n",
    "        ac2_a = self.ac2_a_check(Z,Z_indices,X,X_indices,W,W_indices,outcome_function,outcome_val)\n",
    "        ac2_b = self.ac2_b_check(Z,Z_indices,X,X_indices,W,W_indices,outcome_function,outcome_val)\n",
    "        if(ac2_a and ac2_b):\n",
    "            return True\n",
    "        else:\n",
    "            return False\n",
    "        \n",
    "    \n",
    "    def Z_and_W_search(self,X,X_indices,outcome_function,outcome_val):\n",
    "        Z = X.copy()\n",
    "        Z_indices = X_indices.copy()\n",
    "        Useable_V_indices = [i for i in range(len(self.endogenous_var)) if i not in X_indices]\n",
    "        splits = partitions(Useable_V_indices)\n",
    "        for partition in splits:\n",
    "            curr_Z_indices_no_X = partition[0]\n",
    "            curr_W_indices = partition[1]\n",
    "            curr_Z_indices = Z_indices + curr_Z_indices_no_X\n",
    "            curr_Z = [self.endogenous_var[i] for i in curr_Z_indices]\n",
    "            curr_W = [self.endogenous_var[i] for i in curr_W_indices]\n",
    "            ac2_check = self.ac2_check_given_Z_W(curr_Z,curr_Z_indices,X,X_indices,\n",
    "                                                 curr_W,curr_W_indices,outcome_function,outcome_val)\n",
    "            if(ac2_check):\n",
    "                return True\n",
    "            else:\n",
    "                curr_Z_no_X = [self.endogenous_var[i] for i in curr_Z_indices_no_X]\n",
    "                subsets_of_curr_Z_no_X = subsets_finder(curr_Z_indices_no_X)\n",
    "                subsets_of_curr_W = subsets_finder(curr_W_indices)\n",
    "                for sub_z in subsets_of_curr_Z_no_X:\n",
    "                    updated_Z = Z + update_var(curr_Z_no_X,sub_z)\n",
    "                    for sub_w in subsets_of_curr_W:\n",
    "                        updated_W = update_var(curr_W,sub_w)\n",
    "                        ac2_check = self.ac2_check_given_Z_W(updated_Z,curr_Z_indices,X,X_indices,updated_W,\n",
    "                                                             curr_W_indices,outcome_function,outcome_val)\n",
    "                        if(ac2_check):\n",
    "                            return True\n",
    "        return False\n",
    "                    \n",
    "    \n",
    "    \n",
    "    def ac2_check(self,X,X_indices,outcome_function,outcome_val):\n",
    "        return self.Z_and_W_search(X,X_indices,outcome_function,outcome_val)\n",
    "    \n",
    "    \n",
    "    \n",
    "    #Checks that X is minimal by iterating over all subsets\n",
    "    def ac3_check(self,X,X_indices,outcome_function,outcome_val):\n",
    "        if(len(X) <= 1):\n",
    "            return True\n",
    "        \n",
    "        subsets_of_X = subsets_finder(X_indices)\n",
    "        for i in subsets_of_X:\n",
    "            updated_X = extract_X(X,i)\n",
    "            W_indices = [j for j in range(len(self.endogenous_var)) if j not in i]\n",
    "            W = [self.endogenous_var[k] for k in W_indices]\n",
    "            ac2_check = self.ac2_a_check(updated_X,i,updated_X,i,W,W_indices,outcome_function,outcome_val)\n",
    "            if(ac2_check):\n",
    "                return False\n",
    "            \n",
    "        return True\n",
    "    #Error checking\n",
    "    def wrong_check(self,ac_1,ac_2,ac_3):\n",
    "        if (not ac_1):\n",
    "            print(\"(False b/c of AC1)\")\n",
    "        if(not ac_2):\n",
    "            print(\"(False b/c of AC2)\")\n",
    "        if(not ac_3):\n",
    "            print(\"(False b/c of AC3)\")\n",
    "    \n",
    "    #Returns true if X satisfies HP defn, False o.w.\n",
    "    def causality_check(self,X,X_indices,outcome_val,outcome_func):\n",
    "        ac_1 = self.ac1_check(X,X_indices,outcome_func,outcome_val)\n",
    "        ac_2 = self.ac2_check(X,X_indices,outcome_func,outcome_val)\n",
    "        ac_3 = self.ac3_check(X,X_indices,outcome_func,outcome_val)\n",
    "        self.wrong_check(ac_1,ac_2,ac_3)\n",
    "        return ac_1 and ac_2 and ac_3"
   ]
  },
  {
   "cell_type": "markdown",
   "metadata": {},
   "source": [
    "## Testing\n",
    "### Using examples from 2005 HP paper"
   ]
  },
  {
   "cell_type": "markdown",
   "metadata": {},
   "source": [
    "### Example 2.1: Forest Fire (F) caused by either Lightning (L) or Match Lit (ML) "
   ]
  },
  {
   "cell_type": "code",
   "execution_count": 122,
   "metadata": {},
   "outputs": [],
   "source": [
    "#Initializes U to True for random exogen. var (val/var not important)\n",
    "#Initializes V to False (can also do True)\n",
    "#R is trivially set to 0 or 1\n",
    "# Index[0] = L ; Index[1] = ML ; Index[2] = F\n",
    "U = [True,True,True]\n",
    "V = [False,False,False]\n",
    "R = [(False,True),(False,True),(False,True)]\n",
    "def forest_fire(U,V):\n",
    "    return V[0] or V[1]\n",
    "F_f = forest_fire\n",
    "F = [None, None, F_f]\n",
    "FF_model = Causal_Model(U,V,R,F)"
   ]
  },
  {
   "cell_type": "code",
   "execution_count": 123,
   "metadata": {},
   "outputs": [
    {
     "name": "stdout",
     "output_type": "stream",
     "text": [
      "Testing Casuality of Lightning (Correct Val = True):\n",
      "True\n"
     ]
    }
   ],
   "source": [
    "X = [True]\n",
    "X_index = [0]\n",
    "print(\"Testing Casuality of Lightning (Correct Val = True):\")\n",
    "print(FF_model.causality_check(X,X_index,True,F_f))"
   ]
  },
  {
   "cell_type": "code",
   "execution_count": 124,
   "metadata": {},
   "outputs": [
    {
     "name": "stdout",
     "output_type": "stream",
     "text": [
      "Testing for ML (Correct Val = True):\n",
      "True\n"
     ]
    }
   ],
   "source": [
    "X_ml = [True]\n",
    "X_ml_index = [1]\n",
    "print(\"Testing for ML (Correct Val = True):\")\n",
    "print(FF_model.causality_check(X_ml,X_ml_index,True,F_f))"
   ]
  },
  {
   "cell_type": "code",
   "execution_count": 125,
   "metadata": {},
   "outputs": [
    {
     "name": "stdout",
     "output_type": "stream",
     "text": [
      "Testing for Both (Correct Val = False b/c X is not minimal?):\n",
      "(False b/c of AC3)\n",
      "False\n"
     ]
    }
   ],
   "source": [
    "X_both = [True,True]\n",
    "X_both_index = [0,1]\n",
    "print(\"Testing for Both (Correct Val = False b/c X is not minimal?):\")\n",
    "print(FF_model.causality_check(X_both,X_both_index,True,F_f))"
   ]
  },
  {
   "cell_type": "markdown",
   "metadata": {},
   "source": [
    "## Example 3.2 - Case 1 (Disjunctive): \n",
    "### Two Arsonists drop lit matches, either match suffices to burn the forest down"
   ]
  },
  {
   "cell_type": "code",
   "execution_count": 126,
   "metadata": {},
   "outputs": [],
   "source": [
    "#U = [Some Condition, Intention of Arsonist 1, Intention of Arsonist 2, Intention of both]\n",
    "#V  = [Match_Lit_Arsonist_1, Match_Lit_Aronist_2, ForestFire]\n",
    "U = [True,True,True,True]\n",
    "V = [True,True,True]\n",
    "R = [(False,True),(False,True),(False,True)]\n",
    "def disjunctive_forest_fire(U,V):\n",
    "    return V[0] or V[1]\n",
    "F_df = [None,None,disjunctive_forest_fire]\n",
    "Arson_model = Causal_Model(U,V,R,F_df)"
   ]
  },
  {
   "cell_type": "code",
   "execution_count": 127,
   "metadata": {},
   "outputs": [
    {
     "name": "stdout",
     "output_type": "stream",
     "text": [
      "Testing Casuality of Arsonist 1(Correct Val = True):\n",
      "True\n"
     ]
    }
   ],
   "source": [
    "X = [True]\n",
    "X_index = [0]\n",
    "print(\"Testing Casuality of Arsonist 1(Correct Val = True):\")\n",
    "print(Arson_model.causality_check(X,X_index,True,disjunctive_forest_fire))"
   ]
  },
  {
   "cell_type": "code",
   "execution_count": 128,
   "metadata": {},
   "outputs": [
    {
     "name": "stdout",
     "output_type": "stream",
     "text": [
      "Testing Casuality of Arsonist 2(Correct Val = True):\n",
      "True\n"
     ]
    }
   ],
   "source": [
    "X = [True]\n",
    "X_index = [1]\n",
    "print(\"Testing Casuality of Arsonist 2(Correct Val = True):\")\n",
    "print(Arson_model.causality_check(X,X_index,True,disjunctive_forest_fire))"
   ]
  },
  {
   "cell_type": "code",
   "execution_count": 166,
   "metadata": {},
   "outputs": [
    {
     "name": "stdout",
     "output_type": "stream",
     "text": [
      "Testing Casuality of BOTH(Correct Val = False (b/c not minimal)):\n",
      "True\n"
     ]
    }
   ],
   "source": [
    "X = [True,True]\n",
    "X_index = [0,1]\n",
    "print(\"Testing Casuality of BOTH(Correct Val = False (b/c not minimal)):\")\n",
    "print(Arson_model.causality_check(X,X_index,True,disjunctive_forest_fire))"
   ]
  },
  {
   "cell_type": "markdown",
   "metadata": {},
   "source": [
    "## Example 3.2 - Case 2 (Conjuctive): \n",
    "### Two Arsonists drop lit matches, need BOTH matches to burn forest"
   ]
  },
  {
   "cell_type": "code",
   "execution_count": 130,
   "metadata": {},
   "outputs": [],
   "source": [
    "#U = [Some Condition, Intention of Arsonist 1, Intention of Arsonist 2, Intention of both]\n",
    "#V  = [Match_Lit_Arsonist_1, Match_Lit_Aronist_2, ForestFire]\n",
    "U = [True,True,True,True]\n",
    "V = [True,True,True]\n",
    "R = [(False,True),(False,True),(False,True)]\n",
    "def conjunctive_forest_fire(U,V):\n",
    "    return V[0] and V[1]\n",
    "F_df = [None,None,conjunctive_forest_fire]\n",
    "Arson2_model = Causal_Model(U,V,R,F_df)"
   ]
  },
  {
   "cell_type": "code",
   "execution_count": 131,
   "metadata": {},
   "outputs": [
    {
     "name": "stdout",
     "output_type": "stream",
     "text": [
      "Testing Casuality of ONLY Arsonist 1(Correct Val = True):\n",
      "True\n"
     ]
    }
   ],
   "source": [
    "X = [True]\n",
    "X_index = [0]\n",
    "print(\"Testing Casuality of ONLY Arsonist 1(Correct Val = True):\")\n",
    "print(Arson2_model.causality_check(X,X_index,True,conjunctive_forest_fire))"
   ]
  },
  {
   "cell_type": "code",
   "execution_count": 132,
   "metadata": {},
   "outputs": [
    {
     "name": "stdout",
     "output_type": "stream",
     "text": [
      "Testing Casuality of ONLY Arsonist 2(Correct Val = True):\n",
      "True\n"
     ]
    }
   ],
   "source": [
    "X = [True]\n",
    "X_index = [1]\n",
    "print(\"Testing Casuality of ONLY Arsonist 2(Correct Val = True):\")\n",
    "print(Arson2_model.causality_check(X,X_index,True,conjunctive_forest_fire))"
   ]
  },
  {
   "cell_type": "code",
   "execution_count": 133,
   "metadata": {},
   "outputs": [
    {
     "name": "stdout",
     "output_type": "stream",
     "text": [
      "Testing Casuality of BOTH Arsonists (Correct Val = False):\n",
      "(False b/c of AC3)\n",
      "False\n"
     ]
    }
   ],
   "source": [
    "X = [True,True]\n",
    "X_index = [0,1]\n",
    "print(\"Testing Casuality of BOTH Arsonists (Correct Val = False):\")\n",
    "print(Arson2_model.causality_check(X,X_index,True,conjunctive_forest_fire))"
   ]
  },
  {
   "cell_type": "markdown",
   "metadata": {},
   "source": [
    "## Example 4.1: \n",
    "### Rain in April,May (+Electric Showers in May/June) and then lightning in June -> Forest Fire\n",
    "### Question: Did April's showers cause the fire in June opposed to May?"
   ]
  },
  {
   "cell_type": "code",
   "execution_count": 134,
   "metadata": {},
   "outputs": [],
   "source": [
    "#U is trivial let it be (for e.g.) U[0] = sufficient FF conditions in May U[1] = [...] in June\n",
    "#V[0] = April Showers; V[1] = No Electric Storm (E.s) (May or June) V[2] = E.S only in May V[3] = E.S only in June \n",
    "#V[4] = E.S. Both; V[5] = FF in May V[6] = No FF in May V[7] = FF in June\n",
    "# R is trivial\n",
    "U = [True,True]\n",
    "V = [True,False,False,False,True,False,False,True]\n",
    "R = [(False, True),(False, True),(False,True),(False,True),(False,True),(False,True),(False,True)]\n",
    "def April_showers_bring_June_Fires(U,V):\n",
    "    return V[0] and (V[3] or V[4])\n",
    "F_storms = [None,None,None,None,None,None,None,April_showers_bring_June_Fires]\n",
    "Storm_FF = Causal_Model(U,V,R,F_storms)"
   ]
  },
  {
   "cell_type": "code",
   "execution_count": 135,
   "metadata": {},
   "outputs": [
    {
     "name": "stdout",
     "output_type": "stream",
     "text": [
      "Testing Causality of April Showers on June Fire: (Correct Val = True)\n",
      "True\n"
     ]
    }
   ],
   "source": [
    "X = [True]\n",
    "X_index = [0]\n",
    "print(\"Testing Causality of April Showers on June Fire: (Correct Val = True)\")\n",
    "print(Storm_FF.causality_check(X,X_index,True,April_showers_bring_June_Fires))"
   ]
  },
  {
   "cell_type": "code",
   "execution_count": 136,
   "metadata": {},
   "outputs": [
    {
     "name": "stdout",
     "output_type": "stream",
     "text": [
      "Testing Causality of April Showers and E.S (in May & June) on June Fire: (Correct Val = False (AC3))\n",
      "(False b/c of AC3)\n",
      "False\n"
     ]
    }
   ],
   "source": [
    "X = [True,True]\n",
    "X_index = [0,4]\n",
    "print(\"Testing Causality of April Showers and E.S (in May & June) on June Fire: (Correct Val = False (AC3))\")\n",
    "print(Storm_FF.causality_check(X,X_index,True,April_showers_bring_June_Fires))"
   ]
  },
  {
   "cell_type": "markdown",
   "metadata": {},
   "source": [
    "\n",
    "## Example 4.2\n",
    "### Suzy and Billy throw rocks at a bottle. Suzy's rock hits the bottle first, causing it to shatter. However, had she not thrown, Billy's rock would have shattered the bottle.\n",
    "### Is Suzy a cause of bottle shattering?"
   ]
  },
  {
   "cell_type": "code",
   "execution_count": 138,
   "metadata": {},
   "outputs": [],
   "source": [
    "#Initializes U to some random exogenous var (e.g. Suzy,Billy state of mind)\n",
    "#V[0] = Suzy Throws ; V[1] = Suzy's Rock Hits Bottle; V[2] = Billy Throws; \n",
    "# V[3] = Billy Rock Hits Bottle; V[4] = Bottle Shatters\n",
    "U = [True, True]\n",
    "V = [True,True,True,False,True]\n",
    "R = [(False,True),(False,True),(False,True)]\n",
    "#bottle shatters in this scenario (where Suzy is first)\n",
    "def bottle_shatters(U,V):\n",
    "    return (V[0] and V[1])\n",
    "F_SB = [None,None,bottle_shatters]\n",
    "SB_model = Causal_Model(U,V,R,F_SB)"
   ]
  },
  {
   "cell_type": "code",
   "execution_count": 139,
   "metadata": {},
   "outputs": [
    {
     "name": "stdout",
     "output_type": "stream",
     "text": [
      "Testing Casuality of Suzy Throw/Hit(Correct Val = True):\n",
      "True\n"
     ]
    }
   ],
   "source": [
    "X = [True]\n",
    "X_index = [0]\n",
    "print(\"Testing Casuality of Suzy Throw/Hit(Correct Val = True):\")\n",
    "print(SB_model.causality_check(X,X_index,True,bottle_shatters))"
   ]
  },
  {
   "cell_type": "code",
   "execution_count": 140,
   "metadata": {},
   "outputs": [
    {
     "name": "stdout",
     "output_type": "stream",
     "text": [
      "Testing Casuality of Billy Throw(Correct Val = False):\n",
      "(False b/c of AC2)\n",
      "False\n"
     ]
    }
   ],
   "source": [
    "X = [True]\n",
    "X_index = [2]\n",
    "print(\"Testing Casuality of Billy Throw(Correct Val = False):\")\n",
    "print(SB_model.causality_check(X,X_index,True,bottle_shatters))"
   ]
  },
  {
   "cell_type": "markdown",
   "metadata": {},
   "source": [
    "## Example 4.3\n",
    "### Billy is hospitalized on Monday, Dr. forgets to give medication on Monday. Say Dr. on Monday and Dr. on Tuesday are reliable and the following twist: one dose is harmless, two doses are lethal.\n"
   ]
  },
  {
   "cell_type": "code",
   "execution_count": 141,
   "metadata": {},
   "outputs": [],
   "source": [
    "# U is trivial, say it is U[0] = Medicine available Mon.  U[1] = [...] on Tuesday \n",
    "# V[0] = Given medicine on Monday (MT)\n",
    "#V[1] = Given medicine on Tuesday (TT)\n",
    "# V[2] = Billy alive on Tuesday Morning \n",
    "# V[3] = Billy alive and well on Tuesday Morning\n",
    "# V[4] = Billy sick on Tuesday Mornining (and alive) and recovers Tuesday afternoon\n",
    "# V[5] = Billy sick Tuesday morning and afternoon (so missed treatment?)\n",
    "# V[6] = Billy recovered Tuesday morning and is dead Tuesday afternoon \n",
    "U = [True,True]\n",
    "V = [True,False,True,False,True,False,False]\n",
    "R = [(False, True),(False, True),(False,True),(False,True),(False,True),(False,True)]\n",
    "def billy_alive(U,V):\n",
    "    return V[2] or V[3] or V[4] or V[5]\n",
    "def billy_dead(U,V):\n",
    "    return V[0] and V[1]\n",
    "F_billy = [None,None,billy_alive,billy_alive,billy_alive,billy_dead]\n",
    "Billy_model = Causal_Model(U,V,R,F_billy)"
   ]
  },
  {
   "cell_type": "code",
   "execution_count": 142,
   "metadata": {},
   "outputs": [
    {
     "name": "stdout",
     "output_type": "stream",
     "text": [
      "Testing if MT = 1 is a cause of Billy alive (Expected: False)\n",
      "(False b/c of AC2)\n",
      "False\n"
     ]
    }
   ],
   "source": [
    "X = [True]\n",
    "X_index = [0]\n",
    "print(\"Testing if MT = 1 is a cause of Billy alive (Expected: False)\")\n",
    "print(Billy_model.causality_check(X,X_index,True,billy_alive))"
   ]
  },
  {
   "cell_type": "code",
   "execution_count": 143,
   "metadata": {},
   "outputs": [
    {
     "name": "stdout",
     "output_type": "stream",
     "text": [
      "Testing if TT=1 is a cause of Billy Dead (Expected: True)\n",
      "True\n"
     ]
    }
   ],
   "source": [
    "X = [True]\n",
    "X_index = [1]\n",
    "print(\"Testing if TT=1 is a cause of Billy Dead (Expected: True)\")\n",
    "print(Billy_model.causality_check(X,X_index,True,billy_dead))"
   ]
  },
  {
   "cell_type": "code",
   "execution_count": 144,
   "metadata": {},
   "outputs": [
    {
     "name": "stdout",
     "output_type": "stream",
     "text": [
      "Testing if MT=1 is a cause of TT = 0(Expected: True)\n",
      "True\n"
     ]
    }
   ],
   "source": [
    "def tuesday_treatment(U,V):\n",
    "    return not V[0]\n",
    "X = [True]\n",
    "X_index = [0]\n",
    "print(\"Testing if MT=1 is a cause of TT = 0(Expected: True)\")\n",
    "print(Billy_model.causality_check(X,X_index,False,tuesday_treatment))"
   ]
  }
 ],
 "metadata": {
  "kernelspec": {
   "display_name": "Python 3",
   "language": "python",
   "name": "python3"
  },
  "language_info": {
   "codemirror_mode": {
    "name": "ipython",
    "version": 3
   },
   "file_extension": ".py",
   "mimetype": "text/x-python",
   "name": "python",
   "nbconvert_exporter": "python",
   "pygments_lexer": "ipython3",
   "version": "3.7.1"
  }
 },
 "nbformat": 4,
 "nbformat_minor": 2
}
