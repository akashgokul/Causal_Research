{
 "cells": [
  {
   "cell_type": "code",
   "execution_count": 264,
   "metadata": {},
   "outputs": [],
   "source": [
    "#Used to find subsets of lists\n",
    "import itertools\n",
    "import numpy as np\n",
    "import matplotlib.pyplot as plt\n",
    "from mpl_toolkits.mplot3d import Axes3D"
   ]
  },
  {
   "cell_type": "code",
   "execution_count": 294,
   "metadata": {},
   "outputs": [],
   "source": [
    "##Helper functions\n",
    "\n",
    "#Updates endogenous variables (V) given a certain state X,W\n",
    "#i.e. sets to True/False given X or W\n",
    "def V_given_set(V,X_or_W,indices):\n",
    "    updated_V = V.copy()\n",
    "    var_seen = 0\n",
    "    for i in range(len(V)):\n",
    "        if i in indices:\n",
    "            updated_V[i] = X_or_W[var_seen]\n",
    "            var_seen += 1\n",
    "    return updated_V\n",
    "    \n",
    "#Creates a list of all subsets (cardinality >= 1) of a given lst\n",
    "#Used https://bit.ly/2YVGYxt\n",
    "def subsets_finder(indices):\n",
    "    #indices corresp. to elem of some lst opposed to using indices corresp to V.\n",
    "    updated_idx = [i for i in range(len(indices))]\n",
    "    return [list(subset) for i in range(0, len(updated_idx)+1)\n",
    "            for subset in itertools.combinations(updated_idx, i)]\n",
    "\n",
    "#returns list of all possible splits(take indices finds all )\n",
    "#Used: https://bit.ly/2KfTeFk\n",
    "def partitions(indices):\n",
    "    subsets = [v for a in range(len(indices)) for v in itertools.combinations(indices, a)]\n",
    "    comb = []\n",
    "    for i in range(len(subsets)//2 + 1):\n",
    "        comb.append((list(itertools.chain(subsets[i])), [e for e in indices if e not in subsets[i]]))\n",
    "    return comb\n",
    "    \n",
    "#Given certain indices, updates lst[i] = not lst[i] for i in indices\n",
    "def negate_var(lst,indices):\n",
    "    return_lst = lst.copy()\n",
    "    for i in range(len(lst)):\n",
    "        if(i in indices):\n",
    "            return_lst[i] = not lst[i]\n",
    "    return return_lst\n",
    "\n",
    "#Extracts given elements from X using t\n",
    "def extract_X(X,t):\n",
    "    return_lst = []\n",
    "    for i in t:\n",
    "        return_lst.append(X[i])\n",
    "    return return_lst\n",
    "\n",
    "\n",
    "#Created a class of original H.P defn of Causality\n",
    "class Causal_Model:\n",
    "    #U,V,F are assumed to be lists for simplicity sake\n",
    "    #Assumed that final var = outcome (e.g. last elem of V = Forest Fire)\n",
    "    #U,V are boolean values corresp. to some list of var\n",
    "    #F is a list of pointers to functions (e.g. def foo())\n",
    "    def __init__(self, U, V, R, F):\n",
    "        self.exogenous_var = U\n",
    "        self.endogenous_var = V\n",
    "        self.var_range = R\n",
    "        self.function = F\n",
    "        self.signature = (U,V,R)\n",
    "        self.model = (self.signature,F)\n",
    "    \n",
    "    \n",
    "    \n",
    "    # For the following, I assume that this can be used to check causality if an outcome did not occur(?)\n",
    "    \n",
    "    #AC1 of defn, checks if outcome = function for given X\n",
    "    #outcome_val refers to desired outcome\n",
    "    def ac1_check(self,X,X_indices,outcome_function,outcome_val):\n",
    "        V = V_given_set(self.endogenous_var,X,X_indices)\n",
    "        outcome_given_X = outcome_function(self.exogenous_var,V)\n",
    "        return outcome_given_X == outcome_val\n",
    "\n",
    "    #AC2(a) checks the but-for clause, i.e changing X would lead to opposite outcome\n",
    "    #2005 paper says W->w' but modified defn. paper says W->w, func is using the latter \n",
    "    #This function finds the correct W, and calls ac2_b\n",
    "    def ac2_a_check(self,Z,Z_indices,X,X_indices,W,W_indices,outcome_function,outcome_val):\n",
    "        V = V_given_set(self.endogenous_var,Z,Z_indices)\n",
    "        V = V_given_set(V,W,W_indices)\n",
    "        x_prime = [not i for i in X]\n",
    "        V_given_x_prime = V_given_set(V,x_prime,X_indices)\n",
    "        outcome = outcome_function(self.exogenous_var,V_given_x_prime)\n",
    "        #Checks if initial W is optimal and returns\n",
    "        if outcome_val != outcome:\n",
    "            return True\n",
    "        else:\n",
    "            return False\n",
    "    \n",
    "    \n",
    "    #Checks AC2(b) of the defn\n",
    "    #Checks that outcome holds for all subsets of Z (Z') if Z' is set to original value\n",
    "    def ac2_b_check(self,Z,Z_indices,X,X_indices,W,W_indices,outcome_function, outcome_val):\n",
    "        V = self.endogenous_var\n",
    "        V_fixed_W = V_given_set(V,W,W_indices)\n",
    "        subsets_of_Z = subsets_finder(Z_indices)\n",
    "        orig_Z = [V[i] for i in Z_indices]\n",
    "        curr_Z = Z.copy()\n",
    "        for subset in subsets_of_Z:\n",
    "            for i in subset:\n",
    "                curr_Z[i] = orig_Z[i]\n",
    "            curr_V = V_given_set(V_fixed_W,curr_Z,Z_indices)\n",
    "            outcome = outcome_function(self.exogenous_var,curr_V)\n",
    "            if(outcome_val != outcome):\n",
    "                return False\n",
    "            else:\n",
    "                curr_Z = Z.copy()\n",
    "        return True\n",
    "    \n",
    "    #Checks AC2(b^u) of the defn\n",
    "    #Checks that outcome holds for all subsets of W (W') and Z(Z') if W',Z' is set to original value\n",
    "    def ac2_b_u_check(self,Z,Z_indices,X,X_indices,W,W_indices,outcome_function, outcome_val):\n",
    "        V = self.endogenous_var\n",
    "        subsets_of_Z = subsets_finder(Z_indices)\n",
    "        subsets_of_W = subsets_finder(W_indices)\n",
    "        orig_Z = [V[i] for i in Z_indices]\n",
    "        curr_Z = Z.copy()\n",
    "        orig_W = [V[i] for i in W_indices]\n",
    "        curr_W = W.copy()\n",
    "        for sub_Z in subsets_of_Z:\n",
    "            for i in sub_Z:\n",
    "                curr_Z[i] = orig_Z[i]\n",
    "            for sub_W in subsets_of_W:\n",
    "                for i in sub_W:\n",
    "                    curr_W[i] = orig_W[i]\n",
    "                curr_V = V_given_set(V,curr_Z,Z_indices)\n",
    "                curr_V = V_given_set(curr_V,curr_W,W_indices)\n",
    "                outcome = outcome_function(self.exogenous_var,curr_V)\n",
    "                curr_W = W.copy()\n",
    "                if(outcome_val != outcome):\n",
    "                    return False\n",
    "            curr_Z = Z.copy()\n",
    "        return True\n",
    "    \n",
    "    #Returns true if ac2_a^m is satisfied\n",
    "    #Also gives the coresp. W,W_indices that satisfy the defn\n",
    "    #Output: [W, W_indices, T/F]\n",
    "    def ac2_m_check(self,X,X_indices,outcome_function,outcome_val):\n",
    "        V = self.endogenous_var\n",
    "        V_indices_excluding_X = [i for i in range(len(V)) if i not in X_indices]\n",
    "        potential_W_indices = subsets_finder(V_indices_excluding_X)\n",
    "        subsets_X = subsets_finder(X_indices)\n",
    "        for sub in subsets_X:\n",
    "            curr_X = negate_var(X,sub)\n",
    "            curr_V = V_given_set(V,curr_X,X_indices)\n",
    "            for w_indices in potential_W_indices:\n",
    "                curr_W = [V[i] for i in w_indices]\n",
    "                curr_outcome = outcome_function(self.exogenous_var,curr_V)\n",
    "                if(curr_outcome != outcome_val):\n",
    "                    return[curr_W,w_indices,True]\n",
    "        \n",
    "        return [None,None,False]\n",
    "    \n",
    "    def ac2_check_given_Z_W(self,Z,Z_indices,X,X_indices,W,W_indices,outcome_function,outcome_val):\n",
    "        ac2_a = self.ac2_a_check(Z,Z_indices,X,X_indices,W,W_indices,outcome_function,outcome_val)\n",
    "        ac2_b = self.ac2_b_check(Z,Z_indices,X,X_indices,W,W_indices,outcome_function,outcome_val)\n",
    "        if(ac2_a and ac2_b):\n",
    "            return True\n",
    "        else:\n",
    "            return False\n",
    "        \n",
    "    def ac2_u_check_given_Z_W(self,Z,Z_indices,X,X_indices,W,W_indices,outcome_function,outcome_val):\n",
    "        ac2_a = self.ac2_a_check(Z,Z_indices,X,X_indices,W,W_indices,outcome_function,outcome_val)\n",
    "        ac2_b = self.ac2_b_u_check(Z,Z_indices,X,X_indices,W,W_indices,outcome_function,outcome_val)\n",
    "        if(ac2_a and ac2_b):\n",
    "            return True\n",
    "        else:\n",
    "            return False\n",
    "    \n",
    "    \n",
    "    #Goes through all partitions of V (partitions named Z,W) and returns the first Z,W to satisfy\n",
    "    #defn is an int(0,1) corresp to (original def, updated defn ('05))\n",
    "    #Returns a dictionary of num_changes (from model to causal scenario) -> (corresp causal scenario's W)\n",
    "    # If W_dct is empty => ac2 failed\n",
    "    def Z_and_W_search(self,X,X_indices,outcome_function,outcome_val,defn):\n",
    "        Z = X.copy()\n",
    "        Z_indices = X_indices.copy()\n",
    "        Useable_V_indices = [i for i in range(len(self.endogenous_var)) if i not in X_indices]\n",
    "        splits = partitions(Useable_V_indices)\n",
    "        W_dct = {}\n",
    "        for partition in splits:\n",
    "            curr_Z_indices_no_X = partition[0]\n",
    "            curr_W_indices = partition[1]\n",
    "            curr_Z_indices = Z_indices + curr_Z_indices_no_X\n",
    "            curr_Z = [self.endogenous_var[i] for i in curr_Z_indices]\n",
    "            curr_W = [self.endogenous_var[i] for i in curr_W_indices]\n",
    "            ac2_check = self.ac2_check_given_Z_W(curr_Z,curr_Z_indices,X,X_indices,\n",
    "                                                 curr_W,curr_W_indices,outcome_function,outcome_val)\n",
    "            if(ac2_check):\n",
    "                return {0:[(curr_W,curr_W_indices)]}\n",
    "            else:\n",
    "                curr_Z_no_X = [self.endogenous_var[i] for i in curr_Z_indices_no_X]\n",
    "                subsets_of_curr_Z_no_X = subsets_finder(curr_Z_indices_no_X)\n",
    "                subsets_of_curr_W = subsets_finder(curr_W_indices)\n",
    "                for sub_z in subsets_of_curr_Z_no_X:\n",
    "                    updated_Z = X + negate_var(curr_Z_no_X,sub_z)\n",
    "                    for sub_w in subsets_of_curr_W:\n",
    "                        updated_W = negate_var(curr_W,sub_w)\n",
    "                        ac2_check = self.ac2_check_given_Z_W(updated_Z,curr_Z_indices,X,X_indices,updated_W,\n",
    "                                                             curr_W_indices,outcome_function,outcome_val)\n",
    "                        ac2_u_check = self.ac2_u_check_given_Z_W(updated_Z,curr_Z_indices,X,X_indices,updated_W,\n",
    "                                                             curr_W_indices,outcome_function,outcome_val)\n",
    "                        if((defn == 0 and ac2_check) or (defn == 1 and ac2_u_check)):\n",
    "                            orig_W = [self.endogenous_var[i] for i in curr_W_indices]\n",
    "                            num_changes = sum([1 if orig_W[i] != updated_W[i] else 0 for i in range(len(orig_W))])\n",
    "                            if(num_changes in W_dct):\n",
    "                                num_changes_lst = W_dct[num_changes]\n",
    "                                num_changes_lst.append((updated_W,curr_W_indices))\n",
    "                                W_dct[num_changes] = num_changes_lst\n",
    "                            else:\n",
    "                                W_dct[num_changes] = [(updated_W,curr_W_indices)]\n",
    "\n",
    "        return W_dct\n",
    "                    \n",
    "    \n",
    "    \n",
    "    \n",
    "    \n",
    "    #Checks that X is minimal by iterating over all subsets\n",
    "    def ac3_check(self,X,X_indices,outcome_function,outcome_val):\n",
    "        if(len(X) <= 1):\n",
    "            return True\n",
    "        \n",
    "        subsets_of_X = subsets_finder(X_indices)\n",
    "        for i in subsets_of_X:\n",
    "            updated_X = extract_X(X,i)\n",
    "            W_indices = [j for j in range(len(self.endogenous_var)) if j not in i]\n",
    "            W = [self.endogenous_var[k] for k in W_indices]\n",
    "            ac2_check = self.ac2_a_check(updated_X,i,updated_X,i,W,W_indices,outcome_function,outcome_val)\n",
    "            if(ac2_check):\n",
    "                return False\n",
    "            \n",
    "        return True\n",
    "    #Fail checking\n",
    "    def wrong_check(self,ac_1,ac_2,ac_3):\n",
    "        if (not ac_1):\n",
    "            print(\"(False b/c of AC1)\")\n",
    "        if(not ac_2):\n",
    "            print(\"(False b/c of AC2)\")\n",
    "        if(not ac_3):\n",
    "            print(\"(False b/c of AC3)\")\n",
    "    \n",
    "    #Returns true if X satisfies HP defn, False o.w.\n",
    "    def causality_check(self,X,X_indices,outcome_val,outcome_func):\n",
    "        ac_1 = self.ac1_check(X,X_indices,outcome_func,outcome_val)\n",
    "        ac_2 = self.Z_and_W_search(X,X_indices,outcome_func,outcome_val,0)\n",
    "        ac_3 = self.ac3_check(X,X_indices,outcome_func,outcome_val)\n",
    "        self.wrong_check(ac_1,ac_2,ac_3)\n",
    "        return ac_1 and ac_2 and ac_3\n",
    "    \n",
    "    #Returns true if X satisfied the modified defn. (using ac1,ac2(a),ac2(b^u), ac3 - Halpern & Pearl 2005)\n",
    "    def updated_causality_check(self,X,X_indices,outcome_val,outcome_func):\n",
    "        ac_1 = self.ac1_check(X,X_indices,outcome_func,outcome_val)\n",
    "        ac_2 = self.Z_and_W_search(X,X_indices,outcome_func,outcome_val,1)\n",
    "        ac_3 = self.ac3_check(X,X_indices,outcome_func,outcome_val)\n",
    "        self.wrong_check(ac_1,ac_2,ac_3)\n",
    "        return ac_1 and ac_2 and ac_3\n",
    "    \n",
    "    #Returns true if X satisfies modified defn of Halpern & Pearl 2014 (ac1, ac2_m, ac3)\n",
    "    def modified_causality_check(self,X,X_indices,outcome_val,outcome_func):\n",
    "        ac_1 = self.ac1_check(X,X_indices,outcome_func,outcome_val)\n",
    "        ac_2 = self.ac2_m_check(X,X_indices,outcome_func,outcome_val)[2]\n",
    "        ac_3 = self.ac3_check(X,X_indices,outcome_func,outcome_val)\n",
    "        self.wrong_check(ac_1,ac_2,ac_3)\n",
    "        return ac_1 and ac_2 and ac_3\n",
    "    \n",
    "    #Returns \"responsibility\" as per Chockler & Halpern (2004)\n",
    "    # i.e. Calls Z_and_W_search and returns the min_key\n",
    "    def responsibility(self,X,X_indices,outcome_val,outcome_func):\n",
    "        if(self.causality_check(X,X_indices,outcome_val,outcome_func)):\n",
    "            if(outcome_func(self.exogenous_var,V_given_set(self.endogenous_var,X,X_indices))!=outcome_val):\n",
    "                return 1\n",
    "            else:\n",
    "                W_dct = self.Z_and_W_search(X,X_indices,outcome_func,outcome_val,0)\n",
    "                min_num_changes = min(W_dct.keys())\n",
    "                return 1 / (min_num_changes + 1)\n",
    "        else:\n",
    "            return 0\n",
    "        \n",
    "    #num_outcome_var denote var in V which are not part of structural eqn. (e.g. Forest Fire)\n",
    "    #Fixes X (\"Causal\" variable) to be X' (i.e. not x for x in X) in the model\n",
    "    # Goes through each possible scenario of variable assignments in V (assuming T/F)\n",
    "    # Returns num_scenarios_where_outcome_changed_from_orig / num_scenarios\n",
    "    #Assumes X is only T/F valued\n",
    "    def influence(self,X,X_indices,num_outcome_var,outcome_func):\n",
    "        end_idx = (-1)*num_outcome_var\n",
    "        V = self.endogenous_var\n",
    "        V_negated_X = negate_var(V,X_indices)\n",
    "        subsets_V_negated_X = subsets_finder([i for i in range(len(V_negated_X[0:end_idx]))])\n",
    "        if(len(subsets_V_negated_X) == 0):\n",
    "            return 0\n",
    "        \n",
    "        outcome_change_ct = 0\n",
    "        subsets_seen = []\n",
    "        for sub in subsets_V_negated_X:\n",
    "            sub_no_X = [i for i in sub if i not in X_indices]\n",
    "            if(sub_no_X in subsets_seen):\n",
    "                continue\n",
    "            \n",
    "            else:\n",
    "                subsets_seen.append(sub_no_X)\n",
    "                V_pos_prime = negate_var(V[0:end_idx],sub_no_X)\n",
    "                outcome_pos_prime = outcome_func(self.exogenous_var,V_pos_prime)\n",
    "                V_neg_prime = negate_var(V_negated_X[0:end_idx],sub_no_X)\n",
    "                outcome_neg_prime = outcome_func(self.exogenous_var,V_neg_prime)\n",
    "                if(outcome_pos_prime != outcome_neg_prime):\n",
    "                    outcome_change_ct += 1\n",
    "        return outcome_change_ct / len(subsets_seen)\n",
    "    \n",
    "    #Adj responsibility = influence*responsibility\n",
    "    def adj_responsibility(self,X,X_indices,num_outcome_var,outcome_val,outcome_func):\n",
    "        inf = self.influence(X,X_indices,num_outcome_var,outcome_func)\n",
    "        res = self.responsibility(X,X_indices,outcome_val,outcome_func)\n",
    "        return inf*res\n",
    "    \n",
    "    #Adj responsibility_2 = sum of influence of var in W that change\n",
    "    def adj_responsibility_2(self,X,X_indices,num_outcome_var,outcome_val,outcome_func):\n",
    "        return \"UPDATE FUNC\"\n",
    "        \"\"\"W,W_indices = self.Z_and_W_search(X,X_indices,outcome_func,outcome_val,0)[0:2]\n",
    "        if(W is None):\n",
    "            return None\n",
    "        orig_W = [self.endogenous_var[i] for i in W_indices]\n",
    "        changed_W_indices = [W_indices[i] for i in range(len(W_indices)) if W[i] != orig_W[i]]\n",
    "        inf_changed_W = [self.influence([W[i]],[i],\n",
    "                                        num_outcome_var,outcome_func)\n",
    "                        for i in changed_W_indices]\n",
    "        return sum(inf_changed_W)\"\"\"\n",
    "    \n",
    "    #Using Multiple Counterfactual Pivotality model from Zultan, Gerstenberg, Lagnado 2012\n",
    "    # If there are multiple ways that a variable X can become causal (via but-for) then instead of\n",
    "    # using the 1 / (1 + min(changes_to_W)) we will change the denom to (1+N)\n",
    "    # N = 1 / (sum of 1/c_i) where c_i is the number of changes to W in \"path\" i\n",
    "    #this iterates over all possible paths where X is pivotal\n",
    "    \n",
    "    def zultan_responsibility(self,X,X_indices,num_outcome_var,outcome_val,outcome_func):\n",
    "        return 0\n",
    "        \n",
    "    #Influence function but only samples n states (assuming n >= 1)\n",
    "    #Saves time as inf function is exponential ; mc = Monte Carlo method to sample from uniform [0,1]\n",
    "    def mc_inf_sample(self,X,X_indices,num_outcome_var,outcome_func,n):\n",
    "        if(n <= 0):\n",
    "            raise ValueError\n",
    "        V = self.endogenous_var\n",
    "        v_idx_to_change = [i for i in range(len(V[0:(-1)*num_outcome_var])) if i not in X_indices]\n",
    "        outcome_change_ct = 0\n",
    "        seen = []\n",
    "        for i in range(n):\n",
    "            random_vec = np.random.randint(2,size = len(v_idx_to_change))\n",
    "            changeable_var_vec = [True if random_vec[i] == 1 else False for i in range(len(random_vec))]\n",
    "            curr_V_pos = V_given_set(V,changeable_var_vec,v_idx_to_change)\n",
    "            curr_V_neg = negate_var(curr_V_pos,X_indices)\n",
    "            outcome_pos = outcome_func(self.exogenous_var,curr_V_pos)\n",
    "            outcome_neg = outcome_func(self.exogenous_var,curr_V_neg)\n",
    "            if(outcome_pos != outcome_neg):\n",
    "                outcome_change_ct += 1\n",
    "\n",
    "        return outcome_change_ct / n"
   ]
  },
  {
   "cell_type": "markdown",
   "metadata": {},
   "source": [
    "## Testing\n",
    "### Using examples from 2005 HP paper"
   ]
  },
  {
   "cell_type": "markdown",
   "metadata": {},
   "source": [
    "### Example 2.1: Forest Fire (F) caused by either Lightning (L) or Match Lit (ML) "
   ]
  },
  {
   "cell_type": "code",
   "execution_count": 295,
   "metadata": {},
   "outputs": [],
   "source": [
    "#Initializes U to True for random exogen. var (val/var not important)\n",
    "# V = True for all\n",
    "#R is trivially set to 0 or 1\n",
    "# Index[0] = L ; Index[1] = ML ; Index[2] = F\n",
    "U = [True,True,True]\n",
    "V = [True,True,True]\n",
    "R = [(False,True),(False,True),(False,True)]\n",
    "def forest_fire(U,V):\n",
    "    return V[0] or V[1]\n",
    "F_f = forest_fire\n",
    "F = [None, None, F_f]\n",
    "FF_model = Causal_Model(U,V,R,F)"
   ]
  },
  {
   "cell_type": "code",
   "execution_count": 296,
   "metadata": {},
   "outputs": [
    {
     "name": "stdout",
     "output_type": "stream",
     "text": [
      "Testing Casuality of Lightning (Correct Val = True):\n",
      "True\n",
      "\n",
      "Testing Updated Casuality of Lightning (Correct Val = True):\n",
      "True\n",
      "\n",
      "Testing Modified Casuality of Lightning (Correct Val = False (b/c partial causes are not treated as causes)):\n",
      "True\n"
     ]
    }
   ],
   "source": [
    "X = [True]\n",
    "X_index = [0]\n",
    "print(\"Testing Casuality of Lightning (Correct Val = True):\")\n",
    "print(FF_model.causality_check(X,X_index,True,F_f))\n",
    "print(\"\\nTesting Updated Casuality of Lightning (Correct Val = True):\")\n",
    "print(FF_model.updated_causality_check(X,X_index,True,F_f))\n",
    "print(\"\\nTesting Modified Casuality of Lightning (Correct Val = False (b/c partial causes are not treated as causes)):\")\n",
    "print(FF_model.modified_causality_check(X,X_index,True,F_f))"
   ]
  },
  {
   "cell_type": "code",
   "execution_count": 297,
   "metadata": {},
   "outputs": [
    {
     "name": "stdout",
     "output_type": "stream",
     "text": [
      "Testing Responsibility of Lightning(Expect: 1)\n",
      "1.0\n"
     ]
    }
   ],
   "source": [
    "print(\"Testing Responsibility of Lightning(Expect: 1)\")\n",
    "print(FF_model.responsibility(X,X_index,True,F_f))"
   ]
  },
  {
   "cell_type": "code",
   "execution_count": 298,
   "metadata": {},
   "outputs": [
    {
     "name": "stdout",
     "output_type": "stream",
     "text": [
      "Adj_1 Responsibility of Lightning\n",
      "0.5\n",
      "\n",
      "Adj_2 Responsibility of Lightning\n",
      "UPDATE FUNC\n"
     ]
    }
   ],
   "source": [
    "print(\"Adj_1 Responsibility of Lightning\")\n",
    "print(FF_model.adj_responsibility(X,X_index,1,True,F_f))\n",
    "print(\"\\nAdj_2 Responsibility of Lightning\")\n",
    "print(FF_model.adj_responsibility_2(X,X_index,1,True,F_f))"
   ]
  },
  {
   "cell_type": "code",
   "execution_count": 299,
   "metadata": {},
   "outputs": [
    {
     "name": "stdout",
     "output_type": "stream",
     "text": [
      "Testing for Causality of ML (Correct Val = True):\n",
      "True\n",
      "\n",
      "Testing for Updated Causality of ML (Correct Val = True):\n",
      "True\n",
      "\n",
      "Testing for Modified Causality of ML (Correct Val = False (partial cause)):\n",
      "True\n"
     ]
    }
   ],
   "source": [
    "X_ml = [True]\n",
    "X_ml_index = [1]\n",
    "print(\"Testing for Causality of ML (Correct Val = True):\")\n",
    "print(FF_model.causality_check(X_ml,X_ml_index,True,F_f))\n",
    "print(\"\\nTesting for Updated Causality of ML (Correct Val = True):\")\n",
    "print(FF_model.updated_causality_check(X_ml,X_ml_index,True,F_f))\n",
    "print(\"\\nTesting for Modified Causality of ML (Correct Val = False (partial cause)):\")\n",
    "print(FF_model.modified_causality_check(X_ml,X_ml_index,True,F_f))"
   ]
  },
  {
   "cell_type": "code",
   "execution_count": 300,
   "metadata": {},
   "outputs": [
    {
     "name": "stdout",
     "output_type": "stream",
     "text": [
      "Testing Responsibility of ML(Expect: 1)\n",
      "1.0\n"
     ]
    }
   ],
   "source": [
    "print(\"Testing Responsibility of ML(Expect: 1)\")\n",
    "print(FF_model.responsibility(X,X_index,True,F_f))"
   ]
  },
  {
   "cell_type": "code",
   "execution_count": 301,
   "metadata": {},
   "outputs": [
    {
     "name": "stdout",
     "output_type": "stream",
     "text": [
      "Adj Responsibility of ML\n",
      "0.5\n",
      "\n",
      "Adj_2 Responsibility of ML\n",
      "UPDATE FUNC\n"
     ]
    }
   ],
   "source": [
    "print(\"Adj Responsibility of ML\")\n",
    "print(FF_model.adj_responsibility(X,X_index,1,True,F_f))\n",
    "print(\"\\nAdj_2 Responsibility of ML\")\n",
    "print(FF_model.adj_responsibility_2(X,X_index,1,True,F_f))"
   ]
  },
  {
   "cell_type": "code",
   "execution_count": 302,
   "metadata": {},
   "outputs": [
    {
     "name": "stdout",
     "output_type": "stream",
     "text": [
      "Testing for Causality of BOTH (Correct Val = False (not minimal)):\n",
      "(False b/c of AC3)\n",
      "False\n",
      "\n",
      "Testing for Updated Causality of Both (Correct Val = False):\n",
      "(False b/c of AC3)\n",
      "False\n",
      "\n",
      "Testing for Modified Causality of Both (Correct Val = False):\n",
      "(False b/c of AC3)\n",
      "False\n"
     ]
    }
   ],
   "source": [
    "X_both = [True,True]\n",
    "X_both_index = [0,1]\n",
    "print(\"Testing for Causality of BOTH (Correct Val = False (not minimal)):\")\n",
    "print(FF_model.causality_check(X_both,X_both_index,True,F_f))\n",
    "print(\"\\nTesting for Updated Causality of Both (Correct Val = False):\")\n",
    "print(FF_model.updated_causality_check(X_both,X_both_index,True,F_f))\n",
    "print(\"\\nTesting for Modified Causality of Both (Correct Val = False):\")\n",
    "print(FF_model.modified_causality_check(X_both,X_both_index,True,F_f))"
   ]
  },
  {
   "cell_type": "markdown",
   "metadata": {},
   "source": [
    "## Example 3.2 - Case 1 (Disjunctive): \n",
    "### Two Arsonists drop lit matches, either match suffices to burn the forest down"
   ]
  },
  {
   "cell_type": "code",
   "execution_count": 303,
   "metadata": {},
   "outputs": [],
   "source": [
    "#U = [Some Condition, Intention of Arsonist 1, Intention of Arsonist 2, Intention of both]\n",
    "#V  = [Match_Lit_Arsonist_1, Match_Lit_Aronist_2, ForestFire]\n",
    "U = [True,True,True,True]\n",
    "V = [True,True,True]\n",
    "R = [(False,True),(False,True),(False,True)]\n",
    "def disjunctive_forest_fire(U,V):\n",
    "    return V[0] or V[1]\n",
    "F_df = [None,None,disjunctive_forest_fire]\n",
    "Arson_model = Causal_Model(U,V,R,F_df)"
   ]
  },
  {
   "cell_type": "code",
   "execution_count": 304,
   "metadata": {},
   "outputs": [
    {
     "name": "stdout",
     "output_type": "stream",
     "text": [
      "Testing Casuality of Arsonist 1(Correct Val = True):\n",
      "True\n",
      "\n",
      "Testing Updated Casuality of Arsonist 1(Correct Val = True):\n",
      "True\n",
      "\n",
      "Testing Modified Casuality of Arsonist 1(Correct Val = False (partial)):\n",
      "True\n",
      "\n",
      " Testing Responsibility of Arsonist 1:\n",
      "1.0\n",
      "\n",
      " Adj. Responsibility of Arsonist 1:\n",
      "0.5\n",
      "\n",
      " Adj_2 Responsibility of Arsonist 1:\n",
      "UPDATE FUNC\n"
     ]
    }
   ],
   "source": [
    "X = [True]\n",
    "X_index = [0]\n",
    "print(\"Testing Casuality of Arsonist 1(Correct Val = True):\")\n",
    "print(Arson_model.causality_check(X,X_index,True,disjunctive_forest_fire))\n",
    "print(\"\\nTesting Updated Casuality of Arsonist 1(Correct Val = True):\")\n",
    "print(Arson_model.updated_causality_check(X,X_index,True,disjunctive_forest_fire))\n",
    "print(\"\\nTesting Modified Casuality of Arsonist 1(Correct Val = False (partial)):\")\n",
    "print(Arson_model.modified_causality_check(X,X_index,True,disjunctive_forest_fire))\n",
    "\n",
    "print(\"\\n Testing Responsibility of Arsonist 1:\")\n",
    "print(Arson_model.responsibility(X,X_index,True,disjunctive_forest_fire))\n",
    "\n",
    "print(\"\\n Adj. Responsibility of Arsonist 1:\")\n",
    "print(Arson_model.adj_responsibility(X,X_index,1,True,disjunctive_forest_fire))\n",
    "print(\"\\n Adj_2 Responsibility of Arsonist 1:\")\n",
    "print(Arson_model.adj_responsibility_2(X,X_index,1,True,disjunctive_forest_fire))"
   ]
  },
  {
   "cell_type": "code",
   "execution_count": 305,
   "metadata": {},
   "outputs": [
    {
     "name": "stdout",
     "output_type": "stream",
     "text": [
      "Testing Casuality of Arsonist 2(Correct Val = True):\n",
      "True\n",
      "\n",
      "Testing Updated Casuality of Arsonist 1(Correct Val = True):\n",
      "True\n",
      "\n",
      "Testing Modified Casuality of Arsonist 1(Correct Val = False):\n",
      "True\n",
      "\n",
      " Testing Responsibility of Arsonist 2:\n",
      "0.5\n",
      "\n",
      " Adj. Responsibility of Arsonist 2:\n",
      "0.25\n",
      "\n",
      " Adj_2 Responsibility of Arsonist 2:\n",
      "UPDATE FUNC\n"
     ]
    }
   ],
   "source": [
    "X = [True]\n",
    "X_index = [1]\n",
    "print(\"Testing Casuality of Arsonist 2(Correct Val = True):\")\n",
    "print(Arson_model.causality_check(X,X_index,True,disjunctive_forest_fire))\n",
    "print(\"\\nTesting Updated Casuality of Arsonist 1(Correct Val = True):\")\n",
    "print(Arson_model.updated_causality_check(X,X_index,True,disjunctive_forest_fire))\n",
    "print(\"\\nTesting Modified Casuality of Arsonist 1(Correct Val = False):\")\n",
    "print(Arson_model.modified_causality_check(X,X_index,True,disjunctive_forest_fire))\n",
    "\n",
    "print(\"\\n Testing Responsibility of Arsonist 2:\")\n",
    "print(Arson_model.responsibility(X,X_index,True,disjunctive_forest_fire))\n",
    "\n",
    "print(\"\\n Adj. Responsibility of Arsonist 2:\")\n",
    "print(Arson_model.adj_responsibility(X,X_index,1,True,disjunctive_forest_fire))\n",
    "print(\"\\n Adj_2 Responsibility of Arsonist 2:\")\n",
    "print(Arson_model.adj_responsibility_2(X,X_index,1,True,disjunctive_forest_fire))"
   ]
  },
  {
   "cell_type": "code",
   "execution_count": 306,
   "metadata": {},
   "outputs": [
    {
     "name": "stdout",
     "output_type": "stream",
     "text": [
      "Testing Casuality of BOTH(Correct Val = False (b/c not minimal)):\n",
      "(False b/c of AC3)\n",
      "False\n",
      "\n",
      " Testing Updated Casuality of BOTH(Correct Val = False (b/c not minimal)):\n",
      "(False b/c of AC3)\n",
      "False\n",
      "\n",
      " Testing modified Casuality of BOTH(Correct Val = False (b/c not minimal)):\n",
      "(False b/c of AC3)\n",
      "False\n"
     ]
    }
   ],
   "source": [
    "X = [True,True]\n",
    "X_index = [0,1]\n",
    "print(\"Testing Casuality of BOTH(Correct Val = False (b/c not minimal)):\")\n",
    "print(Arson_model.causality_check(X,X_index,True,disjunctive_forest_fire))\n",
    "print(\"\\n Testing Updated Casuality of BOTH(Correct Val = False (b/c not minimal)):\")\n",
    "print(Arson_model.updated_causality_check(X,X_index,True,disjunctive_forest_fire))\n",
    "print(\"\\n Testing modified Casuality of BOTH(Correct Val = False (b/c not minimal)):\")\n",
    "print(Arson_model.modified_causality_check(X,X_index,True,disjunctive_forest_fire))"
   ]
  },
  {
   "cell_type": "markdown",
   "metadata": {},
   "source": [
    "## Example 3.2 - Case 2 (Conjuctive): \n",
    "### Two Arsonists drop lit matches, need BOTH matches to burn forest"
   ]
  },
  {
   "cell_type": "code",
   "execution_count": 307,
   "metadata": {},
   "outputs": [],
   "source": [
    "#U = [Some Condition, Intention of Arsonist 1, Intention of Arsonist 2, Intention of both]\n",
    "#V  = [Match_Lit_Arsonist_1, Match_Lit_Aronist_2, ForestFire]\n",
    "U = [True,True,True,True]\n",
    "V = [True,True,True]\n",
    "R = [(False,True),(False,True),(False,True)]\n",
    "def conjunctive_forest_fire(U,V):\n",
    "    return V[0] and V[1]\n",
    "F_df = [None,None,conjunctive_forest_fire]\n",
    "Arson2_model = Causal_Model(U,V,R,F_df)"
   ]
  },
  {
   "cell_type": "code",
   "execution_count": 308,
   "metadata": {},
   "outputs": [
    {
     "name": "stdout",
     "output_type": "stream",
     "text": [
      "Testing Casuality of ONLY Arsonist 1(Correct Val = True):\n",
      "True\n",
      "\n",
      "Testing Updated Casuality of ONLY Arsonist 1(Correct Val = True):\n",
      "True\n",
      "\n",
      "Testing modified Casuality of ONLY Arsonist 1(Correct Val = True):\n",
      "True\n",
      "\n",
      " Responsibility of ONLY Arsonist 1\n",
      "1.0\n",
      "\n",
      " Adj. Responsibility of \"\n",
      "0.5\n",
      "\n",
      " Adj_2. Responsibility of \"\n",
      "UPDATE FUNC\n"
     ]
    }
   ],
   "source": [
    "X = [True]\n",
    "X_index = [0]\n",
    "print(\"Testing Casuality of ONLY Arsonist 1(Correct Val = True):\")\n",
    "print(Arson2_model.causality_check(X,X_index,True,conjunctive_forest_fire))\n",
    "print(\"\\nTesting Updated Casuality of ONLY Arsonist 1(Correct Val = True):\")\n",
    "print(Arson2_model.updated_causality_check(X,X_index,True,conjunctive_forest_fire))\n",
    "print(\"\\nTesting modified Casuality of ONLY Arsonist 1(Correct Val = True):\")\n",
    "print(Arson2_model.modified_causality_check(X,X_index,True,conjunctive_forest_fire))\n",
    "\n",
    "print(\"\\n Responsibility of ONLY Arsonist 1\")\n",
    "print(Arson2_model.responsibility(X,X_index,True,conjunctive_forest_fire))\n",
    "print(\"\\n Adj. Responsibility of \\\"\")\n",
    "print(Arson2_model.adj_responsibility(X,X_index,1,True,conjunctive_forest_fire))\n",
    "print(\"\\n Adj_2. Responsibility of \\\"\")\n",
    "print(Arson2_model.adj_responsibility_2(X,X_index,1,True,conjunctive_forest_fire))"
   ]
  },
  {
   "cell_type": "code",
   "execution_count": 309,
   "metadata": {},
   "outputs": [
    {
     "name": "stdout",
     "output_type": "stream",
     "text": [
      "Testing Casuality of ONLY Arsonist 2(Correct Val = True):\n",
      "True\n",
      "\n",
      "Testing Updated Casuality of ONLY Arsonist 2(Correct Val = True):\n",
      "True\n",
      "\n",
      "Testing modified Casuality of ONLY Arsonist 2(Correct Val = True):\n",
      "True\n",
      "\n",
      " Responsibility of ONLY Arsonist 2\n",
      "1.0\n",
      "\n",
      " Adj. Responsibility of \"\n",
      "0.5\n",
      "\n",
      " Adj_2. Responsibility of \"\n",
      "UPDATE FUNC\n"
     ]
    }
   ],
   "source": [
    "X = [True]\n",
    "X_index = [1]\n",
    "print(\"Testing Casuality of ONLY Arsonist 2(Correct Val = True):\")\n",
    "print(Arson2_model.causality_check(X,X_index,True,conjunctive_forest_fire))\n",
    "print(\"\\nTesting Updated Casuality of ONLY Arsonist 2(Correct Val = True):\")\n",
    "print(Arson2_model.updated_causality_check(X,X_index,True,conjunctive_forest_fire))\n",
    "print(\"\\nTesting modified Casuality of ONLY Arsonist 2(Correct Val = True):\")\n",
    "print(Arson2_model.modified_causality_check(X,X_index,True,conjunctive_forest_fire))\n",
    "\n",
    "print(\"\\n Responsibility of ONLY Arsonist 2\")\n",
    "print(Arson2_model.responsibility(X,X_index,True,conjunctive_forest_fire))\n",
    "print(\"\\n Adj. Responsibility of \\\"\")\n",
    "print(Arson2_model.adj_responsibility(X,X_index,1,True,conjunctive_forest_fire))\n",
    "print(\"\\n Adj_2. Responsibility of \\\"\")\n",
    "print(Arson2_model.adj_responsibility_2(X,X_index,1,True,conjunctive_forest_fire))"
   ]
  },
  {
   "cell_type": "code",
   "execution_count": 310,
   "metadata": {},
   "outputs": [
    {
     "name": "stdout",
     "output_type": "stream",
     "text": [
      "Testing Casuality of BOTH Arsonists (Correct Val = False):\n",
      "(False b/c of AC3)\n",
      "False\n",
      "\n",
      "Testing Updated Casuality of BOTH(Correct Val = False):\n",
      "(False b/c of AC3)\n",
      "False\n",
      "\n",
      "Testing modified Casuality of BOTH(Correct Val = False):\n",
      "(False b/c of AC3)\n",
      "False\n"
     ]
    }
   ],
   "source": [
    "X = [True,True]\n",
    "X_index = [0,1]\n",
    "print(\"Testing Casuality of BOTH Arsonists (Correct Val = False):\")\n",
    "print(Arson2_model.causality_check(X,X_index,True,conjunctive_forest_fire))\n",
    "print(\"\\nTesting Updated Casuality of BOTH(Correct Val = False):\")\n",
    "print(Arson2_model.updated_causality_check(X,X_index,True,conjunctive_forest_fire))\n",
    "print(\"\\nTesting modified Casuality of BOTH(Correct Val = False):\")\n",
    "print(Arson2_model.modified_causality_check(X,X_index,True,conjunctive_forest_fire))"
   ]
  },
  {
   "cell_type": "markdown",
   "metadata": {},
   "source": [
    "## Example 4.1: \n",
    "### Rain in April,May (+Electric Showers in May/June) and then lightning in June -> Forest Fire\n",
    "### Question: Did April's showers cause the fire in June opposed to May?"
   ]
  },
  {
   "cell_type": "code",
   "execution_count": 311,
   "metadata": {},
   "outputs": [],
   "source": [
    "#U is trivial let it be (for e.g.) U[0] = sufficient FF conditions in May U[1] = [...] in June\n",
    "#V[0] = April Showers; V[1] = No Electric Storm (E.s) (May or June) V[2] = E.S only in May V[3] = E.S only in June \n",
    "#V[4] = E.S. Both; V[5] = FF in May V[6] = No FF in May V[7] = FF in June\n",
    "# R is trivial\n",
    "U = [True,True]\n",
    "V = [True,False,False,False,True,False,False,True]\n",
    "R = [(False, True),(False, True),(False,True),(False,True),(False,True),(False,True),(False,True)]\n",
    "def April_showers_bring_June_Fires(U,V):\n",
    "    return V[0] and (V[3] or V[4])\n",
    "F_storms = [None,None,None,None,None,None,None,April_showers_bring_June_Fires]\n",
    "Storm_FF = Causal_Model(U,V,R,F_storms)"
   ]
  },
  {
   "cell_type": "code",
   "execution_count": 312,
   "metadata": {},
   "outputs": [
    {
     "name": "stdout",
     "output_type": "stream",
     "text": [
      "Testing Causality of April Showers on June Fire: (Correct Val = True)\n",
      "True\n",
      "\n",
      " Testing Updated Causality of April Showers on June Fire: (Correct Val = True)\n",
      "True\n",
      "\n",
      " Testing modified Causality of April Showers on June Fire: (Correct Val = True)\n",
      "True\n",
      "\n",
      " Responsibility of \"\n",
      "1.0\n",
      "\n",
      " Adj. Responsibility of \"\n",
      "0.75\n",
      "\n",
      " Adj_2. Responsibility of \"\n",
      "UPDATE FUNC\n"
     ]
    }
   ],
   "source": [
    "X = [True]\n",
    "X_index = [0]\n",
    "print(\"Testing Causality of April Showers on June Fire: (Correct Val = True)\")\n",
    "print(Storm_FF.causality_check(X,X_index,True,April_showers_bring_June_Fires))\n",
    "print(\"\\n Testing Updated Causality of April Showers on June Fire: (Correct Val = True)\")\n",
    "print(Storm_FF.updated_causality_check(X,X_index,True,April_showers_bring_June_Fires))\n",
    "print(\"\\n Testing modified Causality of April Showers on June Fire: (Correct Val = True)\")\n",
    "print(Storm_FF.modified_causality_check(X,X_index,True,April_showers_bring_June_Fires))\n",
    "\n",
    "print(\"\\n Responsibility of \\\"\")\n",
    "print(Storm_FF.responsibility(X,X_index,True,April_showers_bring_June_Fires))\n",
    "print(\"\\n Adj. Responsibility of \\\"\")\n",
    "print(Storm_FF.adj_responsibility(X,X_index,3,True,April_showers_bring_June_Fires))\n",
    "print(\"\\n Adj_2. Responsibility of \\\"\")\n",
    "print(Storm_FF.adj_responsibility_2(X,X_index,3,True,April_showers_bring_June_Fires))"
   ]
  },
  {
   "cell_type": "code",
   "execution_count": 313,
   "metadata": {},
   "outputs": [
    {
     "name": "stdout",
     "output_type": "stream",
     "text": [
      "Testing Causality of April Showers and E.S (in May & June) on June Fire: (Correct Val = False (AC3))\n",
      "(False b/c of AC3)\n",
      "False\n",
      "\n",
      " Testing Updated Causality of April Showers and E.S (in May & June) on June Fire: (Correct Val = False (AC3))\n",
      "(False b/c of AC3)\n",
      "False\n",
      "\n",
      " Testing modified Causality of April Showers and E.S (in May & June) on June Fire: (Correct Val = False (AC3))\n",
      "(False b/c of AC3)\n",
      "False\n"
     ]
    }
   ],
   "source": [
    "X = [True,True]\n",
    "X_index = [0,4]\n",
    "print(\"Testing Causality of April Showers and E.S (in May & June) on June Fire: (Correct Val = False (AC3))\")\n",
    "print(Storm_FF.causality_check(X,X_index,True,April_showers_bring_June_Fires))\n",
    "print(\"\\n Testing Updated Causality of April Showers and E.S (in May & June) on June Fire: (Correct Val = False (AC3))\")\n",
    "print(Storm_FF.updated_causality_check(X,X_index,True,April_showers_bring_June_Fires))\n",
    "print(\"\\n Testing modified Causality of April Showers and E.S (in May & June) on June Fire: (Correct Val = False (AC3))\")\n",
    "print(Storm_FF.modified_causality_check(X,X_index,True,April_showers_bring_June_Fires))"
   ]
  },
  {
   "cell_type": "markdown",
   "metadata": {},
   "source": [
    "\n",
    "## Example 4.2\n",
    "### Suzy and Billy throw rocks at a bottle. Suzy's rock hits the bottle first, causing it to shatter. However, had she not thrown, Billy's rock would have shattered the bottle.\n",
    "### Is Suzy a cause of bottle shattering?"
   ]
  },
  {
   "cell_type": "code",
   "execution_count": 314,
   "metadata": {},
   "outputs": [],
   "source": [
    "#Initializes U to some random exogenous var (e.g. Suzy,Billy state of mind)\n",
    "#V[0] = Suzy Throws ; V[1] = Suzy's Rock Hits Bottle; V[2] = Billy Throws; \n",
    "# V[3] = Billy Rock Hits Bottle; V[4] = Bottle Shatters\n",
    "U = [True, True]\n",
    "V = [True,True,True,False,True]\n",
    "R = [(False,True),(False,True),(False,True)]\n",
    "#bottle shatters in this scenario (where Suzy is first)\n",
    "def bottle_shatters(U,V):\n",
    "    return (V[0] and V[1])\n",
    "F_SB = [None,None,bottle_shatters]\n",
    "SB_model = Causal_Model(U,V,R,F_SB)"
   ]
  },
  {
   "cell_type": "code",
   "execution_count": 315,
   "metadata": {},
   "outputs": [
    {
     "name": "stdout",
     "output_type": "stream",
     "text": [
      "Testing Casuality of Suzy Throw/Hit(Correct Val = True):\n",
      "True\n",
      "\n",
      " Testing Updated Casuality of Suzy Throw/Hit(Correct Val = True):\n",
      "True\n",
      "\n",
      " Testing modified Casuality of Suzy Throw/Hit(Correct Val = True):\n",
      "True\n",
      "\n",
      "Responsibility of \"\n",
      "1.0\n",
      "\n",
      "Adj. Responsibility of \"\n",
      "0.5\n",
      "\n",
      "Adj_2. Responsibility of \"\n",
      "UPDATE FUNC\n"
     ]
    }
   ],
   "source": [
    "X = [True]\n",
    "X_index = [0]\n",
    "print(\"Testing Casuality of Suzy Throw/Hit(Correct Val = True):\")\n",
    "print(SB_model.causality_check(X,X_index,True,bottle_shatters))\n",
    "print(\"\\n Testing Updated Casuality of Suzy Throw/Hit(Correct Val = True):\")\n",
    "print(SB_model.updated_causality_check(X,X_index,True,bottle_shatters))\n",
    "print(\"\\n Testing modified Casuality of Suzy Throw/Hit(Correct Val = True):\")\n",
    "print(SB_model.modified_causality_check(X,X_index,True,bottle_shatters))\n",
    "\n",
    "print(\"\\nResponsibility of \\\"\")\n",
    "print(SB_model.responsibility(X,X_index,True,bottle_shatters))\n",
    "print(\"\\nAdj. Responsibility of \\\"\")\n",
    "print(SB_model.adj_responsibility(X,X_index,1,True,bottle_shatters))\n",
    "print(\"\\nAdj_2. Responsibility of \\\"\")\n",
    "print(SB_model.adj_responsibility_2(X,X_index,1,True,bottle_shatters))"
   ]
  },
  {
   "cell_type": "code",
   "execution_count": 316,
   "metadata": {},
   "outputs": [
    {
     "name": "stdout",
     "output_type": "stream",
     "text": [
      "Testing Casuality of Billy Throw(Correct Val = False):\n",
      "(False b/c of AC2)\n",
      "{}\n",
      "\n",
      " Testing Updated Casuality of Billy Throw(Correct Val = False):\n",
      "(False b/c of AC2)\n",
      "{}\n",
      "\n",
      " Testing modified Casuality of Billy Throw(Correct Val = False):\n",
      "True\n"
     ]
    }
   ],
   "source": [
    "X = [True]\n",
    "X_index = [2]\n",
    "print(\"Testing Casuality of Billy Throw(Correct Val = False):\")\n",
    "print(SB_model.causality_check(X,X_index,True,bottle_shatters))\n",
    "print(\"\\n Testing Updated Casuality of Billy Throw(Correct Val = False):\")\n",
    "print(SB_model.updated_causality_check(X,X_index,True,bottle_shatters))\n",
    "print(\"\\n Testing modified Casuality of Billy Throw(Correct Val = False):\")\n",
    "print(SB_model.modified_causality_check(X,X_index,True,bottle_shatters))"
   ]
  },
  {
   "cell_type": "markdown",
   "metadata": {},
   "source": [
    "## Example 4.3\n",
    "### Billy is hospitalized on Monday, Dr. forgets to give medication on Monday. Say Dr. on Monday and Dr. on Tuesday are reliable and the following twist: one dose is harmless, two doses are lethal.\n"
   ]
  },
  {
   "cell_type": "code",
   "execution_count": 317,
   "metadata": {},
   "outputs": [],
   "source": [
    "# U is trivial, say it is U[0] = Medicine available Mon.  U[1] = [...] on Tuesday \n",
    "# V[0] = Given medicine on Monday (MT)\n",
    "#V[1] = Given medicine on Tuesday (TT)\n",
    "# V[2] = Billy alive on Tuesday Morning \n",
    "# V[3] = Billy alive and well on Tuesday Morning\n",
    "# V[4] = Billy sick on Tuesday Mornining (and alive) and recovers Tuesday afternoon\n",
    "# V[5] = Billy sick Tuesday morning and afternoon (so missed treatment?)\n",
    "# V[6] = Billy recovered Tuesday morning and is dead Tuesday afternoon \n",
    "U = [True,True]\n",
    "V = [True,False,True,False,True,False,False]\n",
    "R = [(False, True),(False, True),(False,True),(False,True),(False,True),(False,True)]\n",
    "def billy_alive(U,V):\n",
    "    return V[2] or V[3] or V[4] or V[5]\n",
    "def billy_dead(U,V):\n",
    "    return V[0] and V[1]\n",
    "F_billy = [None,None,billy_alive,billy_alive,billy_alive,billy_dead]\n",
    "Billy_model = Causal_Model(U,V,R,F_billy)"
   ]
  },
  {
   "cell_type": "code",
   "execution_count": 318,
   "metadata": {},
   "outputs": [
    {
     "name": "stdout",
     "output_type": "stream",
     "text": [
      "Testing if MT = 1 is a cause of Billy alive (Expected: False)\n",
      "(False b/c of AC2)\n",
      "{}\n",
      "\n",
      " Testing if MT = 1 is a cause (using updated defn) of Billy alive (Expected: False)\n",
      "(False b/c of AC2)\n",
      "{}\n",
      "\n",
      " Testing if MT = 1 is a cause (using modified defn) of Billy alive (Expected: False)\n",
      "True\n"
     ]
    }
   ],
   "source": [
    "X = [True]\n",
    "X_index = [0]\n",
    "print(\"Testing if MT = 1 is a cause of Billy alive (Expected: False)\")\n",
    "print(Billy_model.causality_check(X,X_index,True,billy_alive))\n",
    "print(\"\\n Testing if MT = 1 is a cause (using updated defn) of Billy alive (Expected: False)\")\n",
    "print(Billy_model.updated_causality_check(X,X_index,True,billy_alive))\n",
    "print(\"\\n Testing if MT = 1 is a cause (using modified defn) of Billy alive (Expected: False)\")\n",
    "print(Billy_model.modified_causality_check(X,X_index,True,billy_alive))"
   ]
  },
  {
   "cell_type": "code",
   "execution_count": 319,
   "metadata": {},
   "outputs": [
    {
     "name": "stdout",
     "output_type": "stream",
     "text": [
      "Testing if TT=1 is a cause of Billy Dead (Expected: True)\n",
      "(False b/c of AC2)\n",
      "{}\n",
      "\n",
      "Testing if TT=1 is a cause (using updated defn.) of Billy Dead (Expected: True)\n",
      "(False b/c of AC2)\n",
      "{}\n",
      "\n",
      "Testing if TT=1 is a cause (using modified defn.) of Billy Dead (Expected: True)\n",
      "True\n"
     ]
    }
   ],
   "source": [
    "X = [True]\n",
    "X_index = [1]\n",
    "print(\"Testing if TT=1 is a cause of Billy Dead (Expected: True)\")\n",
    "print(Billy_model.causality_check(X,X_index,True,billy_dead))\n",
    "print(\"\\nTesting if TT=1 is a cause (using updated defn.) of Billy Dead (Expected: True)\")\n",
    "print(Billy_model.updated_causality_check(X,X_index,True,billy_dead))\n",
    "print(\"\\nTesting if TT=1 is a cause (using modified defn.) of Billy Dead (Expected: True)\")\n",
    "print(Billy_model.modified_causality_check(X,X_index,True,billy_dead))"
   ]
  },
  {
   "cell_type": "code",
   "execution_count": 320,
   "metadata": {},
   "outputs": [
    {
     "name": "stdout",
     "output_type": "stream",
     "text": [
      "Testing if MT=1 is a cause of TT = 0(Expected: True)\n",
      "True\n",
      "\n",
      "Testing if MT=1 is a cause (using updated defn.) of TT = 0(Expected: True)\n",
      "True\n",
      "\n",
      "Testing if MT=1 is a cause (using modified defn.) of TT = 0(Expected: True)\n",
      "True\n"
     ]
    }
   ],
   "source": [
    "def tuesday_treatment(U,V):\n",
    "    return not V[0]\n",
    "X = [True]\n",
    "X_index = [0]\n",
    "print(\"Testing if MT=1 is a cause of TT = 0(Expected: True)\")\n",
    "print(Billy_model.causality_check(X,X_index,False,tuesday_treatment))\n",
    "print(\"\\nTesting if MT=1 is a cause (using updated defn.) of TT = 0(Expected: True)\")\n",
    "print(Billy_model.updated_causality_check(X,X_index,False,tuesday_treatment))\n",
    "print(\"\\nTesting if MT=1 is a cause (using modified defn.) of TT = 0(Expected: True)\")\n",
    "print(Billy_model.modified_causality_check(X,X_index,False,tuesday_treatment))"
   ]
  },
  {
   "cell_type": "markdown",
   "metadata": {},
   "source": [
    "## Example (Responsibility Check): Case 1\n",
    "### Election between Candidate A and Candidate B w/ result 7-0 (tweaked from 11-0 for faster testing)\n",
    "### Is each voter a cause of Candidate A's victory? What is the responsibility of each voter"
   ]
  },
  {
   "cell_type": "code",
   "execution_count": 321,
   "metadata": {},
   "outputs": [],
   "source": [
    "U = [True for i in range(7)]\n",
    "V = U + [True,False]\n",
    "R = [(False,True) for i in range(9)]\n",
    "def A_victory(U,V):\n",
    "    return sum([1 for vote in V[0:7] if vote == True]) > 3\n",
    "F = [None for i in range(7)] + [A_victory, not A_victory]\n",
    "Election_Case_1 = Causal_Model(U,V,R,F)"
   ]
  },
  {
   "cell_type": "code",
   "execution_count": 322,
   "metadata": {},
   "outputs": [
    {
     "name": "stdout",
     "output_type": "stream",
     "text": [
      "Testing Causality of Voter 1 (Expected: True)\n",
      "True\n",
      "\n",
      "Testing (Updated Defn.)Causality of Voter 1 (Expected: True)\n",
      "True\n",
      "\n",
      "Testing (modified Defn.)Causality of Voter 1 (Expected: False (partial))\n",
      "True\n",
      "--------\n",
      "Testing Causality of Voter 2 (Expected: True)\n"
     ]
    },
    {
     "ename": "KeyboardInterrupt",
     "evalue": "",
     "output_type": "error",
     "traceback": [
      "\u001b[0;31m---------------------------------------------------------------------------\u001b[0m",
      "\u001b[0;31mKeyboardInterrupt\u001b[0m                         Traceback (most recent call last)",
      "\u001b[0;32m<ipython-input-322-42390a341cee>\u001b[0m in \u001b[0;36m<module>\u001b[0;34m\u001b[0m\n\u001b[1;32m      4\u001b[0m     \u001b[0mX_index\u001b[0m \u001b[0;34m=\u001b[0m \u001b[0;34m[\u001b[0m\u001b[0mi\u001b[0m\u001b[0;34m]\u001b[0m\u001b[0;34m\u001b[0m\u001b[0;34m\u001b[0m\u001b[0m\n\u001b[1;32m      5\u001b[0m     \u001b[0mprint\u001b[0m\u001b[0;34m(\u001b[0m\u001b[0;34m\"Testing Causality of Voter \"\u001b[0m \u001b[0;34m+\u001b[0m \u001b[0mstr\u001b[0m\u001b[0;34m(\u001b[0m\u001b[0mi\u001b[0m\u001b[0;34m+\u001b[0m\u001b[0;36m1\u001b[0m\u001b[0;34m)\u001b[0m \u001b[0;34m+\u001b[0m \u001b[0;34m\" (Expected: True)\"\u001b[0m\u001b[0;34m)\u001b[0m\u001b[0;34m\u001b[0m\u001b[0;34m\u001b[0m\u001b[0m\n\u001b[0;32m----> 6\u001b[0;31m     \u001b[0mprint\u001b[0m\u001b[0;34m(\u001b[0m\u001b[0mElection_Case_1\u001b[0m\u001b[0;34m.\u001b[0m\u001b[0mcausality_check\u001b[0m\u001b[0;34m(\u001b[0m\u001b[0mX\u001b[0m\u001b[0;34m,\u001b[0m\u001b[0mX_index\u001b[0m\u001b[0;34m,\u001b[0m\u001b[0;32mTrue\u001b[0m\u001b[0;34m,\u001b[0m\u001b[0mA_victory\u001b[0m\u001b[0;34m)\u001b[0m\u001b[0;34m)\u001b[0m\u001b[0;34m\u001b[0m\u001b[0;34m\u001b[0m\u001b[0m\n\u001b[0m\u001b[1;32m      7\u001b[0m     \u001b[0mprint\u001b[0m\u001b[0;34m(\u001b[0m\u001b[0;34m\"\\nTesting (Updated Defn.)Causality of Voter \"\u001b[0m \u001b[0;34m+\u001b[0m \u001b[0mstr\u001b[0m\u001b[0;34m(\u001b[0m\u001b[0mi\u001b[0m\u001b[0;34m+\u001b[0m\u001b[0;36m1\u001b[0m\u001b[0;34m)\u001b[0m \u001b[0;34m+\u001b[0m \u001b[0;34m\" (Expected: True)\"\u001b[0m\u001b[0;34m)\u001b[0m\u001b[0;34m\u001b[0m\u001b[0;34m\u001b[0m\u001b[0m\n\u001b[1;32m      8\u001b[0m     \u001b[0mprint\u001b[0m\u001b[0;34m(\u001b[0m\u001b[0mElection_Case_1\u001b[0m\u001b[0;34m.\u001b[0m\u001b[0mupdated_causality_check\u001b[0m\u001b[0;34m(\u001b[0m\u001b[0mX\u001b[0m\u001b[0;34m,\u001b[0m\u001b[0mX_index\u001b[0m\u001b[0;34m,\u001b[0m\u001b[0;32mTrue\u001b[0m\u001b[0;34m,\u001b[0m\u001b[0mA_victory\u001b[0m\u001b[0;34m)\u001b[0m\u001b[0;34m)\u001b[0m\u001b[0;34m\u001b[0m\u001b[0;34m\u001b[0m\u001b[0m\n",
      "\u001b[0;32m<ipython-input-294-f21477a4532d>\u001b[0m in \u001b[0;36mcausality_check\u001b[0;34m(self, X, X_indices, outcome_val, outcome_func)\u001b[0m\n\u001b[1;32m    241\u001b[0m     \u001b[0;32mdef\u001b[0m \u001b[0mcausality_check\u001b[0m\u001b[0;34m(\u001b[0m\u001b[0mself\u001b[0m\u001b[0;34m,\u001b[0m\u001b[0mX\u001b[0m\u001b[0;34m,\u001b[0m\u001b[0mX_indices\u001b[0m\u001b[0;34m,\u001b[0m\u001b[0moutcome_val\u001b[0m\u001b[0;34m,\u001b[0m\u001b[0moutcome_func\u001b[0m\u001b[0;34m)\u001b[0m\u001b[0;34m:\u001b[0m\u001b[0;34m\u001b[0m\u001b[0;34m\u001b[0m\u001b[0m\n\u001b[1;32m    242\u001b[0m         \u001b[0mac_1\u001b[0m \u001b[0;34m=\u001b[0m \u001b[0mself\u001b[0m\u001b[0;34m.\u001b[0m\u001b[0mac1_check\u001b[0m\u001b[0;34m(\u001b[0m\u001b[0mX\u001b[0m\u001b[0;34m,\u001b[0m\u001b[0mX_indices\u001b[0m\u001b[0;34m,\u001b[0m\u001b[0moutcome_func\u001b[0m\u001b[0;34m,\u001b[0m\u001b[0moutcome_val\u001b[0m\u001b[0;34m)\u001b[0m\u001b[0;34m\u001b[0m\u001b[0;34m\u001b[0m\u001b[0m\n\u001b[0;32m--> 243\u001b[0;31m         \u001b[0mac_2\u001b[0m \u001b[0;34m=\u001b[0m \u001b[0mself\u001b[0m\u001b[0;34m.\u001b[0m\u001b[0mZ_and_W_search\u001b[0m\u001b[0;34m(\u001b[0m\u001b[0mX\u001b[0m\u001b[0;34m,\u001b[0m\u001b[0mX_indices\u001b[0m\u001b[0;34m,\u001b[0m\u001b[0moutcome_func\u001b[0m\u001b[0;34m,\u001b[0m\u001b[0moutcome_val\u001b[0m\u001b[0;34m,\u001b[0m\u001b[0;36m0\u001b[0m\u001b[0;34m)\u001b[0m\u001b[0;34m\u001b[0m\u001b[0;34m\u001b[0m\u001b[0m\n\u001b[0m\u001b[1;32m    244\u001b[0m         \u001b[0mac_3\u001b[0m \u001b[0;34m=\u001b[0m \u001b[0mself\u001b[0m\u001b[0;34m.\u001b[0m\u001b[0mac3_check\u001b[0m\u001b[0;34m(\u001b[0m\u001b[0mX\u001b[0m\u001b[0;34m,\u001b[0m\u001b[0mX_indices\u001b[0m\u001b[0;34m,\u001b[0m\u001b[0moutcome_func\u001b[0m\u001b[0;34m,\u001b[0m\u001b[0moutcome_val\u001b[0m\u001b[0;34m)\u001b[0m\u001b[0;34m\u001b[0m\u001b[0;34m\u001b[0m\u001b[0m\n\u001b[1;32m    245\u001b[0m         \u001b[0mself\u001b[0m\u001b[0;34m.\u001b[0m\u001b[0mwrong_check\u001b[0m\u001b[0;34m(\u001b[0m\u001b[0mac_1\u001b[0m\u001b[0;34m,\u001b[0m\u001b[0mac_2\u001b[0m\u001b[0;34m,\u001b[0m\u001b[0mac_3\u001b[0m\u001b[0;34m)\u001b[0m\u001b[0;34m\u001b[0m\u001b[0;34m\u001b[0m\u001b[0m\n",
      "\u001b[0;32m<ipython-input-294-f21477a4532d>\u001b[0m in \u001b[0;36mZ_and_W_search\u001b[0;34m(self, X, X_indices, outcome_function, outcome_val, defn)\u001b[0m\n\u001b[1;32m    197\u001b[0m                                                              curr_W_indices,outcome_function,outcome_val)\n\u001b[1;32m    198\u001b[0m                         ac2_u_check = self.ac2_u_check_given_Z_W(updated_Z,curr_Z_indices,X,X_indices,updated_W,\n\u001b[0;32m--> 199\u001b[0;31m                                                              curr_W_indices,outcome_function,outcome_val)\n\u001b[0m\u001b[1;32m    200\u001b[0m                         \u001b[0;32mif\u001b[0m\u001b[0;34m(\u001b[0m\u001b[0;34m(\u001b[0m\u001b[0mdefn\u001b[0m \u001b[0;34m==\u001b[0m \u001b[0;36m0\u001b[0m \u001b[0;32mand\u001b[0m \u001b[0mac2_check\u001b[0m\u001b[0;34m)\u001b[0m \u001b[0;32mor\u001b[0m \u001b[0;34m(\u001b[0m\u001b[0mdefn\u001b[0m \u001b[0;34m==\u001b[0m \u001b[0;36m1\u001b[0m \u001b[0;32mand\u001b[0m \u001b[0mac2_u_check\u001b[0m\u001b[0;34m)\u001b[0m\u001b[0;34m)\u001b[0m\u001b[0;34m:\u001b[0m\u001b[0;34m\u001b[0m\u001b[0;34m\u001b[0m\u001b[0m\n\u001b[1;32m    201\u001b[0m                             \u001b[0morig_W\u001b[0m \u001b[0;34m=\u001b[0m \u001b[0;34m[\u001b[0m\u001b[0mself\u001b[0m\u001b[0;34m.\u001b[0m\u001b[0mendogenous_var\u001b[0m\u001b[0;34m[\u001b[0m\u001b[0mi\u001b[0m\u001b[0;34m]\u001b[0m \u001b[0;32mfor\u001b[0m \u001b[0mi\u001b[0m \u001b[0;32min\u001b[0m \u001b[0mcurr_W_indices\u001b[0m\u001b[0;34m]\u001b[0m\u001b[0;34m\u001b[0m\u001b[0;34m\u001b[0m\u001b[0m\n",
      "\u001b[0;32m<ipython-input-294-f21477a4532d>\u001b[0m in \u001b[0;36mac2_u_check_given_Z_W\u001b[0;34m(self, Z, Z_indices, X, X_indices, W, W_indices, outcome_function, outcome_val)\u001b[0m\n\u001b[1;32m    159\u001b[0m     \u001b[0;32mdef\u001b[0m \u001b[0mac2_u_check_given_Z_W\u001b[0m\u001b[0;34m(\u001b[0m\u001b[0mself\u001b[0m\u001b[0;34m,\u001b[0m\u001b[0mZ\u001b[0m\u001b[0;34m,\u001b[0m\u001b[0mZ_indices\u001b[0m\u001b[0;34m,\u001b[0m\u001b[0mX\u001b[0m\u001b[0;34m,\u001b[0m\u001b[0mX_indices\u001b[0m\u001b[0;34m,\u001b[0m\u001b[0mW\u001b[0m\u001b[0;34m,\u001b[0m\u001b[0mW_indices\u001b[0m\u001b[0;34m,\u001b[0m\u001b[0moutcome_function\u001b[0m\u001b[0;34m,\u001b[0m\u001b[0moutcome_val\u001b[0m\u001b[0;34m)\u001b[0m\u001b[0;34m:\u001b[0m\u001b[0;34m\u001b[0m\u001b[0;34m\u001b[0m\u001b[0m\n\u001b[1;32m    160\u001b[0m         \u001b[0mac2_a\u001b[0m \u001b[0;34m=\u001b[0m \u001b[0mself\u001b[0m\u001b[0;34m.\u001b[0m\u001b[0mac2_a_check\u001b[0m\u001b[0;34m(\u001b[0m\u001b[0mZ\u001b[0m\u001b[0;34m,\u001b[0m\u001b[0mZ_indices\u001b[0m\u001b[0;34m,\u001b[0m\u001b[0mX\u001b[0m\u001b[0;34m,\u001b[0m\u001b[0mX_indices\u001b[0m\u001b[0;34m,\u001b[0m\u001b[0mW\u001b[0m\u001b[0;34m,\u001b[0m\u001b[0mW_indices\u001b[0m\u001b[0;34m,\u001b[0m\u001b[0moutcome_function\u001b[0m\u001b[0;34m,\u001b[0m\u001b[0moutcome_val\u001b[0m\u001b[0;34m)\u001b[0m\u001b[0;34m\u001b[0m\u001b[0;34m\u001b[0m\u001b[0m\n\u001b[0;32m--> 161\u001b[0;31m         \u001b[0mac2_b\u001b[0m \u001b[0;34m=\u001b[0m \u001b[0mself\u001b[0m\u001b[0;34m.\u001b[0m\u001b[0mac2_b_u_check\u001b[0m\u001b[0;34m(\u001b[0m\u001b[0mZ\u001b[0m\u001b[0;34m,\u001b[0m\u001b[0mZ_indices\u001b[0m\u001b[0;34m,\u001b[0m\u001b[0mX\u001b[0m\u001b[0;34m,\u001b[0m\u001b[0mX_indices\u001b[0m\u001b[0;34m,\u001b[0m\u001b[0mW\u001b[0m\u001b[0;34m,\u001b[0m\u001b[0mW_indices\u001b[0m\u001b[0;34m,\u001b[0m\u001b[0moutcome_function\u001b[0m\u001b[0;34m,\u001b[0m\u001b[0moutcome_val\u001b[0m\u001b[0;34m)\u001b[0m\u001b[0;34m\u001b[0m\u001b[0;34m\u001b[0m\u001b[0m\n\u001b[0m\u001b[1;32m    162\u001b[0m         \u001b[0;32mif\u001b[0m\u001b[0;34m(\u001b[0m\u001b[0mac2_a\u001b[0m \u001b[0;32mand\u001b[0m \u001b[0mac2_b\u001b[0m\u001b[0;34m)\u001b[0m\u001b[0;34m:\u001b[0m\u001b[0;34m\u001b[0m\u001b[0;34m\u001b[0m\u001b[0m\n\u001b[1;32m    163\u001b[0m             \u001b[0;32mreturn\u001b[0m \u001b[0;32mTrue\u001b[0m\u001b[0;34m\u001b[0m\u001b[0;34m\u001b[0m\u001b[0m\n",
      "\u001b[0;32m<ipython-input-294-f21477a4532d>\u001b[0m in \u001b[0;36mac2_b_u_check\u001b[0;34m(self, Z, Z_indices, X, X_indices, W, W_indices, outcome_function, outcome_val)\u001b[0m\n\u001b[1;32m    122\u001b[0m                     \u001b[0mcurr_W\u001b[0m\u001b[0;34m[\u001b[0m\u001b[0mi\u001b[0m\u001b[0;34m]\u001b[0m \u001b[0;34m=\u001b[0m \u001b[0morig_W\u001b[0m\u001b[0;34m[\u001b[0m\u001b[0mi\u001b[0m\u001b[0;34m]\u001b[0m\u001b[0;34m\u001b[0m\u001b[0;34m\u001b[0m\u001b[0m\n\u001b[1;32m    123\u001b[0m                 \u001b[0mcurr_V\u001b[0m \u001b[0;34m=\u001b[0m \u001b[0mV_given_set\u001b[0m\u001b[0;34m(\u001b[0m\u001b[0mV\u001b[0m\u001b[0;34m,\u001b[0m\u001b[0mcurr_Z\u001b[0m\u001b[0;34m,\u001b[0m\u001b[0mZ_indices\u001b[0m\u001b[0;34m)\u001b[0m\u001b[0;34m\u001b[0m\u001b[0;34m\u001b[0m\u001b[0m\n\u001b[0;32m--> 124\u001b[0;31m                 \u001b[0mcurr_V\u001b[0m \u001b[0;34m=\u001b[0m \u001b[0mV_given_set\u001b[0m\u001b[0;34m(\u001b[0m\u001b[0mcurr_V\u001b[0m\u001b[0;34m,\u001b[0m\u001b[0mcurr_W\u001b[0m\u001b[0;34m,\u001b[0m\u001b[0mW_indices\u001b[0m\u001b[0;34m)\u001b[0m\u001b[0;34m\u001b[0m\u001b[0;34m\u001b[0m\u001b[0m\n\u001b[0m\u001b[1;32m    125\u001b[0m                 \u001b[0moutcome\u001b[0m \u001b[0;34m=\u001b[0m \u001b[0moutcome_function\u001b[0m\u001b[0;34m(\u001b[0m\u001b[0mself\u001b[0m\u001b[0;34m.\u001b[0m\u001b[0mexogenous_var\u001b[0m\u001b[0;34m,\u001b[0m\u001b[0mcurr_V\u001b[0m\u001b[0;34m)\u001b[0m\u001b[0;34m\u001b[0m\u001b[0;34m\u001b[0m\u001b[0m\n\u001b[1;32m    126\u001b[0m                 \u001b[0mcurr_W\u001b[0m \u001b[0;34m=\u001b[0m \u001b[0mW\u001b[0m\u001b[0;34m.\u001b[0m\u001b[0mcopy\u001b[0m\u001b[0;34m(\u001b[0m\u001b[0;34m)\u001b[0m\u001b[0;34m\u001b[0m\u001b[0;34m\u001b[0m\u001b[0m\n",
      "\u001b[0;32m<ipython-input-294-f21477a4532d>\u001b[0m in \u001b[0;36mV_given_set\u001b[0;34m(V, X_or_W, indices)\u001b[0m\n\u001b[1;32m      7\u001b[0m     \u001b[0mvar_seen\u001b[0m \u001b[0;34m=\u001b[0m \u001b[0;36m0\u001b[0m\u001b[0;34m\u001b[0m\u001b[0;34m\u001b[0m\u001b[0m\n\u001b[1;32m      8\u001b[0m     \u001b[0;32mfor\u001b[0m \u001b[0mi\u001b[0m \u001b[0;32min\u001b[0m \u001b[0mrange\u001b[0m\u001b[0;34m(\u001b[0m\u001b[0mlen\u001b[0m\u001b[0;34m(\u001b[0m\u001b[0mV\u001b[0m\u001b[0;34m)\u001b[0m\u001b[0;34m)\u001b[0m\u001b[0;34m:\u001b[0m\u001b[0;34m\u001b[0m\u001b[0;34m\u001b[0m\u001b[0m\n\u001b[0;32m----> 9\u001b[0;31m         \u001b[0;32mif\u001b[0m \u001b[0mi\u001b[0m \u001b[0;32min\u001b[0m \u001b[0mindices\u001b[0m\u001b[0;34m:\u001b[0m\u001b[0;34m\u001b[0m\u001b[0;34m\u001b[0m\u001b[0m\n\u001b[0m\u001b[1;32m     10\u001b[0m             \u001b[0mupdated_V\u001b[0m\u001b[0;34m[\u001b[0m\u001b[0mi\u001b[0m\u001b[0;34m]\u001b[0m \u001b[0;34m=\u001b[0m \u001b[0mX_or_W\u001b[0m\u001b[0;34m[\u001b[0m\u001b[0mvar_seen\u001b[0m\u001b[0;34m]\u001b[0m\u001b[0;34m\u001b[0m\u001b[0;34m\u001b[0m\u001b[0m\n\u001b[1;32m     11\u001b[0m             \u001b[0mvar_seen\u001b[0m \u001b[0;34m+=\u001b[0m \u001b[0;36m1\u001b[0m\u001b[0;34m\u001b[0m\u001b[0;34m\u001b[0m\u001b[0m\n",
      "\u001b[0;31mKeyboardInterrupt\u001b[0m: "
     ]
    }
   ],
   "source": [
    "X = [True]\n",
    "X_index = [0]\n",
    "for i in range(7):\n",
    "    X_index = [i]\n",
    "    print(\"Testing Causality of Voter \" + str(i+1) + \" (Expected: True)\")\n",
    "    print(Election_Case_1.causality_check(X,X_index,True,A_victory))\n",
    "    print(\"\\nTesting (Updated Defn.)Causality of Voter \" + str(i+1) + \" (Expected: True)\")\n",
    "    print(Election_Case_1.updated_causality_check(X,X_index,True,A_victory))\n",
    "    print(\"\\nTesting (modified Defn.)Causality of Voter \" + str(i+1) + \" (Expected: False (partial))\")\n",
    "    print(Election_Case_1.modified_causality_check(X,X_index,True,A_victory))\n",
    "    print(\"--------\")"
   ]
  },
  {
   "cell_type": "code",
   "execution_count": null,
   "metadata": {},
   "outputs": [],
   "source": [
    "X = [True]\n",
    "X_index = [0]\n",
    "for i in range(7):\n",
    "    X_index = [i]\n",
    "    print(\"\\nTesting Responsibility of Voter \" + str(i+1) + \" (Expected: 1/4)\")\n",
    "    print(Election_Case_1.responsibility(X,X_index,True,A_victory))\n",
    "    print(\"\\nTesting Influence of Voter \" + str(i+1))\n",
    "    print(Election_Case_1.influence(X,X_index,2,A_victory))\n",
    "    print(\"\\nAdj Responsibility of \\\"\")\n",
    "    print(Election_Case_1.adj_responsibility(X,X_index,2,True,A_victory))\n",
    "    print(\"\\nAdj_2 Responsibility of \\\"\")\n",
    "    print(Election_Case_1.adj_responsibility_2(X,X_index,2,True,A_victory))\n",
    "    print(\"------------------------------------------------\")"
   ]
  },
  {
   "cell_type": "markdown",
   "metadata": {},
   "source": [
    "## Example (Responsibility Check): Case 2\n",
    "### Election between Candidate A and Candidate B w/ result 4-3 (tweaked from 6-5 for faster testing)\n",
    "### Is each voter a cause of Candidate A's victory? What is the responsibility of each voter"
   ]
  },
  {
   "cell_type": "code",
   "execution_count": null,
   "metadata": {},
   "outputs": [],
   "source": [
    "U = [True for i in range(4)] + [False for i in range(3)]\n",
    "V = U + [True,False]\n",
    "R = [(False,True) for i in range(9)]\n",
    "def A_victory(U,V):\n",
    "    return sum([1 for vote in V[0:7] if vote == True]) > 3\n",
    "F = [None for i in range(7)] + [A_victory, not A_victory]\n",
    "Election_Case_2 = Causal_Model(U,V,R,F)"
   ]
  },
  {
   "cell_type": "code",
   "execution_count": null,
   "metadata": {},
   "outputs": [],
   "source": [
    "X = [True]\n",
    "X_index = [0]\n",
    "for i in range(7):\n",
    "    X_index = [i]\n",
    "    print(\"Testing Causality of Voter \" + str(i+1) + \" (Expected: True)\")\n",
    "    print(Election_Case_2.causality_check(X,X_index,True,A_victory))\n",
    "    print(\"\\nTesting (Updated Defn.) Causality of Voter \" + str(i+1) + \" (Expected: True)\")\n",
    "    print(Election_Case_2.updated_causality_check(X,X_index,True,A_victory))\n",
    "    print(\"\\nTesting (modified Defn.) Causality of Voter \" + str(i+1) + \" (Expected: True)\")\n",
    "    print(Election_Case_2.modified_causality_check(X,X_index,True,A_victory))\n",
    "    print(\"-----------------------\")"
   ]
  },
  {
   "cell_type": "code",
   "execution_count": null,
   "metadata": {},
   "outputs": [],
   "source": [
    "X = [True]\n",
    "X_index = [0]\n",
    "for i in range(7):\n",
    "    X_index = [i]\n",
    "    if(i < 4):\n",
    "        print(\"\\nTesting Responsibility of Voter \" + str(i+1) + \" (Expected: 1)\")\n",
    "        print(Election_Case_2.responsibility(X,X_index,True,A_victory))\n",
    "        print(\"\\nInfluence of \\\"\")\n",
    "        print(Election_Case_2.influence(X,X_index,2,A_victory))\n",
    "        print(\"\\nAdj Responsibility of \\\"\")\n",
    "        print(Election_Case_2.adj_responsibility(X,X_index,2,True,A_victory))\n",
    "        print(\"\\nAdj_2 Responsibility of \\\"\")\n",
    "        print(Election_Case_2.adj_responsibility_2(X,X_index,2,True,A_victory))\n",
    "        print(\"-------------------------------\")\n",
    "    else:\n",
    "        print(\"*****CHECK*****\")\n",
    "        print(\"\\nTesting Responsibility of Voter \" + str(i+1) + \" (Expected: 1/2)\")\n",
    "        print(Election_Case_2.responsibility(X,X_index,True,A_victory))\n",
    "        print(\"\\nInfluence of \\\"\")\n",
    "        print(Election_Case_2.influence(X,X_index,2,A_victory))\n",
    "        print(\"\\nAdj Responsibility of \\\"\")\n",
    "        print(Election_Case_2.adj_responsibility(X,X_index,2,True,A_victory))\n",
    "        print(\"\\nAdj_2 Responsibility of \\\"\")\n",
    "        print(Election_Case_2.adj_responsibility_2(X,X_index,2,True,A_victory))\n",
    "        print(\"-------------------------------\")"
   ]
  },
  {
   "cell_type": "markdown",
   "metadata": {},
   "source": [
    "## Example (Influence Check): Case 1\n",
    "### Say we have F(P,Q) = P and Q"
   ]
  },
  {
   "cell_type": "code",
   "execution_count": null,
   "metadata": {},
   "outputs": [],
   "source": [
    "U = [True, True]\n",
    "V = [True,True,True]\n",
    "R = [(False,True) for i in range(3)]\n",
    "def p_and_q(U,V):\n",
    "    return V[0] and V[1]\n",
    "F = [None, None,p_and_q]\n",
    "Inf_Case_1 = Causal_Model(U,V,R,F)"
   ]
  },
  {
   "cell_type": "code",
   "execution_count": null,
   "metadata": {},
   "outputs": [],
   "source": [
    "X = [True]\n",
    "X_index = [0]\n",
    "print(\"Testing Causality of P (Expected: True)\")\n",
    "print(Inf_Case_1.causality_check(X,X_index,True,p_and_q))\n",
    "print(\"\\nTesting (Updated defn.) Causality of P (Expected: True)\")\n",
    "print(Inf_Case_1.updated_causality_check(X,X_index,True,p_and_q))\n",
    "print(\"\\nTesting (modified defn.) Causality of P (Expected: True)\")\n",
    "print(Inf_Case_1.modified_causality_check(X,X_index,True,p_and_q))"
   ]
  },
  {
   "cell_type": "code",
   "execution_count": null,
   "metadata": {},
   "outputs": [],
   "source": [
    "print(\"Testing Responsibility of P (Expected: 1)\")\n",
    "print(Inf_Case_1.responsibility(X,X_index,True,p_and_q))"
   ]
  },
  {
   "cell_type": "code",
   "execution_count": null,
   "metadata": {},
   "outputs": [],
   "source": [
    "print(\"Testing Influence of P (Expected: 1/2)\")\n",
    "print(Inf_Case_1.influence(X,X_index,1,p_and_q))"
   ]
  },
  {
   "cell_type": "code",
   "execution_count": null,
   "metadata": {},
   "outputs": [],
   "source": [
    "print(\"Adjusted Responsibility of P\")\n",
    "print(Inf_Case_1.adj_responsibility(X,X_index,1,True,p_and_q))"
   ]
  },
  {
   "cell_type": "code",
   "execution_count": null,
   "metadata": {},
   "outputs": [],
   "source": [
    "print(\"Adj_2 Responsibility of P\")\n",
    "print(Inf_Case_1.adj_responsibility_2(X,X_index,1,True,p_and_q))"
   ]
  },
  {
   "cell_type": "markdown",
   "metadata": {},
   "source": [
    "### Testing Responsibility as number of var increases (but still remains conjunctive scenario)"
   ]
  },
  {
   "cell_type": "code",
   "execution_count": null,
   "metadata": {},
   "outputs": [],
   "source": [
    "for i in range(1,5):\n",
    "    U.append(True)\n",
    "    V.append(True)\n",
    "    R.append((False,True))\n",
    "    F = [None for j in range(2+i)] + [p_and_q]\n",
    "    Inf_Case_1 = Causal_Model(U,V,R,F)\n",
    "    X = [True]\n",
    "    X_index = [0]\n",
    "    print(\"\\n --------\")\n",
    "    print(\"For \" + str(i+2) + \" Agents: \")\n",
    "    print(\"Testing Responsibility of P\")\n",
    "    print(Inf_Case_1.responsibility(X,X_index,True,p_and_q))\n",
    "    print(\"Adjusted Responsibility of Q\")\n",
    "    print(Inf_Case_1.adj_responsibility(X,X_index,1,True,p_and_q))"
   ]
  },
  {
   "cell_type": "markdown",
   "metadata": {},
   "source": [
    "## Example (Influence Check): Case 2\n",
    "### Say we have F(P,Q) = P or Q"
   ]
  },
  {
   "cell_type": "code",
   "execution_count": null,
   "metadata": {},
   "outputs": [],
   "source": [
    "U = [True, True]\n",
    "V = [True,True,True]\n",
    "R = [(False,True) for i in range(3)]\n",
    "def p_or_q(U,V):\n",
    "    return V[0] or V[1]\n",
    "F = [None, None,p_or_q]\n",
    "Inf_Case_2 = Causal_Model(U,V,R,F)"
   ]
  },
  {
   "cell_type": "code",
   "execution_count": null,
   "metadata": {},
   "outputs": [],
   "source": [
    "X = [True]\n",
    "X_index = [0]\n",
    "print(\"Testing Causality of P (Expected: True)\")\n",
    "print(Inf_Case_2.causality_check(X,X_index,True,p_or_q))\n",
    "print(\"\\nTesting (Updated defn.) Causality of P (Expected: True)\")\n",
    "print(Inf_Case_1.updated_causality_check(X,X_index,True,p_or_q))\n",
    "print(\"\\nTesting (modified defn.) Causality of P (Expected: False (partial))\")\n",
    "print(Inf_Case_1.modified_causality_check(X,X_index,True,p_or_q))"
   ]
  },
  {
   "cell_type": "code",
   "execution_count": null,
   "metadata": {},
   "outputs": [],
   "source": [
    "print(\"Testing Responsibility of P (Expected: 1/2)\")\n",
    "print(Inf_Case_2.responsibility(X,X_index,True,p_or_q))"
   ]
  },
  {
   "cell_type": "code",
   "execution_count": null,
   "metadata": {},
   "outputs": [],
   "source": [
    "print(\"Testing Influence of P (Expected: 1/2)\")\n",
    "print(Inf_Case_2.influence(X,X_index,1,p_or_q))"
   ]
  },
  {
   "cell_type": "code",
   "execution_count": null,
   "metadata": {},
   "outputs": [],
   "source": [
    "print(\"Adj Responsibility of P\")\n",
    "print(Inf_Case_2.adj_responsibility(X,X_index,1,True,p_or_q))"
   ]
  },
  {
   "cell_type": "code",
   "execution_count": null,
   "metadata": {},
   "outputs": [],
   "source": [
    "print(\"Adj_2 Responsibility of P\")\n",
    "print(Inf_Case_2.adj_responsibility_2(X,X_index,1,True,p_or_q))"
   ]
  },
  {
   "cell_type": "markdown",
   "metadata": {},
   "source": [
    "### Testing with more var (still disj. scenario)"
   ]
  },
  {
   "cell_type": "code",
   "execution_count": null,
   "metadata": {},
   "outputs": [],
   "source": [
    "for i in range(1,5):\n",
    "    U.append(True)\n",
    "    V.append(True)\n",
    "    R.append((False,True))\n",
    "    F = [None for j in range(2+i)] + [p_or_q]\n",
    "    Inf_Case_1 = Causal_Model(U,V,R,F)\n",
    "    X = [True]\n",
    "    X_index = [0]\n",
    "    print(\"\\n --------\")\n",
    "    print(\"For \" + str(i+2) + \" Agents: \")\n",
    "    print(\"Testing Responsibility of P\")\n",
    "    print(Inf_Case_1.responsibility(X,X_index,True,p_or_q))\n",
    "    print(\"\\nAdj Responsibility of P\")\n",
    "    print(Inf_Case_2.adj_responsibility(X,X_index,1,True,p_or_q))\n",
    "    print(\"\\nAdj_2 Responsibility of P\")\n",
    "    print(Inf_Case_2.adj_responsibility_2(X,X_index,1,True,p_or_q))"
   ]
  },
  {
   "cell_type": "markdown",
   "metadata": {},
   "source": [
    "## Example: Electoral College\n",
    "### Say we have Democrat Pres. elected by one-vote. If we use a narrow model of assigning a vote (T = Dem, F=Republican), then we get equal responsibility between states\n",
    "### We want to see responsibility given true electoral votes\n",
    "### Here CA has 55 votes, NJ has 14 votes"
   ]
  },
  {
   "cell_type": "code",
   "execution_count": null,
   "metadata": {},
   "outputs": [],
   "source": [
    "\"\"\"Order: CA,TX,FL,NY,IL,PA,OH,GA,MI,NC,NJ, (Shortened for comp purposes)\"\"\"\n",
    "EC_votes = [55,38,29,29,20,20,18,16,16,15,14]\n",
    "print(\"Num of EC Votes (in scenario): \" + str(int(sum(EC_votes))))\n",
    "print(\"Num of votes needed for tie: \" + str(int(sum(EC_votes)/2)))"
   ]
  },
  {
   "cell_type": "code",
   "execution_count": null,
   "metadata": {},
   "outputs": [],
   "source": [
    "#U = some relevant exogenous var(e.g. every state's election is not rigged)\n",
    "# V = the votes for each state, following EC_votes ordering and upholding scenario (Dem win by 1 vote)\n",
    "# Assumes: True = Vote for Dem. ; False = Vote for Rep.\n",
    "U = [True for i in range(11)]\n",
    "V = [True,False,True,False,True,False,True,False,False,False,True,True,False]\n",
    "R = [(False,True) for i in range(len(V))]\n",
    "#Counts the votes and excludes last 2 elem of V which corresp to Dem_win, Rep_win\n",
    "def dem_win(U,V):\n",
    "    true_vote_idx = [i for i in range(len(V[0:-2])) if V[i] == True]\n",
    "    num_votes = sum([EC_votes[i] for i in true_vote_idx])\n",
    "    return num_votes > (int(sum(EC_votes)/2))\n",
    "F = [None for i in range(len(U))] + [dem_win, not dem_win]\n",
    "EC_model = Causal_Model(U,V,R,F)"
   ]
  },
  {
   "cell_type": "code",
   "execution_count": null,
   "metadata": {},
   "outputs": [],
   "source": [
    "X = [True]\n",
    "X_index= [0]\n",
    "print(\"Testing Causality of CA (Expected: True)\")\n",
    "print(EC_model.causality_check(X,X_index,True,dem_win))\n",
    "print(\"\\n Testing (Updated Defn.) Causality of CA (Expected: True)\")\n",
    "print(EC_model.updated_causality_check(X,X_index,True,dem_win))\n",
    "print(\"\\n Testing (modified Defn.) Causality of CA (Expected: True)\")\n",
    "print(EC_model.modified_causality_check(X,X_index,True,dem_win))"
   ]
  },
  {
   "cell_type": "code",
   "execution_count": null,
   "metadata": {},
   "outputs": [],
   "source": [
    "print(\"Responsibility of CA: (Expected: 1)\")\n",
    "ca_res = EC_model.responsibility(X,X_index,True,dem_win)\n",
    "print(ca_res)"
   ]
  },
  {
   "cell_type": "code",
   "execution_count": null,
   "metadata": {},
   "outputs": [],
   "source": [
    "print(\"Influence of CA\")\n",
    "ca_inf = EC_model.influence(X,X_index,2,dem_win)\n",
    "print(ca_inf)"
   ]
  },
  {
   "cell_type": "code",
   "execution_count": null,
   "metadata": {},
   "outputs": [],
   "source": [
    "X = [True]\n",
    "X_index= [10]\n",
    "print(\"Testing Causality of NJ (Expected: True)\")\n",
    "print(EC_model.causality_check(X,X_index,True,dem_win))\n",
    "print(\"\\nTesting (Updated Defn.) Causality of NJ (Expected: True)\")\n",
    "print(EC_model.updated_causality_check(X,X_index,True,dem_win))\n",
    "print(\"\\nTesting (modified Defn.) Causality of NJ (Expected: True)\")\n",
    "print(EC_model.modified_causality_check(X,X_index,True,dem_win))"
   ]
  },
  {
   "cell_type": "code",
   "execution_count": null,
   "metadata": {},
   "outputs": [],
   "source": [
    "print(\"Responsibility of NJ: (Expected: 1)\")\n",
    "nj_res = EC_model.responsibility(X,X_index,True,dem_win)\n",
    "print(nj_res)"
   ]
  },
  {
   "cell_type": "code",
   "execution_count": null,
   "metadata": {},
   "outputs": [],
   "source": [
    "print(\"Influence of NJ (Expect < CA)\")\n",
    "nj_inf = EC_model.influence(X,X_index,2,dem_win)\n",
    "print(nj_inf)"
   ]
  },
  {
   "cell_type": "code",
   "execution_count": null,
   "metadata": {},
   "outputs": [],
   "source": [
    "X = [True]\n",
    "X_index= [0]\n",
    "print(\"Adj Responsibility for CA (inf*res)\")\n",
    "print(EC_model.adj_responsibility(X,X_index,2,True,dem_win))\n",
    "print(\"\\nAdj_2 Responsibility for CA\")\n",
    "print(EC_model.adj_responsibility_2(X,X_index,2,True,dem_win))"
   ]
  },
  {
   "cell_type": "code",
   "execution_count": null,
   "metadata": {},
   "outputs": [],
   "source": [
    "X = [True]\n",
    "X_index= [10]\n",
    "nj_ad = EC_model.adj_responsibility(X,X_index,2,True,dem_win)\n",
    "print(nj_ad)"
   ]
  },
  {
   "cell_type": "code",
   "execution_count": null,
   "metadata": {},
   "outputs": [],
   "source": [
    "print(\"Adj_2 Responsibility for NJ\")\n",
    "nj_ad2 = EC_model.adj_responsibility_2(X,X_index,2,True,dem_win)\n",
    "print(nj_ad2)"
   ]
  },
  {
   "cell_type": "code",
   "execution_count": null,
   "metadata": {},
   "outputs": [],
   "source": [
    "#Smaller example, testing what happens if we encode the votes in V instead of just 1 for each state\n",
    "# CA,NJ,TX (fictious example)\n",
    "EC_vote2 = [3,2,2]\n",
    "def dem_win(U,V):\n",
    "    return sum([1 for i in V if i == True]) >= 4\n",
    "U = [True for i in range(3)]\n",
    "V = [False for i in range(3)] + [True for i in range(4)] + [True,False]\n",
    "R = [(False,True) for i in range(9)]\n",
    "F = [None for i in range(7)] + [dem_win,not dem_win]\n",
    "EC2 = Causal_Model(U,V,R,F)"
   ]
  },
  {
   "cell_type": "code",
   "execution_count": null,
   "metadata": {},
   "outputs": [],
   "source": [
    "X = [True,True]\n",
    "X_index= [3,4]\n",
    "print(\"Testing Causality of NJ (Expected: True)\")\n",
    "print(EC2.causality_check(X,X_index,True,dem_win))\n",
    "print(\"\\n Testing (Updated Defn. Causality of NJ (Expected: True)\")\n",
    "print(EC2.updated_causality_check(X,X_index,True,dem_win))\n",
    "print(\"\\n Testing (modified Defn. Causality of NJ (Expected: True)\")\n",
    "print(EC2.modified_causality_check(X,X_index,True,dem_win))"
   ]
  },
  {
   "cell_type": "code",
   "execution_count": null,
   "metadata": {},
   "outputs": [],
   "source": [
    "print(\"Testing Responsibility of NJ (Expected: 1)\")\n",
    "print(EC2.responsibility(X,X_index,True,dem_win))"
   ]
  },
  {
   "cell_type": "code",
   "execution_count": null,
   "metadata": {},
   "outputs": [],
   "source": [
    "print(\"Testing Influence of NJ (Expected: >0)\")\n",
    "print(EC2.influence(X,X_index,2,dem_win))\n",
    "print(\"\\nAdj Responsibilty of NJ\")\n",
    "print(EC2.adj_responsibility(X,X_index,2,True,dem_win))\n",
    "print(\"\\nAdj_2 Responsibilty of NJ\")\n",
    "print(EC2.adj_responsibility_2(X,X_index,2,True,dem_win))"
   ]
  },
  {
   "cell_type": "code",
   "execution_count": null,
   "metadata": {},
   "outputs": [],
   "source": [
    "X = [True,True]\n",
    "X_index= [5,6]\n",
    "print(\"Testing Influence of TX (Expected: >0)\")\n",
    "print(EC2.influence(X,X_index,2,dem_win))\n",
    "print(\"\\nAdj Responsibilty of TX\")\n",
    "print(EC2.adj_responsibility(X,X_index,2,True,dem_win))\n",
    "print(\"\\nAdj_2 Responsibilty of TX\")\n",
    "print(EC2.adj_responsibility_2(X,X_index,2,True,dem_win))"
   ]
  },
  {
   "cell_type": "code",
   "execution_count": null,
   "metadata": {},
   "outputs": [],
   "source": [
    "#Smaller example, testing what happens if we encode the votes in V instead of just 1 for each state\n",
    "# CA,NJ,TX (fictious example)\n",
    "EC_vote2 = [3,2,2]\n",
    "def dem_win(U,V):\n",
    "    return sum([1 for i in V if i == True]) >= 4\n",
    "U = [True for i in range(3)]\n",
    "V = [True for i in range(5)] + [False for i in range(2)] + [True,False]\n",
    "R = [(False,True) for i in range(9)]\n",
    "F = [None for i in range(7)] + [dem_win,not dem_win]\n",
    "EC2 = Causal_Model(U,V,R,F)"
   ]
  },
  {
   "cell_type": "code",
   "execution_count": null,
   "metadata": {},
   "outputs": [],
   "source": [
    "X = [True,True]\n",
    "X_index= [3,4]\n",
    "print(\"Testing Causality of NJ (Expected: True)\")\n",
    "print(EC2.causality_check(X,X_index,True,dem_win))\n",
    "print(\"\\n Testing (Updated Defn.) Causality of NJ (Expected: True)\")\n",
    "print(EC2.updated_causality_check(X,X_index,True,dem_win))\n",
    "print(\"\\n Testing (modified Defn.) Causality of NJ (Expected: False (since votes encoded 1 by 1 they are partial))\")\n",
    "print(EC2.modified_causality_check(X,X_index,True,dem_win))"
   ]
  },
  {
   "cell_type": "code",
   "execution_count": null,
   "metadata": {},
   "outputs": [],
   "source": [
    "X = [True,True,True]\n",
    "X_index= [0,1,2]\n",
    "print(\"Testing Causality of CA (Expected: True)\")\n",
    "print(EC2.causality_check(X,X_index,True,dem_win))\n",
    "print(\"\\nTesting (Updated Defn.)Causality of CA (Expected: True)\")\n",
    "print(EC2.updated_causality_check(X,X_index,True,dem_win))\n",
    "print(\"\\nTesting (modified Defn.)Causality of CA (Expected: False )\")\n",
    "print(EC2.modified_causality_check(X,X_index,True,dem_win))"
   ]
  },
  {
   "cell_type": "code",
   "execution_count": null,
   "metadata": {},
   "outputs": [],
   "source": [
    "#Take a voting scheme, map to propositional formula (D and A or (D or B)...)\n",
    "#Create visualizations, (3d visualizations of A given fixed A,B in A,B,C formula )\n",
    "#Evaluate with different voting schemesmj"
   ]
  },
  {
   "cell_type": "markdown",
   "metadata": {},
   "source": [
    "## 3D Plot Work\n",
    "### Plotting influence"
   ]
  },
  {
   "cell_type": "code",
   "execution_count": null,
   "metadata": {},
   "outputs": [],
   "source": [
    "def conj_scenario(U,V):\n",
    "    return V[0] and V[1] and V[2]\n",
    "#Takes a lst of F/T and converts to 0/1 resp.\n",
    "def decode(lst):\n",
    "    return [1 if (i == True) else 0 for i in lst]\n",
    "A_inf = []\n",
    "B_vals = []\n",
    "C_vals = []\n",
    "potential_val = [(True,True),(False,True),(False,False),(True,False)]\n",
    "U = [True for i in range(3)]\n",
    "R = [(False,True) for i in range(4)]\n",
    "F = [None for i in range(3)] + [conj_scenario]\n",
    "for tup in potential_val:\n",
    "    V = [True,tup[0],tup[1],conj_scenario(U,[True,tup[0],tup[1],None])]\n",
    "    model = Causal_Model(U,V,R,F)\n",
    "    A_inf.append(model.influence([True],[0],1,conj_scenario))\n",
    "    B_vals.append(tup[0])\n",
    "    C_vals.append(tup[1])\n",
    "    \n",
    "A_inf = np.asarray(A_inf)\n",
    "print(B_vals)\n",
    "B_vals = np.asarray(decode(B_vals))\n",
    "print(B_vals)\n",
    "C_vals = np.asarray(decode(C_vals))\n",
    "fig = plt.figure()\n",
    "ax = fig.gca(projection='3d')\n",
    "ax.plot(B_vals,C_vals,A_inf)\n",
    "ax.set_xlabel('B')\n",
    "ax.set_ylabel('C')\n",
    "plt.show()"
   ]
  },
  {
   "cell_type": "code",
   "execution_count": null,
   "metadata": {},
   "outputs": [],
   "source": [
    "def disj_scenario(U,V):\n",
    "    return V[0] or V[1] or V[2]\n",
    "A_inf = []\n",
    "B_vals = []\n",
    "C_vals = []\n",
    "potential_val = [(True,True),(False,True),(False,False),(True,False)]\n",
    "U = [True for i in range(3)]\n",
    "R = [(False,True) for i in range(4)]\n",
    "F = [None for i in range(3)] + [disj_scenario]\n",
    "for tup in potential_val:\n",
    "    V = [True,tup[0],tup[1],disj_scenario(U,[True,tup[0],tup[1],None])]\n",
    "    model = Causal_Model(U,V,R,F)\n",
    "    A_inf.append(model.influence([True],[0],1,disj_scenario))\n",
    "    B_vals.append(tup[0])\n",
    "    C_vals.append(tup[1])\n",
    "    \n",
    "A_inf = np.asarray(A_inf)\n",
    "B_vals = np.asarray(decode(B_vals))\n",
    "C_vals = np.asarray(decode(C_vals))\n",
    "fig = plt.figure()\n",
    "ax = fig.gca(projection='3d')\n",
    "ax.scatter(B_vals,C_vals,A_inf)\n",
    "ax.set_xlabel('B')\n",
    "ax.set_ylabel('C')\n",
    "plt.show()"
   ]
  },
  {
   "cell_type": "markdown",
   "metadata": {},
   "source": [
    "### Plotting Responsibility"
   ]
  },
  {
   "cell_type": "code",
   "execution_count": null,
   "metadata": {},
   "outputs": [],
   "source": [
    "def conj_scenario(U,V):\n",
    "    return V[0] and V[1] and V[2]\n",
    "#Takes a lst of F/T and converts to 0/1 resp.\n",
    "def decode(lst):\n",
    "    return [1 if (i == True) else 0 for i in lst]\n",
    "A_resp = []\n",
    "B_vals = []\n",
    "C_vals = []\n",
    "potential_val = [(True,True),(False,True),(False,False),(True,False)]\n",
    "U = [True for i in range(3)]\n",
    "R = [(False,True) for i in range(4)]\n",
    "F = [None for i in range(3)] + [conj_scenario]\n",
    "for tup in potential_val:\n",
    "    outcome = conj_scenario(U,[True,tup[0],tup[1],None])\n",
    "    V = [True,tup[0],tup[1],outcome]\n",
    "    model = Causal_Model(U,V,R,F)\n",
    "    A_resp.append(model.responsibility([True],[0],outcome,conj_scenario))\n",
    "    B_vals.append(tup[0])\n",
    "    C_vals.append(tup[1])\n",
    "    \n",
    "A_resp = np.asarray(A_resp)\n",
    "B_vals = np.asarray(decode(B_vals))\n",
    "C_vals = np.asarray(decode(C_vals))\n",
    "fig = plt.figure()\n",
    "ax = fig.gca(projection='3d')\n",
    "ax.scatter(B_vals,C_vals,A_resp)\n",
    "ax.set_xlabel('B')\n",
    "ax.set_ylabel('C')\n",
    "ax.set_zlabel('A Resp.')\n",
    "plt.show()"
   ]
  },
  {
   "cell_type": "code",
   "execution_count": null,
   "metadata": {},
   "outputs": [],
   "source": [
    "#Plotting disj scenario\n",
    "A_resp = []\n",
    "B_vals = []\n",
    "C_vals = []\n",
    "for tup in potential_val:\n",
    "    outcome = disj_scenario(U,[True,tup[0],tup[1],None])\n",
    "    V = [True,tup[0],tup[1],outcome]\n",
    "    model = Causal_Model(U,V,R,F)\n",
    "    A_resp.append(model.responsibility([True],[0],outcome,disj_scenario))\n",
    "    B_vals.append(tup[0])\n",
    "    C_vals.append(tup[1])\n",
    "A_resp = np.asarray(A_resp)\n",
    "B_vals = np.asarray(decode(B_vals))\n",
    "C_vals = np.asarray(decode(C_vals))\n",
    "fig = plt.figure()\n",
    "ax = fig.gca(projection='3d')\n",
    "ax.scatter(B_vals,C_vals,A_resp)\n",
    "ax.set_xlabel('B')\n",
    "ax.set_ylabel('C')\n",
    "ax.set_zlabel('A Resp.')\n",
    "plt.show()"
   ]
  },
  {
   "cell_type": "markdown",
   "metadata": {},
   "source": [
    "### Creating a function to plot\n",
    "#### Assuming boolean valued var"
   ]
  },
  {
   "cell_type": "code",
   "execution_count": null,
   "metadata": {},
   "outputs": [],
   "source": [
    "#z_val corresps to which function to plot: 0 = resp of X, 1 = influence of X, 2 = adj_resp of X, 3 = adj_resp_2 of X\n",
    "#Assumes Y is length 2 corresp to the other var we want to measure X's z_val relative to \n",
    "#Plots\n",
    "#Returns list of all points (B_val,C_val,Z_val)\n",
    "def plot(X,X_indices,Y_indices,U,V,R,F,outcome_func,num_outcome,z_val):\n",
    "    decode = lambda lst: [1 if (i == True) else 0 for i in lst]\n",
    "    potential_val = [(True,True),(False,True),(False,False),(True,False)]\n",
    "    B_vals = []\n",
    "    C_vals = []\n",
    "    Z_vals = []\n",
    "    fig = plt.figure()\n",
    "    ax = fig.gca(projection='3d')\n",
    "    for tup in potential_val:\n",
    "        V = V_given_set(V,X,X_indices)\n",
    "        B_vals.append(tup[0])\n",
    "        C_vals.append(tup[1])\n",
    "        V = V_given_set(V,[tup[0]],[Y_indices[0]])\n",
    "        V = V_given_set(V,[tup[1]],[Y_indices[1]])\n",
    "        outcome = outcome_func(U,V)\n",
    "        V = V_given_set(V,[outcome],[len(V)-num_outcome])\n",
    "        curr_model = Causal_Model(U,V,R,F)\n",
    "        if z_val == 0:\n",
    "            ax.set_zlabel('A Resp.')\n",
    "            Z_vals.append(curr_model.responsibility(X,X_indices,outcome,outcome_func))\n",
    "        elif z_val == 1:\n",
    "            ax.set_zlabel('A Influence.')\n",
    "            Z_vals.append(curr_model.influence(X,X_indices,num_outcome,outcome_func))\n",
    "        elif z_val == 2:\n",
    "            ax.set_zlabel('Adj Resp of A.')\n",
    "            Z_vals.append(curr_model.adj_responsibility(X,X_indices,num_outcome,outcome,outcome_func))\n",
    "        else:\n",
    "            ax.set_zlabel('Adj Resp #2 of A.')\n",
    "            Z_vals.append(curr_model.adj_responsibility_2(X,X_indices,num_outcome,outcome,outcome_func))\n",
    "    Z_vals = np.asarray(Z_vals)\n",
    "    B_vals = np.asarray(decode(B_vals))\n",
    "    C_vals = np.asarray(decode(C_vals))\n",
    "    ax.scatter(B_vals,C_vals,A_inf)\n",
    "    ax.set_xlabel('B')\n",
    "    ax.set_ylabel('C')\n",
    "    plt.show()\n",
    "    return [(B_vals[i],C_vals[i],Z_vals[i]) for i in range(len(B_vals))]\n"
   ]
  },
  {
   "cell_type": "code",
   "execution_count": null,
   "metadata": {},
   "outputs": [],
   "source": [
    "plot([True],[0],[1,2],[True for i in range (3)], [True for i in range(4)], [(False,True) for i in range(4)],\n",
    "    [None for i in range(3)] + [conj_scenario],conj_scenario,1,2)"
   ]
  },
  {
   "cell_type": "code",
   "execution_count": null,
   "metadata": {},
   "outputs": [],
   "source": [
    "plot([True],[0],[1,2],[True for i in range (3)], [True for i in range(4)], [(False,True) for i in range(4)],\n",
    "    [None for i in range(3)] + [conj_scenario],conj_scenario,1,3)"
   ]
  },
  {
   "cell_type": "code",
   "execution_count": null,
   "metadata": {},
   "outputs": [],
   "source": [
    "plot([True],[0],[1,2],[True for i in range (3)], [True for i in range(4)], [(False,True) for i in range(4)],\n",
    "    [None for i in range(3)] + [disj_scenario],disj_scenario,1,2)"
   ]
  },
  {
   "cell_type": "code",
   "execution_count": null,
   "metadata": {},
   "outputs": [],
   "source": [
    "plot([True],[0],[1,2],[True for i in range (3)], [True for i in range(4)], [(False,True) for i in range(4)],\n",
    "    [None for i in range(3)] + [disj_scenario],disj_scenario,1,3)"
   ]
  },
  {
   "cell_type": "markdown",
   "metadata": {},
   "source": [
    "### Testing Electoral Model"
   ]
  },
  {
   "cell_type": "code",
   "execution_count": null,
   "metadata": {},
   "outputs": [],
   "source": [
    "#U = some relevant exogenous var(e.g. every state's election is not rigged)\n",
    "# V = the votes for each state, following EC_votes ordering and upholding scenario (Dem win by 1 vote)\n",
    "# Assumes: True = Vote for Dem. ; False = Vote for Rep.\n",
    "U = [True for i in range(11)]\n",
    "V = [True,False,True,False,True,False,True,False,False,False,True,True,False]\n",
    "R = [(False,True) for i in range(len(V))]\n",
    "#Counts the votes and excludes last 2 elem of V which corresp to Dem_win, Rep_win\n",
    "def dem_win(U,V):\n",
    "    true_vote_idx = [i for i in range(len(V[0:-2])) if V[i] == True]\n",
    "    num_votes = sum([EC_votes[i] for i in true_vote_idx])\n",
    "    return num_votes > (int(sum(EC_votes)/2))\n",
    "F = [None for i in range(len(U))] + [dem_win, not dem_win]\n",
    "X = [True]\n",
    "X_indices = [0]\n",
    "Y_indices = [1,3]\n",
    "num_outcome = 2\n",
    "outcome_func = dem_win\n",
    "z_val = 0\n",
    "plot(X,X_indices,Y_indices,U,V,R,F,outcome_func,num_outcome,z_val)"
   ]
  },
  {
   "cell_type": "code",
   "execution_count": null,
   "metadata": {},
   "outputs": [],
   "source": [
    "z_val = 1\n",
    "plot(X,X_indices,Y_indices,U,V,R,F,outcome_func,num_outcome,z_val)"
   ]
  },
  {
   "cell_type": "code",
   "execution_count": null,
   "metadata": {},
   "outputs": [],
   "source": [
    "z_val = 2\n",
    "plot(X,X_indices,Y_indices,U,V,R,F,outcome_func,num_outcome,z_val)"
   ]
  },
  {
   "cell_type": "code",
   "execution_count": null,
   "metadata": {},
   "outputs": [],
   "source": [
    "z_val = 3\n",
    "plot(X,X_indices,Y_indices,U,V,R,F,outcome_func,num_outcome,z_val)"
   ]
  },
  {
   "cell_type": "code",
   "execution_count": null,
   "metadata": {},
   "outputs": [],
   "source": [
    "###Plot with #of electoral votes as indep variable\n",
    "### List of \"intuitive\" defn. of responsibility\n",
    "### Plot responsibility (and it's concavity(?))\n",
    "### implement ppl's vote\n",
    "###chernoff bound for mc"
   ]
  },
  {
   "cell_type": "markdown",
   "metadata": {},
   "source": [
    "### Plotting Number of Electoral Votes of CA vs influence of CA"
   ]
  },
  {
   "cell_type": "code",
   "execution_count": null,
   "metadata": {},
   "outputs": [],
   "source": [
    "\"\"\"Order: CA,TX,FL,NY,IL,PA,OH,GA,MI,NC,NJ, (Shortened for comp purposes)\"\"\"\n",
    "EC_votes = [55,38,29,29,20,20,18,16,16,15,14]\n",
    "#U = some relevant exogenous var(e.g. every state's election is not rigged)\n",
    "# V = the votes for each state, following EC_votes ordering and upholding scenario (Dem win by 1 vote)\n",
    "# Assumes: True = Vote for Dem. ; False = Vote for Rep.\n",
    "U = [True for i in range(11)]\n",
    "V = [True,False,True,False,True,False,True,False,False,False,True,True,False]\n",
    "R = [(False,True) for i in range(len(V))]\n",
    "#Counts the votes and excludes last 2 elem of V which corresp to Dem_win, Rep_win\n",
    "def dem_win(U,V):\n",
    "    true_vote_idx = [i for i in range(len(V[0:-2])) if V[i] == True]\n",
    "    num_votes = sum([EC_votes[i] for i in true_vote_idx])\n",
    "    return num_votes > (int(sum(EC_votes)/2))\n",
    "F = [None for i in range(len(U))] + [dem_win, not dem_win]\n",
    "X = [True]\n",
    "X_indices = [0]\n",
    "num_outcome = 2\n",
    "outcome_func = dem_win\n",
    "CA_votes = [i for i in range(1,56)]\n",
    "CA_inf = []\n",
    "for i in CA_votes:\n",
    "    EC_votes[0] = i\n",
    "    EC_model = Causal_Model(U,V,R,F)\n",
    "    CA_inf.append(EC_model.influence(X,X_indices,num_outcome,outcome_func))\n",
    "CA_votes = np.asarray(CA_votes)\n",
    "CA_inf = np.asarray(CA_inf)\n",
    "plt.plot(CA_votes,CA_inf)\n",
    "plt.xlabel('Number of Electoral Votes for CA')\n",
    "plt.ylabel('Influence of CA')"
   ]
  },
  {
   "cell_type": "code",
   "execution_count": null,
   "metadata": {},
   "outputs": [],
   "source": [
    "\"\"\"CA_votes = [i for i in range(1,56)]\n",
    "CA_inf = []\n",
    "for i in CA_votes:\n",
    "    EC_votes[0] = i\n",
    "    EC_model = Causal_Model(U,V,R,F)\n",
    "    CA_inf.append(EC_model.responsibility(X,X_indices,outcome_func(U,V),outcome_func))\n",
    "CA_votes = np.asarray(CA_votes)\n",
    "CA_inf = np.asarray(CA_inf)\n",
    "plt.plot(CA_votes,CA_inf)\n",
    "plt.xlabel('Number of Electoral Votes for CA')\n",
    "plt.ylabel('Responsibility of CA')\"\"\""
   ]
  },
  {
   "cell_type": "code",
   "execution_count": null,
   "metadata": {},
   "outputs": [],
   "source": [
    "\"\"\"\"\"\"Order: CA,TX,FL,NY,IL,PA,OH,GA,MI,NC,NJ, (Shortened for comp purposes)\"\"\"\n",
    "\n",
    "#U = some relevant exogenous var(e.g. every state's election is not rigged)\n",
    "# V = the votes for each state, following EC_votes ordering and upholding scenario (Dem win by 1 vote)\n",
    "# Assumes: True = Vote for Dem. ; False = Vote for Rep.\n",
    "U = [True for i in range(11)]\n",
    "V = [True,False,True,False,True,False,True,False,False,False,True,True,False]\n",
    "R = [(False,True) for i in range(len(V))]\n",
    "#Counts the votes and excludes last 2 elem of V which corresp to Dem_win, Rep_win\n",
    "def dem_win(U,V):\n",
    "    true_vote_idx = [i for i in range(len(V[0:-2])) if V[i] == True]\n",
    "    num_votes = sum([EC_votes[i] for i in true_vote_idx])\n",
    "    return num_votes > (int(sum(EC_votes)/2))\n",
    "F = [None for i in range(len(U))] + [dem_win, not dem_win]\n",
    "X = [True]\n",
    "X_indices = [0]\n",
    "num_outcome = 2\n",
    "outcome_func = dem_win\n",
    "TX_votes = [i for i in range(1,39)]\n",
    "CA_inf = []\n",
    "for i in TX_votes:\n",
    "    EC_votes[1] = i\n",
    "    EC_model = Causal_Model(U,V,R,F)\n",
    "    CA_inf.append(EC_model.influence(X,X_indices,num_outcome,outcome_func))\n",
    "TX_votes = np.asarray(TX_votes)\n",
    "CA_inf = np.asarray(CA_inf)\n",
    "plt.plot(TX_votes,CA_inf)\n",
    "plt.xlabel('Number of Electoral Votes for TX')\n",
    "plt.ylabel('Influence of CA')\"\"\""
   ]
  },
  {
   "cell_type": "code",
   "execution_count": null,
   "metadata": {},
   "outputs": [],
   "source": []
  },
  {
   "cell_type": "code",
   "execution_count": null,
   "metadata": {},
   "outputs": [],
   "source": []
  },
  {
   "cell_type": "code",
   "execution_count": null,
   "metadata": {},
   "outputs": [],
   "source": []
  },
  {
   "cell_type": "code",
   "execution_count": null,
   "metadata": {},
   "outputs": [],
   "source": []
  },
  {
   "cell_type": "code",
   "execution_count": null,
   "metadata": {},
   "outputs": [],
   "source": []
  },
  {
   "cell_type": "code",
   "execution_count": null,
   "metadata": {},
   "outputs": [],
   "source": []
  },
  {
   "cell_type": "code",
   "execution_count": null,
   "metadata": {},
   "outputs": [],
   "source": []
  },
  {
   "cell_type": "code",
   "execution_count": null,
   "metadata": {},
   "outputs": [],
   "source": []
  }
 ],
 "metadata": {
  "kernelspec": {
   "display_name": "Python 3",
   "language": "python",
   "name": "python3"
  },
  "language_info": {
   "codemirror_mode": {
    "name": "ipython",
    "version": 3
   },
   "file_extension": ".py",
   "mimetype": "text/x-python",
   "name": "python",
   "nbconvert_exporter": "python",
   "pygments_lexer": "ipython3",
   "version": "3.7.1"
  }
 },
 "nbformat": 4,
 "nbformat_minor": 2
}
