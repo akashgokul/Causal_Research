{
 "cells": [
  {
   "cell_type": "code",
   "execution_count": 8,
   "metadata": {},
   "outputs": [],
   "source": [
    "#Used to find subsets of lists\n",
    "import itertools"
   ]
  },
  {
   "cell_type": "code",
   "execution_count": 9,
   "metadata": {},
   "outputs": [],
   "source": [
    "##Helper functions\n",
    "#Updates endogenous variables (V) given a certain state X,W\n",
    "def V_given_set(V,X_or_W,indices):\n",
    "    updated_V = V.copy()\n",
    "    var_seen = 0\n",
    "    for i in range(len(V)):\n",
    "        if i in indices:\n",
    "            updated_V[i] = X_or_W[var_seen]\n",
    "            var_seen += 1\n",
    "    return updated_V\n",
    "    \n",
    "#Creates a list of all subsets of a given lst\n",
    "def subsets_finder(lst,indices):\n",
    "    subsets_of_lst = []\n",
    "    for i in range(1,(len(indices))):\n",
    "        subsets_of_lst.append(list(itertools.combinations(indices, i)))\n",
    "    return subsets_of_lst\n",
    "    \n",
    "#Given certain indices, sets lst[i] = False for i in indices\n",
    "def update_var(lst,indices):\n",
    "    return_lst = lst.copy()\n",
    "    for i in range(len(lst)):\n",
    "        if i in indices:\n",
    "            return_lst[i] == False\n",
    "    return return_lst\n",
    "\n",
    "\n",
    "#Created a class of original H.P defn of Causality\n",
    "class Causal_Model:\n",
    "    #U,V,F are assumed to be lists for simplicity sake\n",
    "    #U,V are boolean values corresp. to some list of var\n",
    "    #F is a list of pointers to functions (e.g. def foo())\n",
    "    def __init__(self, U, V, R, F):\n",
    "        self.exogenous_var = U\n",
    "        self.endogenous_var = V\n",
    "        self.var_range = R\n",
    "        self.function = F\n",
    "        self.signature = (U,V,R)\n",
    "        self.model = (self.signature,F)\n",
    "    \n",
    "    # For the following, I assume that this can be used to check causality if an outcome did not occur(?)\n",
    "    \n",
    "    #AC1 of defn, checks if outcome = function for given X\n",
    "    #outcome_val refers to desired outcome\n",
    "    def ac1_check(self,X,X_indices,outcome_function,outcome_val):\n",
    "        V = self.endogenous_var\n",
    "        outcome_given_X = outcome_function(self.exogenous_var,V_given_set(V,X,X_indices))\n",
    "        return outcome_given_X == outcome_val\n",
    "    \n",
    "    #AC2(a) checks the but-for clause, i.e changing X would lead to opposite outcome\n",
    "    def ac2_a_check(self,X,X_indices,outcome_function,outcome_val):\n",
    "        x_prime = [not i for i in X]\n",
    "        V_given_x_prime = V_given_set(V,x_prime,X_indices)  \n",
    "        return outcome_val != outcome_function(self.exogenous_var,V_given_x_prime)\n",
    "    \n",
    "    \n",
    "    #Checks AC2(b) of the defn\n",
    "    #Checks that outcome holds for all other W, fixing Z\n",
    "    def ac2_b_check(self,Z,Z_indices,W, W_indices,outcome_function, outcome_val):\n",
    "        V_fixed_Z = V_given_set(V,Z,Z_indices)\n",
    "        subsets_of_W = subsets_finder(W,W_indices)\n",
    "        for i in subsets_of_W:\n",
    "            curr_V = V_given_set(V_fixed_Z,W,i)\n",
    "            updated_W = update_var(W,indices)\n",
    "            outcome = outcome_function(V,self.exogenous_var,curr_V)\n",
    "            if outcome_val != outcome:\n",
    "                return False\n",
    "        return True\n",
    "    \n",
    "    #Checks that X is minimal by iterating over all subsets\n",
    "    def ac3_check(self,X,X_indices,outcome_function,outcome_val):\n",
    "        subsets_of_X = subsets_finder(X,X_indices)\n",
    "        for i in subsets_of_X:\n",
    "            updated_X = update_var(X,X_indices)\n",
    "            curr_V = V_given_set(self.endogenous_var,X,i)\n",
    "            if outcome_val == outcome_function(self.exogenous_var,curr_V):\n",
    "                return False\n",
    "        return True\n",
    "    \n",
    "    #Returns true if X satisfies HP defn, False o.w.\n",
    "    def causality_check(self,Z,Z_indices,X,X_indices,W,W_indices,outcome_val,outcome_func):\n",
    "        ac_1 = self.ac1_check(X,X_indices,outcome_func,outcome_val)\n",
    "        ac2_a = self.ac2_a_check(X,X_indices,outcome_func,outcome_val)\n",
    "        ac2_b= self.ac2_b_check(Z,Z_indices,W, W_indices,outcome_func, outcome_val)\n",
    "        ac_3 = self.ac3_check(X,X_indices,outcome_func,outcome_val)\n",
    "        return ac_1 and ac2_a and ac2_b and ac_3"
   ]
  },
  {
   "cell_type": "markdown",
   "metadata": {},
   "source": [
    "## Testing\n",
    "### Using examples from 2005 HP paper"
   ]
  },
  {
   "cell_type": "markdown",
   "metadata": {},
   "source": [
    "### Example 2.1: Forest Fire (F) caused by either Lightning (L) or Match Lit (ML) "
   ]
  },
  {
   "cell_type": "code",
   "execution_count": 10,
   "metadata": {},
   "outputs": [],
   "source": [
    "#Initializes U to True for random exogen. var (val/var not important)\n",
    "#Initializes V to False (can also do True)\n",
    "#R is trivially set to 0 or 1\n",
    "# Index[0] = L ; Index[1] = ML ; Index[2] = F\n",
    "U = [True,True,True]\n",
    "V = [False,False,False]\n",
    "R = [(0,1),(0,1),(0,1)]\n",
    "def forest_fire(U,V):\n",
    "    return V[0] or V[1]\n",
    "F_f = forest_fire\n",
    "F = [None, None, F_f]\n",
    "FF_model = Causal_Model(U,V,R,F)"
   ]
  },
  {
   "cell_type": "code",
   "execution_count": 11,
   "metadata": {},
   "outputs": [
    {
     "name": "stdout",
     "output_type": "stream",
     "text": [
      "Testing Casuality of Lightning (Correct Val = True):\n",
      "True\n"
     ]
    }
   ],
   "source": [
    "Z = [True]\n",
    "Z_index = [0]\n",
    "W = [False]\n",
    "W_index = [1]\n",
    "print(\"Testing Casuality of Lightning (Correct Val = True):\")\n",
    "print(FF_model.causality_check(Z,Z_index,Z,Z_index,W,W_index,True,F_f))"
   ]
  },
  {
   "cell_type": "code",
   "execution_count": 12,
   "metadata": {},
   "outputs": [
    {
     "name": "stdout",
     "output_type": "stream",
     "text": [
      "Testing for ML (Correct Val = True):\n",
      "True\n"
     ]
    }
   ],
   "source": [
    "Z_ml = [True]\n",
    "Z_ml_index = [1]\n",
    "W_ml = [False]\n",
    "W_index = [0]\n",
    "print(\"Testing for ML (Correct Val = True):\")\n",
    "print(FF_model.causality_check(Z_ml,Z_ml_index,Z_ml,Z_ml_index,W_ml,W_index,True,F_f))"
   ]
  },
  {
   "cell_type": "code",
   "execution_count": 13,
   "metadata": {},
   "outputs": [
    {
     "name": "stdout",
     "output_type": "stream",
     "text": [
      "Testing for Both (Correct Val = True):\n",
      "True\n"
     ]
    }
   ],
   "source": [
    "Z_both = [True,True]\n",
    "Z_both_index = [0,1]\n",
    "W_both = []\n",
    "W_both_index = []\n",
    "print(\"Testing for Both (Correct Val = True):\")\n",
    "print(FF_model.causality_check(Z_both,Z_both_index,Z_both,Z_both_index,W_both,W_both_index,True,F_f))"
   ]
  },
  {
   "cell_type": "code",
   "execution_count": null,
   "metadata": {},
   "outputs": [],
   "source": []
  },
  {
   "cell_type": "code",
   "execution_count": null,
   "metadata": {},
   "outputs": [],
   "source": []
  }
 ],
 "metadata": {
  "kernelspec": {
   "display_name": "Python 3",
   "language": "python",
   "name": "python3"
  },
  "language_info": {
   "codemirror_mode": {
    "name": "ipython",
    "version": 3
   },
   "file_extension": ".py",
   "mimetype": "text/x-python",
   "name": "python",
   "nbconvert_exporter": "python",
   "pygments_lexer": "ipython3",
   "version": "3.7.1"
  }
 },
 "nbformat": 4,
 "nbformat_minor": 2
}
