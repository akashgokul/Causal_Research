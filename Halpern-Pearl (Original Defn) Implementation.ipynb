{
 "cells": [
  {
   "cell_type": "code",
   "execution_count": 59,
   "metadata": {},
   "outputs": [],
   "source": [
    "#Used to find subsets of lists\n",
    "import itertools\n",
    "import numpy as np"
   ]
  },
  {
   "cell_type": "code",
   "execution_count": 118,
   "metadata": {},
   "outputs": [],
   "source": [
    "##Helper functions\n",
    "\n",
    "#Updates endogenous variables (V) given a certain state X,W\n",
    "#i.e. sets to True/False given X or W\n",
    "def V_given_set(V,X_or_W,indices):\n",
    "    updated_V = V.copy()\n",
    "    var_seen = 0\n",
    "    for i in range(len(V)):\n",
    "        if i in indices:\n",
    "            updated_V[i] = X_or_W[var_seen]\n",
    "            var_seen += 1\n",
    "    return updated_V\n",
    "    \n",
    "#Creates a list of all subsets (cardinality >= 1) of a given lst\n",
    "#Used https://bit.ly/2YVGYxt\n",
    "def subsets_finder(indices):\n",
    "    #indices corresp. to elem of some lst opposed to using indices corresp to V.\n",
    "    updated_idx = [i for i in range(len(indices))]\n",
    "    return [list(subset) for i in range(0, len(updated_idx)+1)\n",
    "            for subset in itertools.combinations(updated_idx, i)]\n",
    "\n",
    "#returns list of all possible splits(take indices finds all )\n",
    "#Used: https://bit.ly/2KfTeFk\n",
    "def partitions(indices):\n",
    "    subsets = [v for a in range(len(indices)) for v in itertools.combinations(indices, a)]\n",
    "    comb = []\n",
    "    for i in range(len(subsets)//2 + 1):\n",
    "        comb.append((list(itertools.chain(subsets[i])), [e for e in indices if e not in subsets[i]]))\n",
    "    return comb\n",
    "    \n",
    "#Given certain indices, updates lst[i] = not lst[i] for i in indices\n",
    "def update_var(lst,indices):\n",
    "    return_lst = lst.copy()\n",
    "    for i in range(len(lst)):\n",
    "        if(i in indices):\n",
    "            return_lst[i] = not lst[i]\n",
    "    return return_lst\n",
    "\n",
    "#Extracts given elements from X using t\n",
    "def extract_X(X,t):\n",
    "    return_lst = []\n",
    "    for i in t:\n",
    "        return_lst.append(X[i])\n",
    "    return return_lst\n",
    "\n",
    "\n",
    "#Created a class of original H.P defn of Causality\n",
    "class Causal_Model:\n",
    "    #U,V,F are assumed to be lists for simplicity sake\n",
    "    #Assumed that final var = outcome (e.g. last elem of V = Forest Fire)\n",
    "    #U,V are boolean values corresp. to some list of var\n",
    "    #F is a list of pointers to functions (e.g. def foo())\n",
    "    def __init__(self, U, V, R, F):\n",
    "        self.exogenous_var = U\n",
    "        self.endogenous_var = V\n",
    "        self.var_range = R\n",
    "        self.function = F\n",
    "        self.signature = (U,V,R)\n",
    "        self.model = (self.signature,F)\n",
    "    \n",
    "    \n",
    "    \n",
    "    # For the following, I assume that this can be used to check causality if an outcome did not occur(?)\n",
    "    \n",
    "    #AC1 of defn, checks if outcome = function for given X\n",
    "    #outcome_val refers to desired outcome\n",
    "    def ac1_check(self,X,X_indices,outcome_function,outcome_val):\n",
    "        V = V_given_set(self.endogenous_var,X,X_indices)\n",
    "        outcome_given_X = outcome_function(self.exogenous_var,V)\n",
    "        return outcome_given_X == outcome_val\n",
    "\n",
    "    #AC2(a) checks the but-for clause, i.e changing X would lead to opposite outcome\n",
    "    #2005 paper says W->w' but modified defn. paper says W->w, func is using the latter \n",
    "    #This function finds the correct W, and calls ac2_b\n",
    "    def ac2_a_check(self,Z,Z_indices,X,X_indices,W,W_indices,outcome_function,outcome_val):\n",
    "        V = V_given_set(self.endogenous_var,Z,Z_indices)\n",
    "        V = V_given_set(V,W,W_indices)\n",
    "        x_prime = [not i for i in X]\n",
    "        V_given_x_prime = V_given_set(V,x_prime,X_indices)\n",
    "        outcome = outcome_function(self.exogenous_var,V_given_x_prime)\n",
    "        #Checks if initial W is optimal and returns\n",
    "        if outcome_val != outcome:\n",
    "            return True\n",
    "        else:\n",
    "            return False\n",
    "    \n",
    "    \n",
    "    #Checks AC2(b) of the defn\n",
    "    #Checks that outcome holds for all subsets of Z (Z') if Z' is set to original value\n",
    "    def ac2_b_check(self,Z,Z_indices,X,X_indices,W,W_indices,outcome_function, outcome_val):\n",
    "        V_fixed_W = V_given_set(V,W,W_indices)\n",
    "        subsets_of_Z = subsets_finder(Z_indices)\n",
    "        orig_Z = [self.endogenous_var[i] for i in Z_indices]\n",
    "        curr_Z = Z.copy()\n",
    "        for subset in subsets_of_Z:\n",
    "            for i in subset:\n",
    "                curr_Z[i] = orig_Z[i]\n",
    "            curr_V = V_given_set(V_fixed_W,Z,Z_indices)\n",
    "            curr_Z = Z.copy()\n",
    "            outcome = outcome_function(self.exogenous_var,curr_V)\n",
    "            if(outcome_val != outcome):\n",
    "                return False\n",
    "        return True\n",
    "    \n",
    "    \n",
    "    def ac2_check_given_Z_W(self,Z,Z_indices,X,X_indices,W,W_indices,outcome_function,outcome_val):\n",
    "        ac2_a = self.ac2_a_check(Z,Z_indices,X,X_indices,W,W_indices,outcome_function,outcome_val)\n",
    "        ac2_b = self.ac2_b_check(Z,Z_indices,X,X_indices,W,W_indices,outcome_function,outcome_val)\n",
    "        if(ac2_a and ac2_b):\n",
    "            return True\n",
    "        else:\n",
    "            return False\n",
    "    \n",
    "    #Goes through all partitions of V (partitions named Z,W) and returns the first Z,W to satisfy ac2 \n",
    "    def Z_and_W_search(self,X,X_indices,outcome_function,outcome_val):\n",
    "        Z = X.copy()\n",
    "        Z_indices = X_indices.copy()\n",
    "        Useable_V_indices = [i for i in range(len(self.endogenous_var)) if i not in X_indices]\n",
    "        splits = partitions(Useable_V_indices)\n",
    "        for partition in splits:\n",
    "            curr_Z_indices_no_X = partition[0]\n",
    "            curr_W_indices = partition[1]\n",
    "            curr_Z_indices = Z_indices + curr_Z_indices_no_X\n",
    "            curr_Z = [self.endogenous_var[i] for i in curr_Z_indices]\n",
    "            curr_W = [self.endogenous_var[i] for i in curr_W_indices]\n",
    "            ac2_check = self.ac2_check_given_Z_W(curr_Z,curr_Z_indices,X,X_indices,\n",
    "                                                 curr_W,curr_W_indices,outcome_function,outcome_val)\n",
    "            if(ac2_check):\n",
    "                return [curr_W,curr_W_indices,True]\n",
    "            else:\n",
    "                curr_Z_no_X = [self.endogenous_var[i] for i in curr_Z_indices_no_X]\n",
    "                subsets_of_curr_Z_no_X = subsets_finder(curr_Z_indices_no_X)\n",
    "                subsets_of_curr_W = subsets_finder(curr_W_indices)\n",
    "                for sub_z in subsets_of_curr_Z_no_X:\n",
    "                    updated_Z = X + update_var(curr_Z_no_X,sub_z)\n",
    "                    for sub_w in subsets_of_curr_W:\n",
    "                        updated_W = update_var(curr_W,sub_w)\n",
    "                        ac2_check = self.ac2_check_given_Z_W(updated_Z,curr_Z_indices,X,X_indices,updated_W,\n",
    "                                                             curr_W_indices,outcome_function,outcome_val)\n",
    "                        if(ac2_check):\n",
    "                            return [updated_W,curr_W_indices,True]\n",
    "        return [None,None,False]\n",
    "                    \n",
    "    \n",
    "    \n",
    "    \n",
    "    \n",
    "    #Checks that X is minimal by iterating over all subsets\n",
    "    def ac3_check(self,X,X_indices,outcome_function,outcome_val):\n",
    "        if(len(X) <= 1):\n",
    "            return True\n",
    "        \n",
    "        subsets_of_X = subsets_finder(X_indices)\n",
    "        for i in subsets_of_X:\n",
    "            updated_X = extract_X(X,i)\n",
    "            W_indices = [j for j in range(len(self.endogenous_var)) if j not in i]\n",
    "            W = [self.endogenous_var[k] for k in W_indices]\n",
    "            ac2_check = self.ac2_a_check(updated_X,i,updated_X,i,W,W_indices,outcome_function,outcome_val)\n",
    "            if(ac2_check):\n",
    "                return False\n",
    "            \n",
    "        return True\n",
    "    #Fail checking\n",
    "    def wrong_check(self,ac_1,ac_2,ac_3):\n",
    "        if (not ac_1):\n",
    "            print(\"(False b/c of AC1)\")\n",
    "        if(not ac_2):\n",
    "            print(\"(False b/c of AC2)\")\n",
    "        if(not ac_3):\n",
    "            print(\"(False b/c of AC3)\")\n",
    "    \n",
    "    #Returns true if X satisfies HP defn, False o.w.\n",
    "    def causality_check(self,X,X_indices,outcome_val,outcome_func):\n",
    "        ac_1 = self.ac1_check(X,X_indices,outcome_func,outcome_val)\n",
    "        ac_2 = self.Z_and_W_search(X,X_indices,outcome_func,outcome_val)[2]\n",
    "        ac_3 = self.ac3_check(X,X_indices,outcome_func,outcome_val)\n",
    "        self.wrong_check(ac_1,ac_2,ac_3)\n",
    "        return ac_1 and ac_2 and ac_3\n",
    "    \n",
    "    #Returns \"responsibility\" as per Chockler & Halpern (2004)\n",
    "    # i.e. finds the number of changes needed to make the outcome depend on X\n",
    "    #This currently uses the first available W, as o.w. I can't finish running Electoral college example\n",
    "    #TB-FIXED\n",
    "    def responsibility(self,X,X_indices,outcome_val,outcome_func):\n",
    "        if(self.causality_check(X,X_indices,outcome_val,outcome_func)):\n",
    "            if(outcome_func(self.exogenous_var,V_given_set(self.endogenous_var,X,X_indices))!=outcome_val):\n",
    "                return 1\n",
    "            else:\n",
    "                W,W_indices = self.Z_and_W_search(X,X_indices,outcome_func,outcome_val)[0:2]\n",
    "                orig_W = [self.endogenous_var[i] for i in W_indices]\n",
    "                num_changes = sum([1 for i in range(len(W)) if W[i] != orig_W[i]])\n",
    "                return 1 / (num_changes + 1)\n",
    "        else:\n",
    "            return 0\n",
    "        \n",
    "    #num_outcome_var denote var in V which are not part of structural eqn. (e.g. Forest Fire)\n",
    "    #Fixes X (\"Causal\" variable) to be X' (i.e. not x for x in X) in the model\n",
    "    # Goes through each possible scenario of variable assignments in V (assuming T/F)\n",
    "    # Returns num_scenarios_where_outcome_changed_from_orig / num_scenarios\n",
    "    def influence(self,X,X_indices,num_outcome_var,outcome_val,outcome_func):\n",
    "        end_idx = (-1)*num_outcome_var\n",
    "        V_negated_X = update_var(self.endogenous_var,X_indices)\n",
    "        subsets_V_negated_X = subsets_finder([i for i in range(len(V_negated_X[0:end_idx]))])\n",
    "        if(len(subsets_V_negated_X) == 0):\n",
    "            return 0\n",
    "        \n",
    "        outcome_change_ct = 0\n",
    "        subsets_seen = []\n",
    "        for sub in subsets_V_negated_X:\n",
    "            sub_no_X = [i for i in sub if i not in X_indices]\n",
    "            if(sub_no_X in subsets_seen):\n",
    "                continue\n",
    "            \n",
    "            else:\n",
    "                subsets_seen.append(sub_no_X)\n",
    "                V_prime = update_var(V_negated_X[0:end_idx],sub_no_X)\n",
    "                outcome_prime = outcome_func(self.exogenous_var,V_prime)\n",
    "                if(outcome_prime != outcome_val):\n",
    "                    outcome_change_ct += 1\n",
    "                    \n",
    "        return outcome_change_ct / len(subsets_seen)\n",
    "    \n",
    "    #Adj responsibility = influence*responsibility\n",
    "    def adj_responsibility(self,X,X_indices,num_outcome_var,outcome_val,outcome_func):\n",
    "        inf = self.influence(X,X_indices,num_outcome_var,outcome_val,outcome_func)\n",
    "        res = self.responsibility(X,X_indices,outcome_val,outcome_func)\n",
    "        return inf*res\n",
    "        \n",
    "    def mc_sample(self,X,X_indices,num_outcome_val,outcome_func,n):\n",
    "        #Need to fix (np rand?)\n",
    "        \"\"\"f_of_x = 0\n",
    "        if(outcome_val == True):\n",
    "            f_of_x = 1\n",
    "        \n",
    "        end_idx = (-1)*num_outcome_var\n",
    "        V_negated_X = update_var(self.endogenous_var,X_indices)\n",
    "        subsets_V_negated_X = subsets_finder([i for i in range(len(V_negated_X[0:end_idx]))])\n",
    "        if(len(subsets_V_negated_X) == 0):\n",
    "            return 0\n",
    "        \n",
    "        outcome_change_ct = 0\n",
    "        subsets_seen = []\n",
    "        for sub in subsets_V_negated_X:\n",
    "            sub_no_X = [i for i in sub if i not in X_indices]\n",
    "            if(sub_no_X in subsets_seen):\n",
    "                continue\n",
    "            \n",
    "            else:\n",
    "                subsets_seen.append(sub_no_X)\n",
    "                V_prime = update_var(V_negated_X[0:end_idx],sub_no_X)\n",
    "                outcome_prime = outcome_func(self.exogenous_var,V_prime)\n",
    "                if(outcome_prime != outcome_val):\n",
    "                    outcome_change_ct += 1\n",
    "                    \n",
    "        return outcome_change_ct / len(subsets_seen)\"\"\""
   ]
  },
  {
   "cell_type": "markdown",
   "metadata": {},
   "source": [
    "## Testing\n",
    "### Using examples from 2005 HP paper"
   ]
  },
  {
   "cell_type": "markdown",
   "metadata": {},
   "source": [
    "### Example 2.1: Forest Fire (F) caused by either Lightning (L) or Match Lit (ML) "
   ]
  },
  {
   "cell_type": "code",
   "execution_count": 119,
   "metadata": {},
   "outputs": [],
   "source": [
    "#Initializes U to True for random exogen. var (val/var not important)\n",
    "#Initializes V to False (can also do True)\n",
    "#R is trivially set to 0 or 1\n",
    "# Index[0] = L ; Index[1] = ML ; Index[2] = F\n",
    "U = [True,True,True]\n",
    "V = [False,False,False]\n",
    "R = [(False,True),(False,True),(False,True)]\n",
    "def forest_fire(U,V):\n",
    "    return V[0] or V[1]\n",
    "F_f = forest_fire\n",
    "F = [None, None, F_f]\n",
    "FF_model = Causal_Model(U,V,R,F)"
   ]
  },
  {
   "cell_type": "code",
   "execution_count": 120,
   "metadata": {},
   "outputs": [
    {
     "name": "stdout",
     "output_type": "stream",
     "text": [
      "Testing Casuality of Lightning (Correct Val = True):\n",
      "True\n"
     ]
    }
   ],
   "source": [
    "X = [True]\n",
    "X_index = [0]\n",
    "print(\"Testing Casuality of Lightning (Correct Val = True):\")\n",
    "print(FF_model.causality_check(X,X_index,True,F_f))"
   ]
  },
  {
   "cell_type": "code",
   "execution_count": 121,
   "metadata": {},
   "outputs": [
    {
     "name": "stdout",
     "output_type": "stream",
     "text": [
      "Testing Responsibility of Lightning(Expect: 1)\n",
      "1.0\n"
     ]
    }
   ],
   "source": [
    "print(\"Testing Responsibility of Lightning(Expect: 1)\")\n",
    "print(FF_model.responsibility(X,X_index,True,F_f))"
   ]
  },
  {
   "cell_type": "code",
   "execution_count": 123,
   "metadata": {},
   "outputs": [
    {
     "name": "stdout",
     "output_type": "stream",
     "text": [
      "Adj Responsibility of Lightning\n",
      "0.0\n"
     ]
    }
   ],
   "source": [
    "print(\"Adj Responsibility of Lightning\")\n",
    "print(FF_model.adj_responsibility(X,X_index,1,True,F_f))"
   ]
  },
  {
   "cell_type": "code",
   "execution_count": 64,
   "metadata": {},
   "outputs": [
    {
     "name": "stdout",
     "output_type": "stream",
     "text": [
      "Testing for ML (Correct Val = True):\n",
      "True\n"
     ]
    }
   ],
   "source": [
    "X_ml = [True]\n",
    "X_ml_index = [1]\n",
    "print(\"Testing for ML (Correct Val = True):\")\n",
    "print(FF_model.causality_check(X_ml,X_ml_index,True,F_f))"
   ]
  },
  {
   "cell_type": "code",
   "execution_count": 124,
   "metadata": {},
   "outputs": [
    {
     "name": "stdout",
     "output_type": "stream",
     "text": [
      "Testing Responsibility of Lightning(Expect: 1)\n",
      "1.0\n"
     ]
    }
   ],
   "source": [
    "print(\"Testing Responsibility of Lightning(Expect: 1)\")\n",
    "print(FF_model.responsibility(X,X_index,True,F_f))"
   ]
  },
  {
   "cell_type": "code",
   "execution_count": 125,
   "metadata": {},
   "outputs": [
    {
     "name": "stdout",
     "output_type": "stream",
     "text": [
      "Adj Responsibility of Lightning\n",
      "0.0\n"
     ]
    }
   ],
   "source": [
    "print(\"Adj Responsibility of Lightning\")\n",
    "print(FF_model.adj_responsibility(X,X_index,1,True,F_f))"
   ]
  },
  {
   "cell_type": "code",
   "execution_count": 126,
   "metadata": {},
   "outputs": [
    {
     "name": "stdout",
     "output_type": "stream",
     "text": [
      "Testing for Both (Correct Val = False b/c X is not minimal?):\n",
      "(False b/c of AC3)\n",
      "False\n"
     ]
    }
   ],
   "source": [
    "X_both = [True,True]\n",
    "X_both_index = [0,1]\n",
    "print(\"Testing for Both (Correct Val = False b/c X is not minimal?):\")\n",
    "print(FF_model.causality_check(X_both,X_both_index,True,F_f))"
   ]
  },
  {
   "cell_type": "markdown",
   "metadata": {},
   "source": [
    "## Example 3.2 - Case 1 (Disjunctive): \n",
    "### Two Arsonists drop lit matches, either match suffices to burn the forest down"
   ]
  },
  {
   "cell_type": "code",
   "execution_count": 127,
   "metadata": {},
   "outputs": [],
   "source": [
    "#U = [Some Condition, Intention of Arsonist 1, Intention of Arsonist 2, Intention of both]\n",
    "#V  = [Match_Lit_Arsonist_1, Match_Lit_Aronist_2, ForestFire]\n",
    "U = [True,True,True,True]\n",
    "V = [True,True,True]\n",
    "R = [(False,True),(False,True),(False,True)]\n",
    "def disjunctive_forest_fire(U,V):\n",
    "    return V[0] or V[1]\n",
    "F_df = [None,None,disjunctive_forest_fire]\n",
    "Arson_model = Causal_Model(U,V,R,F_df)"
   ]
  },
  {
   "cell_type": "code",
   "execution_count": 131,
   "metadata": {},
   "outputs": [
    {
     "name": "stdout",
     "output_type": "stream",
     "text": [
      "Testing Casuality of Arsonist 1(Correct Val = True):\n",
      "True\n",
      "\n",
      " Testing Responsibility of Arsonist 1:\n",
      "0.5\n",
      "\n",
      " Adj. Responsibility of Arsonist 1:\n",
      "0.25\n"
     ]
    }
   ],
   "source": [
    "X = [True]\n",
    "X_index = [0]\n",
    "print(\"Testing Casuality of Arsonist 1(Correct Val = True):\")\n",
    "print(Arson_model.causality_check(X,X_index,True,disjunctive_forest_fire))\n",
    "print(\"\\n Testing Responsibility of Arsonist 1:\")\n",
    "print(Arson_model.responsibility(X,X_index,True,disjunctive_forest_fire))\n",
    "print(\"\\n Adj. Responsibility of Arsonist 1:\")\n",
    "print(Arson_model.adj_responsibility(X,X_index,1,True,disjunctive_forest_fire))"
   ]
  },
  {
   "cell_type": "code",
   "execution_count": 132,
   "metadata": {},
   "outputs": [
    {
     "name": "stdout",
     "output_type": "stream",
     "text": [
      "Testing Casuality of Arsonist 2(Correct Val = True):\n",
      "True\n",
      "\n",
      " Testing Responsibility of Arsonist 2:\n",
      "0.5\n",
      "\n",
      " Adj. Responsibility of Arsonist 2:\n",
      "0.25\n"
     ]
    }
   ],
   "source": [
    "X = [True]\n",
    "X_index = [1]\n",
    "print(\"Testing Casuality of Arsonist 2(Correct Val = True):\")\n",
    "print(Arson_model.causality_check(X,X_index,True,disjunctive_forest_fire))\n",
    "print(\"\\n Testing Responsibility of Arsonist 2:\")\n",
    "print(Arson_model.responsibility(X,X_index,True,disjunctive_forest_fire))\n",
    "print(\"\\n Adj. Responsibility of Arsonist 2:\")\n",
    "print(Arson_model.adj_responsibility(X,X_index,1,True,disjunctive_forest_fire))"
   ]
  },
  {
   "cell_type": "code",
   "execution_count": 69,
   "metadata": {},
   "outputs": [
    {
     "name": "stdout",
     "output_type": "stream",
     "text": [
      "Testing Casuality of BOTH(Correct Val = False (b/c not minimal)):\n",
      "(False b/c of AC3)\n",
      "False\n"
     ]
    }
   ],
   "source": [
    "X = [True,True]\n",
    "X_index = [0,1]\n",
    "print(\"Testing Casuality of BOTH(Correct Val = False (b/c not minimal)):\")\n",
    "print(Arson_model.causality_check(X,X_index,True,disjunctive_forest_fire))"
   ]
  },
  {
   "cell_type": "markdown",
   "metadata": {},
   "source": [
    "## Example 3.2 - Case 2 (Conjuctive): \n",
    "### Two Arsonists drop lit matches, need BOTH matches to burn forest"
   ]
  },
  {
   "cell_type": "code",
   "execution_count": 70,
   "metadata": {},
   "outputs": [],
   "source": [
    "#U = [Some Condition, Intention of Arsonist 1, Intention of Arsonist 2, Intention of both]\n",
    "#V  = [Match_Lit_Arsonist_1, Match_Lit_Aronist_2, ForestFire]\n",
    "U = [True,True,True,True]\n",
    "V = [True,True,True]\n",
    "R = [(False,True),(False,True),(False,True)]\n",
    "def conjunctive_forest_fire(U,V):\n",
    "    return V[0] and V[1]\n",
    "F_df = [None,None,conjunctive_forest_fire]\n",
    "Arson2_model = Causal_Model(U,V,R,F_df)"
   ]
  },
  {
   "cell_type": "code",
   "execution_count": 135,
   "metadata": {},
   "outputs": [
    {
     "name": "stdout",
     "output_type": "stream",
     "text": [
      "Testing Casuality of ONLY Arsonist 1(Correct Val = True):\n",
      "True\n",
      "\n",
      " Responsibility of ONLY Arsonist 1\n",
      "1.0\n",
      "\n",
      " Adj. Responsibility of \"\n",
      "1.0\n"
     ]
    }
   ],
   "source": [
    "X = [True]\n",
    "X_index = [0]\n",
    "print(\"Testing Casuality of ONLY Arsonist 1(Correct Val = True):\")\n",
    "print(Arson2_model.causality_check(X,X_index,True,conjunctive_forest_fire))\n",
    "print(\"\\n Responsibility of ONLY Arsonist 1\")\n",
    "print(Arson2_model.responsibility(X,X_index,True,conjunctive_forest_fire))\n",
    "print(\"\\n Adj. Responsibility of \\\"\")\n",
    "print(Arson2_model.adj_responsibility(X,X_index,1,True,conjunctive_forest_fire))"
   ]
  },
  {
   "cell_type": "code",
   "execution_count": 136,
   "metadata": {},
   "outputs": [
    {
     "name": "stdout",
     "output_type": "stream",
     "text": [
      "Testing Casuality of ONLY Arsonist 2(Correct Val = True):\n",
      "True\n",
      "\n",
      " Responsibility of ONLY Arsonist 2\n",
      "1.0\n",
      "\n",
      " Adj. Responsibility of \"\n",
      "1.0\n"
     ]
    }
   ],
   "source": [
    "X = [True]\n",
    "X_index = [1]\n",
    "print(\"Testing Casuality of ONLY Arsonist 2(Correct Val = True):\")\n",
    "print(Arson2_model.causality_check(X,X_index,True,conjunctive_forest_fire))\n",
    "print(\"\\n Responsibility of ONLY Arsonist 2\")\n",
    "print(Arson2_model.responsibility(X,X_index,True,conjunctive_forest_fire))\n",
    "print(\"\\n Adj. Responsibility of \\\"\")\n",
    "print(Arson2_model.adj_responsibility(X,X_index,1,True,conjunctive_forest_fire))"
   ]
  },
  {
   "cell_type": "code",
   "execution_count": 73,
   "metadata": {},
   "outputs": [
    {
     "name": "stdout",
     "output_type": "stream",
     "text": [
      "Testing Casuality of BOTH Arsonists (Correct Val = False):\n",
      "(False b/c of AC3)\n",
      "False\n"
     ]
    }
   ],
   "source": [
    "X = [True,True]\n",
    "X_index = [0,1]\n",
    "print(\"Testing Casuality of BOTH Arsonists (Correct Val = False):\")\n",
    "print(Arson2_model.causality_check(X,X_index,True,conjunctive_forest_fire))"
   ]
  },
  {
   "cell_type": "markdown",
   "metadata": {},
   "source": [
    "## Example 4.1: \n",
    "### Rain in April,May (+Electric Showers in May/June) and then lightning in June -> Forest Fire\n",
    "### Question: Did April's showers cause the fire in June opposed to May?"
   ]
  },
  {
   "cell_type": "code",
   "execution_count": 137,
   "metadata": {},
   "outputs": [],
   "source": [
    "#U is trivial let it be (for e.g.) U[0] = sufficient FF conditions in May U[1] = [...] in June\n",
    "#V[0] = April Showers; V[1] = No Electric Storm (E.s) (May or June) V[2] = E.S only in May V[3] = E.S only in June \n",
    "#V[4] = E.S. Both; V[5] = FF in May V[6] = No FF in May V[7] = FF in June\n",
    "# R is trivial\n",
    "U = [True,True]\n",
    "V = [True,False,False,False,True,False,False,True]\n",
    "R = [(False, True),(False, True),(False,True),(False,True),(False,True),(False,True),(False,True)]\n",
    "def April_showers_bring_June_Fires(U,V):\n",
    "    return V[0] and (V[3] or V[4])\n",
    "F_storms = [None,None,None,None,None,None,None,April_showers_bring_June_Fires]\n",
    "Storm_FF = Causal_Model(U,V,R,F_storms)"
   ]
  },
  {
   "cell_type": "code",
   "execution_count": 139,
   "metadata": {},
   "outputs": [
    {
     "name": "stdout",
     "output_type": "stream",
     "text": [
      "Testing Causality of April Showers on June Fire: (Correct Val = True)\n",
      "True\n",
      "\n",
      " Responsibility of \"\n",
      "1.0\n",
      "\n",
      " Adj. Responsibility of \"\n",
      "1.0\n"
     ]
    }
   ],
   "source": [
    "X = [True]\n",
    "X_index = [0]\n",
    "print(\"Testing Causality of April Showers on June Fire: (Correct Val = True)\")\n",
    "print(Storm_FF.causality_check(X,X_index,True,April_showers_bring_June_Fires))\n",
    "print(\"\\n Responsibility of \\\"\")\n",
    "print(Storm_FF.responsibility(X,X_index,True,April_showers_bring_June_Fires))\n",
    "print(\"\\n Adj. Responsibility of \\\"\")\n",
    "print(Storm_FF.adj_responsibility(X,X_index,3,True,April_showers_bring_June_Fires))"
   ]
  },
  {
   "cell_type": "code",
   "execution_count": 140,
   "metadata": {},
   "outputs": [
    {
     "name": "stdout",
     "output_type": "stream",
     "text": [
      "Testing Causality of April Showers and E.S (in May & June) on June Fire: (Correct Val = False (AC3))\n",
      "(False b/c of AC3)\n",
      "False\n"
     ]
    }
   ],
   "source": [
    "X = [True,True]\n",
    "X_index = [0,4]\n",
    "print(\"Testing Causality of April Showers and E.S (in May & June) on June Fire: (Correct Val = False (AC3))\")\n",
    "print(Storm_FF.causality_check(X,X_index,True,April_showers_bring_June_Fires))"
   ]
  },
  {
   "cell_type": "markdown",
   "metadata": {},
   "source": [
    "\n",
    "## Example 4.2\n",
    "### Suzy and Billy throw rocks at a bottle. Suzy's rock hits the bottle first, causing it to shatter. However, had she not thrown, Billy's rock would have shattered the bottle.\n",
    "### Is Suzy a cause of bottle shattering?"
   ]
  },
  {
   "cell_type": "code",
   "execution_count": 141,
   "metadata": {},
   "outputs": [],
   "source": [
    "#Initializes U to some random exogenous var (e.g. Suzy,Billy state of mind)\n",
    "#V[0] = Suzy Throws ; V[1] = Suzy's Rock Hits Bottle; V[2] = Billy Throws; \n",
    "# V[3] = Billy Rock Hits Bottle; V[4] = Bottle Shatters\n",
    "U = [True, True]\n",
    "V = [True,True,True,False,True]\n",
    "R = [(False,True),(False,True),(False,True)]\n",
    "#bottle shatters in this scenario (where Suzy is first)\n",
    "def bottle_shatters(U,V):\n",
    "    return (V[0] and V[1])\n",
    "F_SB = [None,None,bottle_shatters]\n",
    "SB_model = Causal_Model(U,V,R,F_SB)"
   ]
  },
  {
   "cell_type": "code",
   "execution_count": 142,
   "metadata": {},
   "outputs": [
    {
     "name": "stdout",
     "output_type": "stream",
     "text": [
      "Testing Casuality of Suzy Throw/Hit(Correct Val = True):\n",
      "True\n",
      "\n",
      "Responsibility of \"\n",
      "1.0\n",
      "\n",
      "Adj. Responsibility of \"\n",
      "1.0\n"
     ]
    }
   ],
   "source": [
    "X = [True]\n",
    "X_index = [0]\n",
    "print(\"Testing Casuality of Suzy Throw/Hit(Correct Val = True):\")\n",
    "print(SB_model.causality_check(X,X_index,True,bottle_shatters))\n",
    "print(\"\\nResponsibility of \\\"\")\n",
    "print(SB_model.responsibility(X,X_index,True,bottle_shatters))\n",
    "print(\"\\nAdj. Responsibility of \\\"\")\n",
    "print(SB_model.adj_responsibility(X,X_index,1,True,bottle_shatters))"
   ]
  },
  {
   "cell_type": "code",
   "execution_count": 143,
   "metadata": {},
   "outputs": [
    {
     "name": "stdout",
     "output_type": "stream",
     "text": [
      "Testing Casuality of Billy Throw(Correct Val = False):\n",
      "(False b/c of AC2)\n",
      "False\n"
     ]
    }
   ],
   "source": [
    "X = [True]\n",
    "X_index = [2]\n",
    "print(\"Testing Casuality of Billy Throw(Correct Val = False):\")\n",
    "print(SB_model.causality_check(X,X_index,True,bottle_shatters))"
   ]
  },
  {
   "cell_type": "markdown",
   "metadata": {},
   "source": [
    "## Example 4.3\n",
    "### Billy is hospitalized on Monday, Dr. forgets to give medication on Monday. Say Dr. on Monday and Dr. on Tuesday are reliable and the following twist: one dose is harmless, two doses are lethal.\n"
   ]
  },
  {
   "cell_type": "code",
   "execution_count": 144,
   "metadata": {},
   "outputs": [],
   "source": [
    "# U is trivial, say it is U[0] = Medicine available Mon.  U[1] = [...] on Tuesday \n",
    "# V[0] = Given medicine on Monday (MT)\n",
    "#V[1] = Given medicine on Tuesday (TT)\n",
    "# V[2] = Billy alive on Tuesday Morning \n",
    "# V[3] = Billy alive and well on Tuesday Morning\n",
    "# V[4] = Billy sick on Tuesday Mornining (and alive) and recovers Tuesday afternoon\n",
    "# V[5] = Billy sick Tuesday morning and afternoon (so missed treatment?)\n",
    "# V[6] = Billy recovered Tuesday morning and is dead Tuesday afternoon \n",
    "U = [True,True]\n",
    "V = [True,False,True,False,True,False,False]\n",
    "R = [(False, True),(False, True),(False,True),(False,True),(False,True),(False,True)]\n",
    "def billy_alive(U,V):\n",
    "    return V[2] or V[3] or V[4] or V[5]\n",
    "def billy_dead(U,V):\n",
    "    return V[0] and V[1]\n",
    "F_billy = [None,None,billy_alive,billy_alive,billy_alive,billy_dead]\n",
    "Billy_model = Causal_Model(U,V,R,F_billy)"
   ]
  },
  {
   "cell_type": "code",
   "execution_count": 145,
   "metadata": {},
   "outputs": [
    {
     "name": "stdout",
     "output_type": "stream",
     "text": [
      "Testing if MT = 1 is a cause of Billy alive (Expected: False)\n",
      "(False b/c of AC2)\n",
      "False\n"
     ]
    }
   ],
   "source": [
    "X = [True]\n",
    "X_index = [0]\n",
    "print(\"Testing if MT = 1 is a cause of Billy alive (Expected: False)\")\n",
    "print(Billy_model.causality_check(X,X_index,True,billy_alive))"
   ]
  },
  {
   "cell_type": "code",
   "execution_count": 146,
   "metadata": {},
   "outputs": [
    {
     "name": "stdout",
     "output_type": "stream",
     "text": [
      "Testing if TT=1 is a cause of Billy Dead (Expected: True)\n",
      "True\n"
     ]
    }
   ],
   "source": [
    "X = [True]\n",
    "X_index = [1]\n",
    "print(\"Testing if TT=1 is a cause of Billy Dead (Expected: True)\")\n",
    "print(Billy_model.causality_check(X,X_index,True,billy_dead))"
   ]
  },
  {
   "cell_type": "code",
   "execution_count": 147,
   "metadata": {},
   "outputs": [
    {
     "name": "stdout",
     "output_type": "stream",
     "text": [
      "Testing if MT=1 is a cause of TT = 0(Expected: True)\n",
      "True\n"
     ]
    }
   ],
   "source": [
    "def tuesday_treatment(U,V):\n",
    "    return not V[0]\n",
    "X = [True]\n",
    "X_index = [0]\n",
    "print(\"Testing if MT=1 is a cause of TT = 0(Expected: True)\")\n",
    "print(Billy_model.causality_check(X,X_index,False,tuesday_treatment))"
   ]
  },
  {
   "cell_type": "markdown",
   "metadata": {},
   "source": [
    "## Example (Responsibility Check): Case 1\n",
    "### Election between Candidate A and Candidate B w/ result 7-0 (tweaked from 11-0 for faster testing)\n",
    "### Is each voter a cause of Candidate A's victory? What is the responsibility of each voter"
   ]
  },
  {
   "cell_type": "code",
   "execution_count": 148,
   "metadata": {},
   "outputs": [],
   "source": [
    "U = [True for i in range(7)]\n",
    "V = U + [True,False]\n",
    "R = [(False,True) for i in range(9)]\n",
    "def A_victory(U,V):\n",
    "    return sum([1 for vote in V[0:7] if vote == True]) > 3\n",
    "F = [None for i in range(7)] + [A_victory, not A_victory]\n",
    "Election_Case_1 = Causal_Model(U,V,R,F)"
   ]
  },
  {
   "cell_type": "code",
   "execution_count": 149,
   "metadata": {},
   "outputs": [
    {
     "name": "stdout",
     "output_type": "stream",
     "text": [
      "Testing Causality of Voter 1 (Expected: True)\n",
      "True\n",
      "Testing Causality of Voter 2 (Expected: True)\n",
      "True\n",
      "Testing Causality of Voter 3 (Expected: True)\n",
      "True\n",
      "Testing Causality of Voter 4 (Expected: True)\n",
      "True\n",
      "Testing Causality of Voter 5 (Expected: True)\n",
      "True\n",
      "Testing Causality of Voter 6 (Expected: True)\n",
      "True\n",
      "Testing Causality of Voter 7 (Expected: True)\n",
      "True\n"
     ]
    }
   ],
   "source": [
    "X = [True]\n",
    "X_index = [0]\n",
    "for i in range(7):\n",
    "    X_index = [i]\n",
    "    print(\"Testing Causality of Voter \" + str(i+1) + \" (Expected: True)\")\n",
    "    print(Election_Case_1.causality_check(X,X_index,True,A_victory))"
   ]
  },
  {
   "cell_type": "code",
   "execution_count": 150,
   "metadata": {},
   "outputs": [
    {
     "name": "stdout",
     "output_type": "stream",
     "text": [
      "Testing Responsibility of Voter 1 (Expected: 1/4)\n",
      "0.25\n",
      "Testing Responsibility of Voter 2 (Expected: 1/4)\n",
      "0.25\n",
      "Testing Responsibility of Voter 3 (Expected: 1/4)\n",
      "0.25\n",
      "Testing Responsibility of Voter 4 (Expected: 1/4)\n",
      "0.25\n",
      "Testing Responsibility of Voter 5 (Expected: 1/4)\n",
      "0.25\n",
      "Testing Responsibility of Voter 6 (Expected: 1/4)\n",
      "0.25\n",
      "Testing Responsibility of Voter 7 (Expected: 1/4)\n",
      "0.25\n"
     ]
    }
   ],
   "source": [
    "X = [True]\n",
    "X_index = [0]\n",
    "for i in range(7):\n",
    "    X_index = [i]\n",
    "    print(\"Testing Responsibility of Voter \" + str(i+1) + \" (Expected: 1/4)\")\n",
    "    print(Election_Case_1.responsibility(X,X_index,True,A_victory))"
   ]
  },
  {
   "cell_type": "markdown",
   "metadata": {},
   "source": [
    "## Example (Responsibility Check): Case 2\n",
    "### Election between Candidate A and Candidate B w/ result 4-3 (tweaked from 6-5 for faster testing)\n",
    "### Is each voter a cause of Candidate A's victory? What is the responsibility of each voter"
   ]
  },
  {
   "cell_type": "code",
   "execution_count": 151,
   "metadata": {},
   "outputs": [],
   "source": [
    "U = [True for i in range(4)] + [False for i in range(3)]\n",
    "V = U + [True,False]\n",
    "R = [(False,True) for i in range(9)]\n",
    "def A_victory(U,V):\n",
    "    return sum([1 for vote in V[0:7] if vote == True]) > 3\n",
    "F = [None for i in range(7)] + [A_victory, not A_victory]\n",
    "Election_Case_1 = Causal_Model(U,V,R,F)"
   ]
  },
  {
   "cell_type": "code",
   "execution_count": 152,
   "metadata": {},
   "outputs": [
    {
     "name": "stdout",
     "output_type": "stream",
     "text": [
      "Testing Causality of Voter 1 (Expected: True)\n",
      "True\n",
      "Testing Causality of Voter 2 (Expected: True)\n",
      "True\n",
      "Testing Causality of Voter 3 (Expected: True)\n",
      "True\n",
      "Testing Causality of Voter 4 (Expected: True)\n",
      "True\n",
      "Testing Causality of Voter 5 (Expected: True)\n",
      "True\n",
      "Testing Causality of Voter 6 (Expected: True)\n",
      "True\n",
      "Testing Causality of Voter 7 (Expected: True)\n",
      "True\n"
     ]
    }
   ],
   "source": [
    "X = [True]\n",
    "X_index = [0]\n",
    "for i in range(7):\n",
    "    X_index = [i]\n",
    "    print(\"Testing Causality of Voter \" + str(i+1) + \" (Expected: True)\")\n",
    "    print(Election_Case_1.causality_check(X,X_index,True,A_victory))"
   ]
  },
  {
   "cell_type": "code",
   "execution_count": 153,
   "metadata": {},
   "outputs": [
    {
     "name": "stdout",
     "output_type": "stream",
     "text": [
      "Testing Responsibility of Voter 1 (Expected: 1)\n",
      "1.0\n",
      "Testing Responsibility of Voter 2 (Expected: 1)\n",
      "1.0\n",
      "Testing Responsibility of Voter 3 (Expected: 1)\n",
      "1.0\n",
      "Testing Responsibility of Voter 4 (Expected: 1)\n",
      "1.0\n",
      "Testing Responsibility of Voter 5 (Expected: 1/2)\n",
      "0.5\n",
      "Testing Responsibility of Voter 6 (Expected: 1/2)\n",
      "0.5\n",
      "Testing Responsibility of Voter 7 (Expected: 1/2)\n",
      "0.5\n"
     ]
    }
   ],
   "source": [
    "X = [True]\n",
    "X_index = [0]\n",
    "for i in range(7):\n",
    "    X_index = [i]\n",
    "    if(i < 4):\n",
    "        print(\"Testing Responsibility of Voter \" + str(i+1) + \" (Expected: 1)\")\n",
    "        print(Election_Case_1.responsibility(X,X_index,True,A_victory))\n",
    "    else:\n",
    "        print(\"Testing Responsibility of Voter \" + str(i+1) + \" (Expected: 1/2)\")\n",
    "        print(Election_Case_1.responsibility(X,X_index,True,A_victory))"
   ]
  },
  {
   "cell_type": "markdown",
   "metadata": {},
   "source": [
    "## Example (Influence Check): Case 1\n",
    "### Say we have F(P,Q) = P and Q"
   ]
  },
  {
   "cell_type": "code",
   "execution_count": 154,
   "metadata": {},
   "outputs": [],
   "source": [
    "U = [True, True]\n",
    "V = [True,True,True]\n",
    "R = [(False,True) for i in range(3)]\n",
    "def p_and_q(U,V):\n",
    "    return V[0] and V[1]\n",
    "F = [None, None,p_and_q]\n",
    "Inf_Case_1 = Causal_Model(U,V,R,F)"
   ]
  },
  {
   "cell_type": "code",
   "execution_count": 155,
   "metadata": {},
   "outputs": [
    {
     "name": "stdout",
     "output_type": "stream",
     "text": [
      "Testing Causality of P (Expected: True)\n",
      "True\n"
     ]
    }
   ],
   "source": [
    "X = [True]\n",
    "X_index = [0]\n",
    "print(\"Testing Causality of P (Expected: True)\")\n",
    "print(Inf_Case_1.causality_check(X,X_index,True,p_and_q))"
   ]
  },
  {
   "cell_type": "code",
   "execution_count": 156,
   "metadata": {},
   "outputs": [
    {
     "name": "stdout",
     "output_type": "stream",
     "text": [
      "Testing Responsibility of P (Expected: 1)\n",
      "1.0\n"
     ]
    }
   ],
   "source": [
    "print(\"Testing Responsibility of P (Expected: 1)\")\n",
    "print(Inf_Case_1.responsibility(X,X_index,True,p_and_q))"
   ]
  },
  {
   "cell_type": "code",
   "execution_count": 157,
   "metadata": {},
   "outputs": [
    {
     "name": "stdout",
     "output_type": "stream",
     "text": [
      "Testing Influence of P (Expected: 1)\n",
      "1.0\n"
     ]
    }
   ],
   "source": [
    "print(\"Testing Influence of P (Expected: 1)\")\n",
    "print(Inf_Case_1.influence(X,X_index,1,True,p_and_q))"
   ]
  },
  {
   "cell_type": "markdown",
   "metadata": {},
   "source": [
    "## Example (Influence Check): Case 2\n",
    "### Say we have F(P,Q) = P or Q"
   ]
  },
  {
   "cell_type": "code",
   "execution_count": 158,
   "metadata": {},
   "outputs": [],
   "source": [
    "U = [True, True]\n",
    "V = [True,True,True]\n",
    "R = [(False,True) for i in range(3)]\n",
    "def p_or_q(U,V):\n",
    "    return V[0] or V[1]\n",
    "F = [None, None,p_or_q]\n",
    "Inf_Case_2 = Causal_Model(U,V,R,F)"
   ]
  },
  {
   "cell_type": "code",
   "execution_count": 159,
   "metadata": {},
   "outputs": [
    {
     "name": "stdout",
     "output_type": "stream",
     "text": [
      "Testing Causality of P (Expected: True)\n",
      "True\n"
     ]
    }
   ],
   "source": [
    "X = [True]\n",
    "X_index = [0]\n",
    "print(\"Testing Causality of P (Expected: True)\")\n",
    "print(Inf_Case_2.causality_check(X,X_index,True,p_or_q))"
   ]
  },
  {
   "cell_type": "code",
   "execution_count": 160,
   "metadata": {},
   "outputs": [
    {
     "name": "stdout",
     "output_type": "stream",
     "text": [
      "Testing Responsibility of P (Expected: 1/2)\n",
      "0.5\n"
     ]
    }
   ],
   "source": [
    "print(\"Testing Responsibility of P (Expected: 1/2)\")\n",
    "print(Inf_Case_2.responsibility(X,X_index,True,p_or_q))"
   ]
  },
  {
   "cell_type": "code",
   "execution_count": 161,
   "metadata": {},
   "outputs": [
    {
     "name": "stdout",
     "output_type": "stream",
     "text": [
      "Testing Influence of P (Expected: 1/2)\n",
      "0.5\n"
     ]
    }
   ],
   "source": [
    "print(\"Testing Influence of P (Expected: 1/2)\")\n",
    "print(Inf_Case_2.influence(X,X_index,1,True,p_or_q))"
   ]
  },
  {
   "cell_type": "markdown",
   "metadata": {},
   "source": [
    "## Example: Electoral College\n",
    "### Say we have Democrat Pres. elected by one-vote. If we use a narrow model of assigning a vote (T = Dem, F=Republican), then we get equal responsibility between states\n",
    "### We want to see responsibility given true electoral votes\n",
    "### Here CA has 55 votes, NJ has 14 votes"
   ]
  },
  {
   "cell_type": "code",
   "execution_count": 162,
   "metadata": {},
   "outputs": [
    {
     "name": "stdout",
     "output_type": "stream",
     "text": [
      "Num of EC Votes (in scenario): 270\n",
      "Num of votes needed for tie: 135\n"
     ]
    }
   ],
   "source": [
    "\"\"\"Order: CA,TX,FL,NY,IL,PA,OH,GA,MI,NC,NJ, (Shortened for comp purposes)\"\"\"\n",
    "EC_votes = [55,38,29,29,20,20,18,16,16,15,14]\n",
    "print(\"Num of EC Votes (in scenario): \" + str(int(sum(EC_votes))))\n",
    "print(\"Num of votes needed for tie: \" + str(int(sum(EC_votes)/2)))"
   ]
  },
  {
   "cell_type": "code",
   "execution_count": 163,
   "metadata": {},
   "outputs": [],
   "source": [
    "#U = some relevant exogenous var(e.g. every state's election is not rigged)\n",
    "# V = the votes for each state, following EC_votes ordering and upholding scenario (Dem win by 1 vote)\n",
    "# Assumes: True = Vote for Dem. ; False = Vote for Rep.\n",
    "U = [True for i in range(11)]\n",
    "V = [True,False,True,False,True,False,True,False,False,False,True,True,False]\n",
    "R = [(False,True) for i in range(len(V))]\n",
    "#Counts the votes and excludes last 2 elem of V which corresp to Dem_win, Rep_win\n",
    "def dem_win(U,V):\n",
    "    true_vote_idx = [i for i in range(len(V[0:-2])) if V[i] == True]\n",
    "    num_votes = sum([EC_votes[i] for i in true_vote_idx])\n",
    "    return num_votes > (int(sum(EC_votes)/2))\n",
    "F = [None for i in range(len(U))] + [dem_win, not dem_win]\n",
    "EC_model = Causal_Model(U,V,R,F)"
   ]
  },
  {
   "cell_type": "code",
   "execution_count": 164,
   "metadata": {},
   "outputs": [
    {
     "name": "stdout",
     "output_type": "stream",
     "text": [
      "Testing Causality of CA (Expected: True)\n",
      "True\n"
     ]
    }
   ],
   "source": [
    "X = [True]\n",
    "X_index= [0]\n",
    "print(\"Testing Causality of CA (Expected: True)\")\n",
    "print(EC_model.causality_check(X,X_index,True,dem_win))"
   ]
  },
  {
   "cell_type": "code",
   "execution_count": 165,
   "metadata": {},
   "outputs": [
    {
     "name": "stdout",
     "output_type": "stream",
     "text": [
      "Responsibility of CA: (Expected: 1)\n",
      "1.0\n"
     ]
    }
   ],
   "source": [
    "print(\"Responsibility of CA: (Expected: 1)\")\n",
    "ca_res = EC_model.responsibility(X,X_index,True,dem_win)\n",
    "print(ca_res)"
   ]
  },
  {
   "cell_type": "code",
   "execution_count": 166,
   "metadata": {},
   "outputs": [
    {
     "name": "stdout",
     "output_type": "stream",
     "text": [
      "Influence of CA\n",
      "0.8828125\n"
     ]
    }
   ],
   "source": [
    "print(\"Influence of CA\")\n",
    "ca_inf = EC_model.influence(X,X_index,2,True,dem_win)\n",
    "print(ca_inf)"
   ]
  },
  {
   "cell_type": "code",
   "execution_count": 167,
   "metadata": {},
   "outputs": [
    {
     "name": "stdout",
     "output_type": "stream",
     "text": [
      "Testing Causality of NJ (Expected: True)\n",
      "True\n"
     ]
    }
   ],
   "source": [
    "X = [True]\n",
    "X_index= [10]\n",
    "print(\"Testing Causality of NJ (Expected: True)\")\n",
    "print(EC_model.causality_check(X,X_index,True,dem_win))"
   ]
  },
  {
   "cell_type": "code",
   "execution_count": 168,
   "metadata": {},
   "outputs": [
    {
     "name": "stdout",
     "output_type": "stream",
     "text": [
      "Responsibility of NJ: (Expected: 1)\n",
      "1.0\n"
     ]
    }
   ],
   "source": [
    "print(\"Responsibility of NJ: (Expected: 1)\")\n",
    "nj_res = EC_model.responsibility(X,X_index,True,dem_win)\n",
    "print(nj_res)"
   ]
  },
  {
   "cell_type": "code",
   "execution_count": 169,
   "metadata": {},
   "outputs": [
    {
     "name": "stdout",
     "output_type": "stream",
     "text": [
      "Influence of NJ (Expect < CA)\n",
      "0.615234375\n"
     ]
    }
   ],
   "source": [
    "print(\"Influence of NJ (Expect < CA)\")\n",
    "nj_inf = EC_model.influence(X,X_index,2,True,dem_win)\n",
    "print(nj_inf)"
   ]
  },
  {
   "cell_type": "code",
   "execution_count": 170,
   "metadata": {},
   "outputs": [
    {
     "name": "stdout",
     "output_type": "stream",
     "text": [
      "Weighted Responsibility for CA (inf*res)\n",
      "0.8828125\n"
     ]
    }
   ],
   "source": [
    "print(\"Weighted Responsibility for CA (inf*res)\")\n",
    "print(str(ca_inf*ca_res))"
   ]
  },
  {
   "cell_type": "code",
   "execution_count": 171,
   "metadata": {},
   "outputs": [
    {
     "name": "stdout",
     "output_type": "stream",
     "text": [
      "Weighted Responsibility for NJ (inf*res)\n",
      "0.615234375\n"
     ]
    }
   ],
   "source": [
    "print(\"Weighted Responsibility for NJ (inf*res)\")\n",
    "print(str(nj_inf*nj_res))"
   ]
  },
  {
   "cell_type": "code",
   "execution_count": 172,
   "metadata": {},
   "outputs": [],
   "source": [
    "#Smaller example, testing what happens if we encode the votes in V instead of just 1 for each state\n",
    "# CA,NJ,TX (fictious example)\n",
    "EC_vote2 = [3,2,2]\n",
    "def dem_win(U,V):\n",
    "    return sum([1 for i in V if i == True]) >= 4\n",
    "U = [True for i in range(3)]\n",
    "V = [False for i in range(3)] + [True for i in range(4)] + [True,False]\n",
    "R = [(False,True) for i in range(9)]\n",
    "F = [None for i in range(7)] + [dem_win,not dem_win]\n",
    "EC2 = Causal_Model(U,V,R,F)"
   ]
  },
  {
   "cell_type": "code",
   "execution_count": 173,
   "metadata": {},
   "outputs": [
    {
     "name": "stdout",
     "output_type": "stream",
     "text": [
      "Testing Causality of NJ (Expected: True)\n",
      "True\n"
     ]
    }
   ],
   "source": [
    "X = [True,True]\n",
    "X_index= [3,4]\n",
    "print(\"Testing Causality of NJ (Expected: True)\")\n",
    "print(EC2.causality_check(X,X_index,True,dem_win))"
   ]
  },
  {
   "cell_type": "code",
   "execution_count": 110,
   "metadata": {},
   "outputs": [
    {
     "name": "stdout",
     "output_type": "stream",
     "text": [
      "Testing Responsibility of NJ (Expected: 1)\n",
      "1.0\n"
     ]
    }
   ],
   "source": [
    "print(\"Testing Responsibility of NJ (Expected: 1)\")\n",
    "print(EC2.responsibility(X,X_index,True,dem_win))"
   ]
  },
  {
   "cell_type": "code",
   "execution_count": 111,
   "metadata": {},
   "outputs": [
    {
     "name": "stdout",
     "output_type": "stream",
     "text": [
      "Testing Influence of NJ (Expected: >0)\n",
      "0.8125\n"
     ]
    }
   ],
   "source": [
    "print(\"Testing Influence of NJ (Expected: >0)\")\n",
    "print(EC2.influence(X,X_index,2,True,dem_win))"
   ]
  },
  {
   "cell_type": "code",
   "execution_count": 112,
   "metadata": {},
   "outputs": [
    {
     "name": "stdout",
     "output_type": "stream",
     "text": [
      "Testing Influence of TX (Expected: >0)\n",
      "0.8125\n"
     ]
    }
   ],
   "source": [
    "X = [True,True]\n",
    "X_index= [5,6]\n",
    "print(\"Testing Influence of TX (Expected: >0)\")\n",
    "print(EC2.influence(X,X_index,2,True,dem_win))"
   ]
  },
  {
   "cell_type": "code",
   "execution_count": 113,
   "metadata": {},
   "outputs": [],
   "source": [
    "#Smaller example, testing what happens if we encode the votes in V instead of just 1 for each state\n",
    "# CA,NJ,TX (fictious example)\n",
    "EC_vote2 = [3,2,2]\n",
    "def dem_win(U,V):\n",
    "    return sum([1 for i in V if i == True]) >= 4\n",
    "U = [True for i in range(3)]\n",
    "V = [True for i in range(5)] + [False for i in range(2)] + [True,False]\n",
    "R = [(False,True) for i in range(9)]\n",
    "F = [None for i in range(7)] + [dem_win,not dem_win]\n",
    "EC2 = Causal_Model(U,V,R,F)"
   ]
  },
  {
   "cell_type": "code",
   "execution_count": 114,
   "metadata": {},
   "outputs": [
    {
     "name": "stdout",
     "output_type": "stream",
     "text": [
      "Testing Causality of NJ (Expected: True)\n",
      "True\n"
     ]
    }
   ],
   "source": [
    "X = [True,True]\n",
    "X_index= [3,4]\n",
    "print(\"Testing Causality of NJ (Expected: True)\")\n",
    "print(EC2.causality_check(X,X_index,True,dem_win))"
   ]
  },
  {
   "cell_type": "code",
   "execution_count": 115,
   "metadata": {},
   "outputs": [
    {
     "name": "stdout",
     "output_type": "stream",
     "text": [
      "Testing Causality of CA (Expected: True)\n",
      "(False b/c of AC3)\n",
      "False\n"
     ]
    }
   ],
   "source": [
    "X = [True,True,True]\n",
    "X_index= [0,1,2]\n",
    "print(\"Testing Causality of CA (Expected: True)\")\n",
    "print(EC2.causality_check(X,X_index,True,dem_win))"
   ]
  },
  {
   "cell_type": "markdown",
   "metadata": {},
   "source": [
    "# Question: \n",
    "## Causality -> Resp but Causality not needed for influence, would merging the two be an issue?"
   ]
  },
  {
   "cell_type": "code",
   "execution_count": null,
   "metadata": {},
   "outputs": [],
   "source": []
  },
  {
   "cell_type": "code",
   "execution_count": null,
   "metadata": {},
   "outputs": [],
   "source": []
  },
  {
   "cell_type": "code",
   "execution_count": null,
   "metadata": {},
   "outputs": [],
   "source": []
  },
  {
   "cell_type": "code",
   "execution_count": null,
   "metadata": {},
   "outputs": [],
   "source": []
  },
  {
   "cell_type": "code",
   "execution_count": null,
   "metadata": {},
   "outputs": [],
   "source": []
  },
  {
   "cell_type": "code",
   "execution_count": null,
   "metadata": {},
   "outputs": [],
   "source": []
  }
 ],
 "metadata": {
  "kernelspec": {
   "display_name": "Python 3",
   "language": "python",
   "name": "python3"
  },
  "language_info": {
   "codemirror_mode": {
    "name": "ipython",
    "version": 3
   },
   "file_extension": ".py",
   "mimetype": "text/x-python",
   "name": "python",
   "nbconvert_exporter": "python",
   "pygments_lexer": "ipython3",
   "version": "3.7.1"
  }
 },
 "nbformat": 4,
 "nbformat_minor": 2
}
